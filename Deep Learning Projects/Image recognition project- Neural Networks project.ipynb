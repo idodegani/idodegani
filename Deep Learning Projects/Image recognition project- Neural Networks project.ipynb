{
 "cells": [
  {
   "cell_type": "markdown",
   "id": "67aa3791",
   "metadata": {
    "id": "67aa3791"
   },
   "source": [
    "Deep Learning Neural Networks project - CIFAR-10 Image recognition project Ido Degani"
   ]
  },
  {
   "cell_type": "markdown",
   "id": "f128df4e",
   "metadata": {
    "id": "f128df4e"
   },
   "source": [
    "# Question 1, part A \n",
    "Your task is to explore performance of several neural network architectures. Choose\n",
    "combinations of fully connected, convolutional, dropout, max pooling and batch\n",
    "normalization layers. Compare rates of training and inference (time per sample) and\n",
    "accuracy on train, validation, and test sets. Present your results in informative, simple to\n",
    "understand and visually appealing manner (e.g. summary table or graphs). Explain your\n",
    "conclusions (briefly). "
   ]
  },
  {
   "cell_type": "markdown",
   "id": "5bcbdb83",
   "metadata": {
    "id": "5bcbdb83"
   },
   "source": [
    "## Choose neural network architectures"
   ]
  },
  {
   "cell_type": "markdown",
   "id": "66d37350",
   "metadata": {
    "id": "66d37350"
   },
   "source": [
    "#### Data setup & Import"
   ]
  },
  {
   "cell_type": "code",
   "execution_count": 3,
   "id": "496d1a60",
   "metadata": {
    "id": "496d1a60"
   },
   "outputs": [],
   "source": [
    "# Import necessary libraries\n",
    "import imageio\n",
    "import matplotlib\n",
    "import matplotlib.pyplot as plt\n",
    "import torch\n",
    "import torchvision\n",
    "import os\n",
    "import random\n",
    "import numpy as np\n",
    "import pandas as pd\n",
    "import math\n",
    "from PIL import Image \n",
    "import seaborn as sns\n",
    "import time\n",
    "import sys\n",
    "\n",
    "# Suppress OpenMP related warnings\n",
    "os.environ[\"KMP_WARNINGS\"] = \"0\"\n",
    "\n",
    "# Import libraries for data preprocessing and evaluation\n",
    "from sklearn.metrics import confusion_matrix\n",
    "from sklearn.preprocessing import MinMaxScaler \n",
    "from sklearn.preprocessing import StandardScaler \n",
    "\n",
    "# Import libraries for data splitting and evaluation metrics\n",
    "from sklearn.model_selection import train_test_split\n",
    "from sklearn.metrics import mean_squared_error\n",
    "from sklearn.metrics import accuracy_score\n",
    "from sklearn.metrics import r2_score\n",
    "\n",
    "# Initialize PyTorch and set device to use GPU if available\n",
    "import torch\n",
    "import torch.nn as nn\n",
    "import torch.nn.functional as F\n",
    "device = torch.device(\"cuda\" if torch.cuda.is_available() else \"cpu\")\n"
   ]
  },
  {
   "cell_type": "markdown",
   "id": "5cfe4b72",
   "metadata": {
    "id": "5cfe4b72"
   },
   "source": [
    "#### import the data:"
   ]
  },
  {
   "cell_type": "code",
   "execution_count": 4,
   "id": "61011d25",
   "metadata": {
    "colab": {
     "base_uri": "https://localhost:8080/",
     "height": 101,
     "referenced_widgets": [
      "3d55dc9362f449b3b1ec0d5ff3e270e0",
      "86b5be6376024019bb9da2f72d8eb5fc",
      "7d3fbc954d2a4d65b75cc3ce8f5c8918",
      "f716082f32e84b59ada3e138e252975c",
      "54d6caead95a460b999c1b982336bcc8",
      "54276a8909a2436386aa8cbb5793b5c0",
      "89dcaacb0d254f88901c1285c076ec86",
      "27b83e61918a40e498300ce84bc50802",
      "35f232cd158246fb8498c94fc86ec5c4",
      "488aee2fa1a247648a2878df02b97d0b",
      "30bdbe88e6a44dfa9d0a7f362976e0c2"
     ]
    },
    "id": "61011d25",
    "outputId": "3c14e4d3-797f-4561-e92d-193b4eebd8b1",
    "scrolled": true
   },
   "outputs": [
    {
     "name": "stdout",
     "output_type": "stream",
     "text": [
      "Downloading https://www.cs.toronto.edu/~kriz/cifar-10-python.tar.gz to ./data/cifar-10-python.tar.gz\n"
     ]
    },
    {
     "data": {
      "application/vnd.jupyter.widget-view+json": {
       "model_id": "3d55dc9362f449b3b1ec0d5ff3e270e0",
       "version_major": 2,
       "version_minor": 0
      },
      "text/plain": [
       "  0%|          | 0/170498071 [00:00<?, ?it/s]"
      ]
     },
     "metadata": {},
     "output_type": "display_data"
    },
    {
     "name": "stdout",
     "output_type": "stream",
     "text": [
      "Extracting ./data/cifar-10-python.tar.gz to ./data\n",
      "Files already downloaded and verified\n"
     ]
    }
   ],
   "source": [
    "\n",
    "# Download and load CIFAR-10 train and test datasets\n",
    "training_cifar_data = torchvision.datasets.CIFAR10(root=\"./data\", train=True, download=True)\n",
    "testing_cifar_data = torchvision.datasets.CIFAR10(root=\"./data\", train=False, download=True)"
   ]
  },
  {
   "cell_type": "markdown",
   "id": "2ab9c30c",
   "metadata": {
    "id": "2ab9c30c"
   },
   "source": [
    "#### splitting the data to train & test:"
   ]
  },
  {
   "cell_type": "code",
   "execution_count": 5,
   "id": "604429d7",
   "metadata": {
    "id": "604429d7"
   },
   "outputs": [],
   "source": [
    "# Extract data and labels from CIFAR-10 train and test datasets\n",
    "x_train = training_cifar_data.data\n",
    "y_train = training_cifar_data.targets\n",
    "x_test = testing_cifar_data.data\n",
    "y_test = testing_cifar_data.targets\n"
   ]
  },
  {
   "cell_type": "markdown",
   "id": "4fa71fc7",
   "metadata": {
    "id": "4fa71fc7"
   },
   "source": [
    "#### reshaping the data:"
   ]
  },
  {
   "cell_type": "code",
   "execution_count": 6,
   "id": "7b5d5cde",
   "metadata": {
    "id": "7b5d5cde"
   },
   "outputs": [],
   "source": [
    "# Reshape CIFAR-10 train and test data from (n_samples, height, width, n_channels) to (n_samples, n_channels, height, width)\n",
    "X_train = x_train.reshape(-1, 3, 32, 32)\n",
    "X_test = x_test.reshape(-1, 3, 32, 32)\n"
   ]
  },
  {
   "cell_type": "markdown",
   "id": "b902d969",
   "metadata": {
    "id": "b902d969"
   },
   "source": [
    "#### changing the data to tensor:"
   ]
  },
  {
   "cell_type": "code",
   "execution_count": 7,
   "id": "741533ce",
   "metadata": {
    "id": "741533ce"
   },
   "outputs": [],
   "source": [
    "# Convert the CIFAR-10 training and test data to PyTorch tensors\n",
    "X_train_t = torch.tensor(X_train, dtype=torch.uint8)  # Convert the training data to PyTorch tensor and specify the data type as 8-bit unsigned integer\n",
    "X_test_t = torch.tensor(X_test, dtype=torch.uint8)    # Convert the test data to PyTorch tensor and specify the data type as 8-bit unsigned integer\n",
    "\n",
    "# Convert the CIFAR-10 training and test labels to PyTorch tensors\n",
    "y_train_t = torch.tensor(y_train, dtype=torch.uint8)  # Convert the training labels to PyTorch tensor and specify the data type as 8-bit unsigned integer\n",
    "y_test_t = torch.tensor(y_test, dtype=torch.uint8)    # Convert the test labels to PyTorch tensor and specify the data type as 8-bit unsigned integer\n"
   ]
  },
  {
   "cell_type": "markdown",
   "id": "73560fed",
   "metadata": {
    "id": "73560fed"
   },
   "source": [
    "#### Creating validation dataset:"
   ]
  },
  {
   "cell_type": "code",
   "execution_count": 8,
   "id": "7b045a98",
   "metadata": {
    "colab": {
     "base_uri": "https://localhost:8080/",
     "height": 70
    },
    "id": "7b045a98",
    "outputId": "14d27da2-d69f-4091-d718-ad6933086bc4"
   },
   "outputs": [
    {
     "data": {
      "application/vnd.google.colaboratory.intrinsic+json": {
       "type": "string"
      },
      "text/plain": [
       "'\\nThe train_test_split function randomly splits the CIFAR-10 training data and labels into training and validation sets.\\nThe test_size parameter specifies the size of the validation set as a fraction of the training data.\\nThe shuffle parameter specifies whether to shuffle the data before splitting it.\\nThe random_state parameter ensures that the randomization is consistent across runs.\\n'"
      ]
     },
     "execution_count": 8,
     "metadata": {},
     "output_type": "execute_result"
    }
   ],
   "source": [
    "# Split the CIFAR-10 training data and labels into training and validation sets using scikit-learn's train_test_split function\n",
    "X_train_t, X_validation_t, y_train_t, y_validation_t = train_test_split(X_train_t, y_train_t, test_size=0.05, \n",
    "                                                                        shuffle=True, random_state=23)\n",
    "\"\"\"\n",
    "The train_test_split function randomly splits the CIFAR-10 training data and labels into training and validation sets.\n",
    "The test_size parameter specifies the size of the validation set as a fraction of the training data.\n",
    "The shuffle parameter specifies whether to shuffle the data before splitting it.\n",
    "The random_state parameter ensures that the randomization is consistent across runs.\n",
    "\"\"\"\n"
   ]
  },
  {
   "cell_type": "markdown",
   "id": "0c39143d",
   "metadata": {
    "id": "0c39143d"
   },
   "source": [
    "#### normalizing the data:"
   ]
  },
  {
   "cell_type": "code",
   "execution_count": 9,
   "id": "a179ea93",
   "metadata": {
    "colab": {
     "base_uri": "https://localhost:8080/",
     "height": 53
    },
    "id": "a179ea93",
    "outputId": "c8d64f5c-7dd1-4128-bc31-1523cbacb183"
   },
   "outputs": [
    {
     "data": {
      "application/vnd.google.colaboratory.intrinsic+json": {
       "type": "string"
      },
      "text/plain": [
       "'\\nNormalization is an important preprocessing step in deep learning to ensure that the data is on the same scale and the model can learn from the data more effectively. \\nHere, we normalize the data by dividing each pixel value by 255 so that the values range from 0 to 1. \\n'"
      ]
     },
     "execution_count": 9,
     "metadata": {},
     "output_type": "execute_result"
    }
   ],
   "source": [
    "# Normalize the CIFAR-10 training, validation and test data by dividing each pixel value by 255\n",
    "X_data_normalized = X_train_t.to(dtype=torch.float32) / 255              # Convert the data type to float32 and divide by 255\n",
    "X_validation_normalized = X_validation_t.to(dtype=torch.float32) / 255  # Convert the data type to float32 and divide by 255\n",
    "X_test_normalized = X_test_t.to(dtype=torch.float32) / 255                # Convert the data type to float32 and divide by 255\n",
    "\"\"\"\n",
    "Normalization is an important preprocessing step in deep learning to ensure that the data is on the same scale and the model can learn from the data more effectively. \n",
    "Here, we normalize the data by dividing each pixel value by 255 so that the values range from 0 to 1. \n",
    "\"\"\"\n"
   ]
  },
  {
   "cell_type": "markdown",
   "id": "152b02d7",
   "metadata": {
    "id": "152b02d7"
   },
   "source": [
    "#### Define the first architecture"
   ]
  },
  {
   "cell_type": "code",
   "execution_count": 10,
   "id": "36d947b8",
   "metadata": {
    "id": "36d947b8"
   },
   "outputs": [],
   "source": [
    "class NeuralNetwork1(nn.Module):\n",
    "    \"\"\"Neural network model with customizable input, hidden, and output layers.\n",
    "\n",
    "    Args:\n",
    "    input_layer (list of ints): dimensions of the input layer.\n",
    "    layers (list of ints): dimensions of the hidden layers.\n",
    "    output_layer (list of ints): dimensions of the output layer.\n",
    "    drop_out (bool): whether to use dropout regularization.\n",
    "    batch_norm (bool): whether to use batch normalization.\n",
    "\n",
    "    Returns:\n",
    "    torch.Tensor: output logits from the neural network.\n",
    "    \"\"\"\n",
    "\n",
    "    def __init__(self, input_layer=[3*32*32], layers=[512, 256], output_layer=[10], drop_out=False, batch_norm=False):\n",
    "        super(NeuralNetwork1, self).__init__()\n",
    "\n",
    "        # Flatten the input tensor.\n",
    "        self.flatten = torch.nn.Flatten()\n",
    "        self.input_layer = input_layer[0]\n",
    "        \n",
    "        # Combine the input, hidden, and output layers.\n",
    "        layers = input_layer + layers + output_layer\n",
    "        \n",
    "        layers_list = []\n",
    "        \n",
    "        # Iterate through each layer.\n",
    "        for i in range(1, len(layers)):\n",
    "            # Add a linear layer.\n",
    "            layers_list.append(torch.nn.Linear(layers[i-1], layers[i]))\n",
    "            \n",
    "            # Add a ReLU activation function for all layers except the output layer.\n",
    "            if i < len(layers)-1:\n",
    "                layers_list.append(torch.nn.ReLU())\n",
    "                \n",
    "                # Add dropout regularization if specified.\n",
    "                if drop_out:\n",
    "                    layers_list.append(torch.nn.Dropout(drop_out))\n",
    "                    \n",
    "                # Add batch normalization if specified.\n",
    "                if batch_norm:\n",
    "                    layers_list.append(torch.nn.BatchNorm1d(layers[i]))\n",
    "\n",
    "        # Add a log-softmax activation function for the output layer.\n",
    "        layers_list.append(torch.nn.LogSoftmax())\n",
    "        \n",
    "        # Combine all layers into a sequential module.\n",
    "        self.layers_stack = torch.nn.Sequential(*layers_list)\n",
    "        self.layers = layers_list \n",
    "        \n",
    "    def forward(self, x):\n",
    "        \"\"\"Computes the forward pass through the neural network.\n",
    "\n",
    "        Args:\n",
    "        x (torch.Tensor): input tensor.\n",
    "\n",
    "        Returns:\n",
    "        torch.Tensor: output logits from the neural network.\n",
    "        \"\"\"\n",
    "        # Flatten the input tensor.\n",
    "        x = x.view(-1, self.input_layer)\n",
    "        \n",
    "        # Compute the forward pass.\n",
    "        logits = self.layers_stack(x)\n",
    "        \n",
    "        return logits\n"
   ]
  },
  {
   "cell_type": "markdown",
   "id": "3faf5342",
   "metadata": {
    "id": "3faf5342"
   },
   "source": [
    "#### Define the seconed architecture"
   ]
  },
  {
   "cell_type": "code",
   "execution_count": 11,
   "id": "5a34f03f",
   "metadata": {
    "id": "5a34f03f"
   },
   "outputs": [],
   "source": [
    "class NeuralNetwork2(torch.nn.Module):\n",
    "    \"\"\"Convolutional neural network with customizable convolutional and fully connected layers.\n",
    "\n",
    "    Args:\n",
    "    C_in (int): number of input channels.\n",
    "    H_in (int): height of input images.\n",
    "    W_in (int): width of input images.\n",
    "    layers (list of ints): dimensions of the fully connected layers.\n",
    "    output_layer (list of ints): dimensions of the output layer.\n",
    "    drop_out (bool): whether to use dropout regularization.\n",
    "    batch_norm (bool): whether to use batch normalization.\n",
    "\n",
    "    Returns:\n",
    "    torch.Tensor: output logits from the convolutional neural network.\n",
    "    \"\"\"\n",
    "\n",
    "    def __init__(self, C_in=3, H_in=32, W_in=32, layers=[512, 256], output_layer=[10], drop_out=False, batch_norm=False):\n",
    "        super(NeuralNetwork2, self).__init__()\n",
    "\n",
    "        self.C_in = C_in\n",
    "        self.H_in = H_in\n",
    "        self.W_in = W_in\n",
    "        \n",
    "        # Define the convolutional layers.\n",
    "        conv1 = torch.nn.Conv2d(in_channels=C_in, out_channels=20, kernel_size=4, padding=1)\n",
    "        relu1 = torch.nn.ReLU()\n",
    "        \n",
    "        # Compute the output shape of the first convolutional layer.\n",
    "        out_channels_conv1, H_out_conv1, W_out_conv1 = convolutional_output_tensor_shape(conv_layer=conv1, H_in=H_in, W_in=W_in, verbose=False)\n",
    "        \n",
    "        conv2 = torch.nn.Conv2d(in_channels=conv1.out_channels, out_channels=4, kernel_size=5, padding=2)\n",
    "        relu2 = torch.nn.ReLU()\n",
    "\n",
    "        # Compute the output shape of the second convolutional layer.\n",
    "        out_channels_conv2, H_out_conv2, W_out_conv2 = convolutional_output_tensor_shape(conv_layer=conv2, H_in=H_out_conv1, W_in=W_out_conv1, verbose=False)\n",
    "\n",
    "        conv_layers_list = [conv1, relu1, conv2, relu2]\n",
    "        self.conv_layers = conv_layers_list\n",
    "        self.conv_layers_stack = torch.nn.Sequential(*conv_layers_list) #this will enable getting params that can be trained\n",
    "        \n",
    "        input_layer_for_fully_connected_layer_1 = [out_channels_conv2*H_out_conv2*W_out_conv2]\n",
    "        layers = input_layer_for_fully_connected_layer_1 + layers + output_layer # default: 3072x512x256x10        \n",
    "        \n",
    "        layers_list = []\n",
    "        \n",
    "        # Iterate through each layer.\n",
    "        for i in range(1, len(layers)):\n",
    "            # Add a linear layer.\n",
    "            layers_list.append(torch.nn.Linear(layers[i-1], layers[i]))\n",
    "            \n",
    "            # Add a ReLU activation function for all layers except the output layer.\n",
    "            if i < len(layers)-1:\n",
    "                layers_list.append(torch.nn.ReLU())\n",
    "                \n",
    "                # Add dropout regularization if specified.\n",
    "                if drop_out:\n",
    "                    layers_list.append(torch.nn.Dropout(drop_out))\n",
    "                    \n",
    "                # Add batch normalization if specified.\n",
    "                if batch_norm:\n",
    "                    layers_list.append(torch.nn.BatchNorm1d(layers[i]))\n",
    "\n",
    "        # Add a log-softmax activation function for the output layer.\n",
    "        layers_list.append(torch.nn.LogSoftmax())\n",
    "        \n",
    "        # Combine all layers into a sequential module.\n",
    "        self.layers_stack = torch.nn.Sequential(*layers_list)\n",
    "        self.layers = layers_list \n",
    "        \n",
    "    def forward(self, x):\n",
    "        \"\"\"Computes the forward pass through the convolutional neural network.\n",
    "\n",
    "        Args:\n",
    "        x (torch.Tensor): input tensor.\n",
    "\n",
    "        Returns:\n",
    "        torch.Tensor: output logits from the convolutional neural network.\n",
    "        \"\"\"\n",
    "        # Reshape the input tensor to a 4D tensor.\n",
    "        x = x.view(-1, self.C_in, self.H_in, self.W_in)\n",
    "        batch_size = x.shape[0] \n",
    "\n",
    "        # Compute the forward pass through the convolutional layers.\n",
    "        x = self.conv_layers_stack(x)\n",
    "        \n",
    "        # Flatten the output tensor.\n",
    "        x = x.view(batch_size, -1)\n",
    "        \n",
    "        # Compute the forward pass through the fully connected layers.\n",
    "        logits = self.layers_stack(x)\n",
    "        \n",
    "        return logits\n"
   ]
  },
  {
   "cell_type": "code",
   "execution_count": 12,
   "id": "c5d4ba5f",
   "metadata": {
    "id": "c5d4ba5f"
   },
   "outputs": [],
   "source": [
    "def convolutional_output_tensor_shape(conv_layer, H_in=32, W_in=32, verbose=True):\n",
    "    \"\"\"Computes the output shape after applying a convolutional layer to an input tensor.\n",
    "\n",
    "    Args:\n",
    "    conv_layer (torch.nn.Conv2d): convolutional layer.\n",
    "    H_in (int): height of input tensor.\n",
    "    W_in (int): width of input tensor.\n",
    "    verbose (bool): whether to print the output shape.\n",
    "\n",
    "    Returns:\n",
    "    tuple: number of output channels, output height, output width.\n",
    "    \"\"\"\n",
    "    out_channels = conv_layer.out_channels\n",
    "    in_channels = conv_layer.in_channels\n",
    "    kernel_size = conv_layer.kernel_size\n",
    "    stride = conv_layer.stride\n",
    "    padding = conv_layer.padding\n",
    "    dilation = conv_layer.dilation\n",
    "    \n",
    "    H_out = math.floor(((H_in + 2*padding[0] - dilation[0]*(kernel_size[0] - 1) - 1)/stride[0]) + 1)\n",
    "    W_out = math.floor(((W_in + 2*padding[1] - dilation[1]*(kernel_size[1] - 1) - 1)/stride[1]) + 1)\n",
    "    \n",
    "    if verbose:\n",
    "        print(f\"Input Channels = {in_channels} | Output Channels = {out_channels}\")\n",
    "        print(f\"Output shape: num_images X {out_channels} X {H_out} X {W_out}\")\n",
    "    \n",
    "    return out_channels, H_out, W_out\n",
    "\n",
    "\n",
    "def convolutional_maxpooling_output_shape(conv_layer, maxpoolayer, H_in=32, W_in=32, verbose=True):\n",
    "    \"\"\"Computes the output shape after applying a convolutional layer and max pooling layer to an input tensor.\n",
    "\n",
    "    Args:\n",
    "    conv_layer (torch.nn.Conv2d): convolutional layer.\n",
    "    maxpoolayer (torch.nn.MaxPool2d): max pooling layer.\n",
    "    H_in (int): height of input tensor.\n",
    "    W_in (int): width of input tensor.\n",
    "    verbose (bool): whether to print the output shape.\n",
    "\n",
    "    Returns:\n",
    "    tuple: number of output channels, output height, output width.\n",
    "    \"\"\"\n",
    "    out_channels = conv_layer.out_channels\n",
    "    in_channels = conv_layer.in_channels\n",
    "    kernel_size = conv_layer.kernel_size\n",
    "    stride = conv_layer.stride\n",
    "    padding = conv_layer.padding\n",
    "    dilation = conv_layer.dilation\n",
    "    H_out_conv = math.floor(((H_in + 2*padding[0] - dilation[0]*(kernel_size[0] - 1) - 1)/stride[0]) + 1)\n",
    "    W_out_conv = math.floor(((W_in + 2*padding[1] - dilation[1]*(kernel_size[1] - 1) - 1)/stride[1]) + 1)\n",
    "    \n",
    "    kernel_size_pool = maxpoolayer.kernel_size\n",
    "    stride_pool = maxpoolayer.stride\n",
    "    padding_pool = maxpoolayer.padding\n",
    "    dilation_pool = maxpoolayer.dilation\n",
    "    H_out_pool = math.floor(((H_out_conv + 2*padding_pool - dilation_pool*(kernel_size_pool - 1) - 1)/stride_pool) + 1)\n",
    "    W_out_pool = math.floor(((W_out_conv + 2*padding_pool - dilation_pool*(kernel_size_pool - 1) - 1)/stride_pool) + 1)\n",
    "    \n",
    "    if verbose:\n",
    "        print(f\"Input Channels = {in_channels} | Output Channels = {out_channels}\")\n",
    "        print(f\"Output shape: num_images X {out_channels} X {H_out_pool} X {W_out_pool}\")\n",
    "        \n",
    "    return out_channels, H_out_pool,\n"
   ]
  },
  {
   "cell_type": "code",
   "execution_count": 13,
   "id": "a4c3823b",
   "metadata": {
    "colab": {
     "base_uri": "https://localhost:8080/",
     "height": 53
    },
    "id": "a4c3823b",
    "outputId": "d1f8f5ff-945f-4c49-a162-307e4e01aaa6"
   },
   "outputs": [
    {
     "name": "stdout",
     "output_type": "stream",
     "text": [
      "Input shape: 1 X 3 X 32 X 32\n"
     ]
    },
    {
     "data": {
      "application/vnd.google.colaboratory.intrinsic+json": {
       "type": "string"
      },
      "text/plain": [
       "'\\nThis defines a max pooling layer with the following parameters:\\n- kernel_size: size of the max pooling kernel (2x2)\\n'"
      ]
     },
     "execution_count": 13,
     "metadata": {},
     "output_type": "execute_result"
    }
   ],
   "source": [
    "# Define input image shape\n",
    "num_images = 1\n",
    "C_in = 3\n",
    "H_in = 32\n",
    "W_in = 32\n",
    "\n",
    "# Print the input shape\n",
    "print(f\"Input shape: {num_images} X {C_in} X {H_in} X {W_in}\")\n",
    "\n",
    "# Define convolutional layer\n",
    "out_channels = 50\n",
    "kernel_size = (5, 5)\n",
    "stride = (7, 5)\n",
    "padding = (4, 4)\n",
    "dilation = (1, 1)\n",
    "conn1 = torch.nn.Conv2d(in_channels=C_in, out_channels=out_channels, kernel_size=kernel_size, stride=stride, padding=padding, dilation=dilation)\n",
    "\"\"\"\n",
    "This defines a convolutional layer with the following parameters:\n",
    "- in_channels: number of input channels (C_in)\n",
    "- out_channels: number of output channels (out_channels)\n",
    "- kernel_size: size of the convolutional kernel (5x5)\n",
    "- stride: size of the stride (7x5)\n",
    "- padding: size of the padding (4x4)\n",
    "- dilation: size of the dilation (1x1)\n",
    "\"\"\"\n",
    "\n",
    "# Define max pooling layer\n",
    "maxpoolayer = torch.nn.MaxPool2d(kernel_size=2)\n",
    "\"\"\"\n",
    "This defines a max pooling layer with the following parameters:\n",
    "- kernel_size: size of the max pooling kernel (2x2)\n",
    "\"\"\"\n"
   ]
  },
  {
   "cell_type": "markdown",
   "id": "7cc25559",
   "metadata": {
    "id": "7cc25559"
   },
   "source": [
    "#### Define the third architecture"
   ]
  },
  {
   "cell_type": "code",
   "execution_count": 14,
   "id": "52aef77a",
   "metadata": {
    "id": "52aef77a"
   },
   "outputs": [],
   "source": [
    "class NeuralNetwork3(torch.nn.Module):\n",
    "    def __init__(self, C_in=3, H_in=32, W_in=32, layers=[512, 256], output_layer=[10],\n",
    "                 drop_out=False, batch_norm=False,\n",
    "                conv1_out_channels = 16, conv1_kernel_size = 5, conv1_padding = 2, maxpool1_kernel_size = 2,\n",
    "                conv2_out_channels = 4, conv2_kernel_size = 5, conv2_padding = 2, maxpool2_kernel_size = 2,\n",
    "                conv3_out_channels = 4, conv3_kernel_size = 5, conv3_padding = 2, maxpool3_kernel_size = 2):\n",
    "        super(NeuralNetwork3, self).__init__()\n",
    "\n",
    "        # Save input shape\n",
    "        self.C_in = C_in\n",
    "        self.H_in = H_in\n",
    "        self.W_in = W_in\n",
    "\n",
    "        # Define convolutional layers\n",
    "        conv1 = torch.nn.Conv2d(in_channels=C_in, out_channels=20, kernel_size=4, padding=1)\n",
    "        relu1 = torch.nn.ReLU()\n",
    "        out_channels_conv1, H_out_conv1, W_out_conv1 = convolutional_output_tensor_shape(conv_layer=conv1, H_in=H_in, W_in=W_in, verbose=False)\n",
    "\n",
    "        conv2 = torch.nn.Conv2d(in_channels=conv1.out_channels, out_channels=4, kernel_size=5, padding=2)\n",
    "        relu2 = torch.nn.ReLU()\n",
    "        out_channels_conv2, H_out_conv2, W_out_conv2 = convolutional_output_tensor_shape(conv_layer=conv2, H_in=H_out_conv1, W_in=W_out_conv1, verbose=False)\n",
    "\n",
    "        # Combine convolutional layers\n",
    "        conv_layers_list = [conv1, relu1, conv2, relu2]\n",
    "        self.conv_layers = conv_layers_list\n",
    "        self.conv_layers_stack = torch.nn.Sequential(*conv_layers_list)\n",
    "\n",
    "        # Define fully connected layers\n",
    "        input_layer_for_fully_connected_layer_1 = [out_channels_conv2 * H_out_conv2 * W_out_conv2]\n",
    "        layers = input_layer_for_fully_connected_layer_1 + layers + output_layer\n",
    "\n",
    "        layers_list = []\n",
    "        for Layer_i in range(1, len(layers)):\n",
    "            layers_list.append(torch.nn.Linear(layers[Layer_i-1], layers[Layer_i]))\n",
    "\n",
    "            if Layer_i < len(layers) - 1:\n",
    "                layers_list.append(torch.nn.ReLU())\n",
    "\n",
    "                if drop_out:\n",
    "                    layers_list.append(torch.nn.Dropout(drop_out))\n",
    "\n",
    "                if batch_norm:\n",
    "                    layers_list.append(torch.nn.BatchNorm1d(layers[Layer_i]))\n",
    "\n",
    "        layers_list.append(torch.nn.LogSoftmax())\n",
    "        self.layers_stack = torch.nn.Sequential(*layers_list)\n",
    "        self.layers = layers_list\n",
    "\n",
    "    def forward(self, x):\n",
    "        # Reshape input to expected shape\n",
    "        x = x.view(-1, self.C_in, self.H_in, self.W_in)\n",
    "        batch_size = x.shape[0]\n",
    "\n",
    "        # Pass input through convolutional layers\n",
    "        x = self.conv_layers_stack(x)\n",
    "\n",
    "        # Flatten output from convolutional layers\n",
    "        x = x.view(batch_size, -1)\n",
    "\n",
    "        # Pass flattened output through fully connected layers\n",
    "        logits = self.layers_stack(x)\n",
    "\n",
    "        return logits\n"
   ]
  },
  {
   "cell_type": "markdown",
   "id": "be2e882f",
   "metadata": {
    "id": "be2e882f"
   },
   "source": [
    "#### Define the criterion and the Optimizer"
   ]
  },
  {
   "cell_type": "code",
   "execution_count": 15,
   "id": "9a004c8b",
   "metadata": {
    "id": "9a004c8b"
   },
   "outputs": [],
   "source": [
    "# Define the loss function as the cross-entropy loss\n",
    "criterion = torch.nn.CrossEntropyLoss()"
   ]
  },
  {
   "cell_type": "code",
   "execution_count": 16,
   "id": "8d6f4d63",
   "metadata": {
    "id": "8d6f4d63"
   },
   "outputs": [],
   "source": [
    "# create an instance of the NeuralNetwork1\n",
    "neural_network_model_1 = NeuralNetwork1()\n",
    "\n",
    "# Optimizer for NeuralNetwork1\n",
    "neural_network_optimizer_1 = torch.optim.SGD(neural_network_model_1.parameters(), lr=0.01)"
   ]
  },
  {
   "cell_type": "code",
   "execution_count": 17,
   "id": "89b12c2a",
   "metadata": {
    "id": "89b12c2a"
   },
   "outputs": [],
   "source": [
    "# create an instance of the NeuralNetwork1\n",
    "neural_network_model_2 = NeuralNetwork2()\n",
    "\n",
    "# Optimizer for NeuralNetwork1\n",
    "neural_network_optimizer_2 = torch.optim.SGD(neural_network_model_2.parameters(), lr=0.01)"
   ]
  },
  {
   "cell_type": "code",
   "execution_count": 18,
   "id": "73eebf34",
   "metadata": {
    "id": "73eebf34"
   },
   "outputs": [],
   "source": [
    "# create an instance of the NeuralNetwork1\n",
    "neural_network_model_3 = NeuralNetwork3()\n",
    "\n",
    "# Optimizer for NeuralNetwork1\n",
    "neural_network_optimizer_3 = torch.optim.SGD(neural_network_model_3.parameters(), lr=0.01)"
   ]
  },
  {
   "cell_type": "markdown",
   "id": "7d41a90f",
   "metadata": {
    "id": "7d41a90f"
   },
   "source": [
    "#### Define Model Accuracy function"
   ]
  },
  {
   "cell_type": "code",
   "execution_count": 19,
   "id": "efe68b94",
   "metadata": {
    "id": "efe68b94"
   },
   "outputs": [],
   "source": [
    "def compute_model_accuracy(model, x_data, y_data):\n",
    "    # Get the device the model is on\n",
    "    device = next(model.parameters()).device\n",
    "\n",
    "    # Set the model to evaluation mode\n",
    "    model.eval()\n",
    "\n",
    "    # Disable gradient computation\n",
    "    with torch.no_grad():\n",
    "        # Move data to the device\n",
    "        x_data, y_data = x_data.to(device=device), y_data.to(device=device)\n",
    "\n",
    "        # Forward pass through the model to get predictions\n",
    "        predictions = model(x_data)\n",
    "\n",
    "        # Get the index of the maximum value in each prediction\n",
    "        _, max_index = predictions.max(dim=1)\n",
    "\n",
    "        # Count the number of correct predictions\n",
    "        number_of_matches = (max_index == y_data).to(dtype=torch.float32, device=torch.device(\"cpu\")).sum()\n",
    "\n",
    "        # Calculate the accuracy and return it\n",
    "        return number_of_matches / len(y_data)\n"
   ]
  },
  {
   "cell_type": "markdown",
   "id": "d98dd114",
   "metadata": {
    "id": "d98dd114"
   },
   "source": [
    "#### Define training function"
   ]
  },
  {
   "cell_type": "code",
   "execution_count": 20,
   "id": "ab0af682",
   "metadata": {
    "id": "ab0af682"
   },
   "outputs": [],
   "source": [
    "def train_model(model, x_train_normalize_t, y_train_t, criterion, optimizer,\n",
    "                         x_validation_normalize_t=None, y_validation_t=None,\n",
    "                         n_epochs=50, batch_size=500, device=\"cpu\"):\n",
    "    \"\"\"Train a PyTorch model.\n",
    "\n",
    "    Args:\n",
    "        model (torch.nn.Module): The PyTorch model to train.\n",
    "        x_train_normalize_t (torch.Tensor): The normalized training input data tensor.\n",
    "        y_train_t (torch.Tensor): The training label tensor.\n",
    "        criterion: The loss function to optimize.\n",
    "        optimizer: The optimizer algorithm to use.\n",
    "        x_validation_normalize_t (torch.Tensor): The normalized validation input data tensor.\n",
    "        y_validation_t (torch.Tensor): The validation label tensor.\n",
    "        n_epochs (int): The number of epochs to train for.\n",
    "        batch_size (int): The batch size to use for training.\n",
    "        device (str): The device to use for training (CPU or CUDA).\n",
    "\n",
    "    Returns:\n",
    "        The trained model and a list of dictionaries containing the training progress log.\n",
    "    \"\"\"\n",
    "    # Prepare training and validation data\n",
    "    train_images_norm = x_train_normalize_t\n",
    "    train_labels = y_train_t\n",
    "\n",
    "    if x_validation_normalize_t is None or y_validation_t is None:\n",
    "        validation_set_checker = False\n",
    "    else:\n",
    "        validation_images = x_validation_normalize_t.to(device=device)\n",
    "        validation_labels = y_validation_t.to(device=device)\n",
    "        validation_set_checker = True\n",
    "\n",
    "    # Train the model\n",
    "    training_time_epochs = []\n",
    "    progress_log = []\n",
    "    model.to(device)\n",
    "\n",
    "    for epoch in range(n_epochs):\n",
    "        model.train()\n",
    "        current_loss = 0\n",
    "\n",
    "        # Prepare data for the current epoch (iterate over random indices)\n",
    "        train_indices = torch.randperm((len(train_images_norm) // batch_size) * batch_size)\n",
    "        train_indices = train_indices.view(-1, batch_size)\n",
    "\n",
    "        training_time_batches = []\n",
    "        for current_batch_indices in train_indices:\n",
    "            train_data = train_images_norm[current_batch_indices].to(dtype=torch.float32).to(device=device)\n",
    "            train_data_labels = train_labels[current_batch_indices].to(dtype=torch.int64).to(device=device)\n",
    "\n",
    "            optimizer.zero_grad()\n",
    "            start_train_time = time.time()\n",
    "            output = model(train_data)\n",
    "            batch_train_time = time.time() - start_train_time\n",
    "            training_time_batches.append(batch_train_time)\n",
    "\n",
    "            loss = criterion(output, train_data_labels)\n",
    "            loss.backward()\n",
    "            optimizer.step()\n",
    "\n",
    "            current_loss += loss.item() * len(train_data)\n",
    "\n",
    "        training_time_epochs.append(np.mean(training_time_batches))\n",
    "\n",
    "        # Evaluate performance of the batch\n",
    "        with torch.no_grad():\n",
    "            train_accuracy = compute_model_accuracy(model, train_data, train_data_labels)\n",
    "\n",
    "            if validation_set_checker:\n",
    "                validate_accuracy = compute_model_accuracy(model, validation_images, validation_labels)\n",
    "\n",
    "            if validation_set_checker:\n",
    "                print(f\"{epoch} of {n_epochs} | Loss: {current_loss / len(train_images_norm):0.4f} | Train accuracy: {train_accuracy:0.4f} | Validate accuracy: {validate_accuracy:0.4f}\")\n",
    "            else:\n",
    "                print(f\"{epoch} of {n_epochs} | Loss: {current_loss / len(train_images_norm):0.4f} | Train accuracy: {train_accuracy:0.4f}\")\n",
    "                validate_accuracy = None\n",
    "\n",
    "            progress_log.append({\n",
    "                'epoch': epoch,\n",
    "                'loss': current_loss / len(train_images_norm),\n",
    "                'train epoch time': training_time_epochs[epoch],\n",
    "                'train_accuracy': train_accuracy,\n",
    "                'validate_accuracy': validate_accuracy\n",
    "            })\n",
    "\n",
    "    print()\n",
    "    total_train_time = np.sum(training_time_epochs)\n",
    "    print(\"Total train time = \", total_train_time,\" seconds\")\n",
    "    print(\"Total train time = \", np.round(total_train_time/60,3),\" minutes\")\n",
    "    model.eval(); # set model mode to evaluation. \n",
    "    return model, progress_log"
   ]
  },
  {
   "cell_type": "markdown",
   "id": "f909c13c",
   "metadata": {
    "id": "f909c13c"
   },
   "source": [
    "#### calculate first model performance"
   ]
  },
  {
   "cell_type": "code",
   "execution_count": 21,
   "id": "5926d776",
   "metadata": {
    "colab": {
     "base_uri": "https://localhost:8080/",
     "height": 1000
    },
    "id": "5926d776",
    "outputId": "75dd072d-ba2c-48e3-977f-95592ca71335"
   },
   "outputs": [
    {
     "name": "stderr",
     "output_type": "stream",
     "text": [
      "/usr/local/lib/python3.8/dist-packages/torch/nn/modules/container.py:204: UserWarning: Implicit dimension choice for log_softmax has been deprecated. Change the call to include dim=X as an argument.\n",
      "  input = module(input)\n"
     ]
    },
    {
     "name": "stdout",
     "output_type": "stream",
     "text": [
      "0 of 50 | Loss: 1.8909 | Train accuracy: 0.2610 | Validate accuracy: 0.2476\n",
      "1 of 50 | Loss: 1.7435 | Train accuracy: 0.3790 | Validate accuracy: 0.3820\n",
      "2 of 50 | Loss: 1.6910 | Train accuracy: 0.4350 | Validate accuracy: 0.4036\n",
      "3 of 50 | Loss: 1.6447 | Train accuracy: 0.4030 | Validate accuracy: 0.3968\n",
      "4 of 50 | Loss: 1.5979 | Train accuracy: 0.4250 | Validate accuracy: 0.4004\n",
      "5 of 50 | Loss: 1.5717 | Train accuracy: 0.4380 | Validate accuracy: 0.4284\n",
      "6 of 50 | Loss: 1.5561 | Train accuracy: 0.4380 | Validate accuracy: 0.4420\n",
      "7 of 50 | Loss: 1.5434 | Train accuracy: 0.4740 | Validate accuracy: 0.4416\n",
      "8 of 50 | Loss: 1.5250 | Train accuracy: 0.4230 | Validate accuracy: 0.4164\n",
      "9 of 50 | Loss: 1.5151 | Train accuracy: 0.4740 | Validate accuracy: 0.4384\n",
      "10 of 50 | Loss: 1.5003 | Train accuracy: 0.4120 | Validate accuracy: 0.3948\n",
      "11 of 50 | Loss: 1.4944 | Train accuracy: 0.4040 | Validate accuracy: 0.4000\n",
      "12 of 50 | Loss: 1.4731 | Train accuracy: 0.4790 | Validate accuracy: 0.4408\n",
      "13 of 50 | Loss: 1.4684 | Train accuracy: 0.4970 | Validate accuracy: 0.4480\n",
      "14 of 50 | Loss: 1.4526 | Train accuracy: 0.4430 | Validate accuracy: 0.4256\n",
      "15 of 50 | Loss: 1.4478 | Train accuracy: 0.4510 | Validate accuracy: 0.4084\n",
      "16 of 50 | Loss: 1.4288 | Train accuracy: 0.4570 | Validate accuracy: 0.4328\n",
      "17 of 50 | Loss: 1.4203 | Train accuracy: 0.4850 | Validate accuracy: 0.4468\n",
      "18 of 50 | Loss: 1.4107 | Train accuracy: 0.5190 | Validate accuracy: 0.4724\n",
      "19 of 50 | Loss: 1.3947 | Train accuracy: 0.4660 | Validate accuracy: 0.4392\n",
      "20 of 50 | Loss: 1.3937 | Train accuracy: 0.5020 | Validate accuracy: 0.4572\n",
      "21 of 50 | Loss: 1.3821 | Train accuracy: 0.5530 | Validate accuracy: 0.5064\n",
      "22 of 50 | Loss: 1.3781 | Train accuracy: 0.5440 | Validate accuracy: 0.5036\n",
      "23 of 50 | Loss: 1.3696 | Train accuracy: 0.5190 | Validate accuracy: 0.4800\n",
      "24 of 50 | Loss: 1.3644 | Train accuracy: 0.4950 | Validate accuracy: 0.4388\n",
      "25 of 50 | Loss: 1.3616 | Train accuracy: 0.5720 | Validate accuracy: 0.4840\n",
      "26 of 50 | Loss: 1.3584 | Train accuracy: 0.4890 | Validate accuracy: 0.4252\n",
      "27 of 50 | Loss: 1.3498 | Train accuracy: 0.5020 | Validate accuracy: 0.4552\n",
      "28 of 50 | Loss: 1.3467 | Train accuracy: 0.5220 | Validate accuracy: 0.4764\n",
      "29 of 50 | Loss: 1.3354 | Train accuracy: 0.4880 | Validate accuracy: 0.4416\n",
      "30 of 50 | Loss: 1.3324 | Train accuracy: 0.5500 | Validate accuracy: 0.4484\n",
      "31 of 50 | Loss: 1.3235 | Train accuracy: 0.5540 | Validate accuracy: 0.4824\n",
      "32 of 50 | Loss: 1.3218 | Train accuracy: 0.5490 | Validate accuracy: 0.4960\n",
      "33 of 50 | Loss: 1.3181 | Train accuracy: 0.5130 | Validate accuracy: 0.4576\n",
      "34 of 50 | Loss: 1.3148 | Train accuracy: 0.5420 | Validate accuracy: 0.4896\n",
      "35 of 50 | Loss: 1.3074 | Train accuracy: 0.5380 | Validate accuracy: 0.4736\n",
      "36 of 50 | Loss: 1.3045 | Train accuracy: 0.4960 | Validate accuracy: 0.4664\n",
      "37 of 50 | Loss: 1.3013 | Train accuracy: 0.5620 | Validate accuracy: 0.4896\n",
      "38 of 50 | Loss: 1.2927 | Train accuracy: 0.5430 | Validate accuracy: 0.4832\n",
      "39 of 50 | Loss: 1.2931 | Train accuracy: 0.5810 | Validate accuracy: 0.4964\n",
      "40 of 50 | Loss: 1.2878 | Train accuracy: 0.5320 | Validate accuracy: 0.4720\n",
      "41 of 50 | Loss: 1.2788 | Train accuracy: 0.5520 | Validate accuracy: 0.4772\n",
      "42 of 50 | Loss: 1.2764 | Train accuracy: 0.6170 | Validate accuracy: 0.5156\n",
      "43 of 50 | Loss: 1.2744 | Train accuracy: 0.5640 | Validate accuracy: 0.4900\n",
      "44 of 50 | Loss: 1.2709 | Train accuracy: 0.5770 | Validate accuracy: 0.4948\n",
      "45 of 50 | Loss: 1.2662 | Train accuracy: 0.5860 | Validate accuracy: 0.5044\n",
      "46 of 50 | Loss: 1.2662 | Train accuracy: 0.5590 | Validate accuracy: 0.4976\n",
      "47 of 50 | Loss: 1.2614 | Train accuracy: 0.6170 | Validate accuracy: 0.5236\n",
      "48 of 50 | Loss: 1.2603 | Train accuracy: 0.5820 | Validate accuracy: 0.4848\n",
      "49 of 50 | Loss: 1.2638 | Train accuracy: 0.6250 | Validate accuracy: 0.5208\n",
      "\n",
      "Total train time =  0.09537840396799943  seconds\n",
      "Total train time =  0.002  minutes\n"
     ]
    },
    {
     "data": {
      "application/vnd.google.colaboratory.intrinsic+json": {
       "type": "string"
      },
      "text/plain": [
       "'\\nThe train_model function trains the model using the specified training data, validation data, loss function, optimizer, number of epochs and batch size. \\nThe function returns the trained model and a log of the training progress. \\n'"
      ]
     },
     "execution_count": 21,
     "metadata": {},
     "output_type": "execute_result"
    }
   ],
   "source": [
    "# Define the model architecture\n",
    "model = NeuralNetwork1(output_layer=[10], drop_out=0.21, batch_norm=True).to(device=device)\n",
    "\"\"\"\n",
    "This creates an instance of the NeuralNetwork1 class with the specified architecture, which includes an output layer of 10 units, a dropout layer with a probability of 0.2, and a batch normalization layer. \n",
    "The model is then moved to the specified device (either CPU or GPU).\n",
    "\"\"\"\n",
    "\n",
    "# Define the loss function as the cross-entropy loss\n",
    "criterion = torch.nn.CrossEntropyLoss()\n",
    "\n",
    "# Define the optimizer as stochastic gradient descent (SGD) with a learning rate of 0.18\n",
    "optimizer = torch.optim.SGD(model.parameters(), lr=0.18)\n",
    "\n",
    "# Define the number of epochs and batch size for training\n",
    "n_epochs = 50\n",
    "batch_size = 1000\n",
    "\n",
    "# Train the model using the train_model function\n",
    "model_new, progress_log = train_model(model=model,\n",
    "                                       x_train_normalize_t=X_data_normalized,\n",
    "                                       y_train_t=y_train_t,\n",
    "                                       x_validation_normalize_t=X_validation_normalized,\n",
    "                                       y_validation_t=y_validation_t,\n",
    "                                       criterion=criterion,\n",
    "                                       optimizer=optimizer,\n",
    "                                       n_epochs=n_epochs,\n",
    "                                       batch_size=batch_size,\n",
    "                                       device=device)\n",
    "\"\"\"\n",
    "The train_model function trains the model using the specified training data, validation data, loss function, optimizer, number of epochs and batch size. \n",
    "The function returns the trained model and a log of the training progress. \n",
    "\"\"\"\n"
   ]
  },
  {
   "cell_type": "markdown",
   "id": "c0ebe6cc",
   "metadata": {
    "id": "c0ebe6cc"
   },
   "source": [
    "#### calculate second model performance"
   ]
  },
  {
   "cell_type": "code",
   "execution_count": 22,
   "id": "370b50a6",
   "metadata": {
    "colab": {
     "base_uri": "https://localhost:8080/",
     "height": 972
    },
    "id": "370b50a6",
    "outputId": "fb4e66d4-e452-4041-c111-0c702f3bdd57"
   },
   "outputs": [
    {
     "name": "stdout",
     "output_type": "stream",
     "text": [
      "0 of 50 | Loss: 2.2340 | Train accuracy: 0.1740 | Validate accuracy: 0.1696\n",
      "1 of 50 | Loss: 1.9517 | Train accuracy: 0.3300 | Validate accuracy: 0.3296\n",
      "2 of 50 | Loss: 1.8457 | Train accuracy: 0.2830 | Validate accuracy: 0.3052\n",
      "3 of 50 | Loss: 1.7900 | Train accuracy: 0.4100 | Validate accuracy: 0.3804\n",
      "4 of 50 | Loss: 1.7340 | Train accuracy: 0.4170 | Validate accuracy: 0.3896\n",
      "5 of 50 | Loss: 1.6814 | Train accuracy: 0.4320 | Validate accuracy: 0.4224\n",
      "6 of 50 | Loss: 1.6305 | Train accuracy: 0.4150 | Validate accuracy: 0.3880\n",
      "7 of 50 | Loss: 1.5981 | Train accuracy: 0.4640 | Validate accuracy: 0.4404\n",
      "8 of 50 | Loss: 1.5541 | Train accuracy: 0.4480 | Validate accuracy: 0.4368\n",
      "9 of 50 | Loss: 1.5262 | Train accuracy: 0.5130 | Validate accuracy: 0.4620\n",
      "10 of 50 | Loss: 1.4928 | Train accuracy: 0.5250 | Validate accuracy: 0.4532\n",
      "11 of 50 | Loss: 1.4655 | Train accuracy: 0.5050 | Validate accuracy: 0.4528\n",
      "12 of 50 | Loss: 1.4527 | Train accuracy: 0.5450 | Validate accuracy: 0.4836\n",
      "13 of 50 | Loss: 1.4269 | Train accuracy: 0.5510 | Validate accuracy: 0.4884\n",
      "14 of 50 | Loss: 1.4032 | Train accuracy: 0.5340 | Validate accuracy: 0.4824\n",
      "15 of 50 | Loss: 1.3814 | Train accuracy: 0.4920 | Validate accuracy: 0.4320\n",
      "16 of 50 | Loss: 1.3593 | Train accuracy: 0.5570 | Validate accuracy: 0.4908\n",
      "17 of 50 | Loss: 1.3325 | Train accuracy: 0.5790 | Validate accuracy: 0.4968\n",
      "18 of 50 | Loss: 1.3130 | Train accuracy: 0.5920 | Validate accuracy: 0.4804\n",
      "19 of 50 | Loss: 1.2978 | Train accuracy: 0.5970 | Validate accuracy: 0.4912\n",
      "20 of 50 | Loss: 1.2724 | Train accuracy: 0.6150 | Validate accuracy: 0.5036\n",
      "21 of 50 | Loss: 1.2460 | Train accuracy: 0.6130 | Validate accuracy: 0.5064\n",
      "22 of 50 | Loss: 1.2383 | Train accuracy: 0.5790 | Validate accuracy: 0.4664\n",
      "23 of 50 | Loss: 1.2167 | Train accuracy: 0.6500 | Validate accuracy: 0.4948\n",
      "24 of 50 | Loss: 1.1939 | Train accuracy: 0.5440 | Validate accuracy: 0.4688\n",
      "25 of 50 | Loss: 1.2025 | Train accuracy: 0.6660 | Validate accuracy: 0.5076\n",
      "26 of 50 | Loss: 1.1532 | Train accuracy: 0.6840 | Validate accuracy: 0.5084\n",
      "27 of 50 | Loss: 1.1394 | Train accuracy: 0.6950 | Validate accuracy: 0.5028\n",
      "28 of 50 | Loss: 1.1079 | Train accuracy: 0.6510 | Validate accuracy: 0.4952\n",
      "29 of 50 | Loss: 1.0971 | Train accuracy: 0.6770 | Validate accuracy: 0.4860\n",
      "30 of 50 | Loss: 1.0799 | Train accuracy: 0.7580 | Validate accuracy: 0.5084\n",
      "31 of 50 | Loss: 1.0617 | Train accuracy: 0.6300 | Validate accuracy: 0.4708\n",
      "32 of 50 | Loss: 1.0399 | Train accuracy: 0.6710 | Validate accuracy: 0.4808\n",
      "33 of 50 | Loss: 1.0237 | Train accuracy: 0.7400 | Validate accuracy: 0.5092\n",
      "34 of 50 | Loss: 1.0110 | Train accuracy: 0.7030 | Validate accuracy: 0.5120\n",
      "35 of 50 | Loss: 0.9912 | Train accuracy: 0.7190 | Validate accuracy: 0.5008\n",
      "36 of 50 | Loss: 0.9527 | Train accuracy: 0.7780 | Validate accuracy: 0.5164\n",
      "37 of 50 | Loss: 0.9408 | Train accuracy: 0.7810 | Validate accuracy: 0.5108\n",
      "38 of 50 | Loss: 0.9257 | Train accuracy: 0.8110 | Validate accuracy: 0.5156\n",
      "39 of 50 | Loss: 0.9071 | Train accuracy: 0.7710 | Validate accuracy: 0.5040\n",
      "40 of 50 | Loss: 0.8861 | Train accuracy: 0.7790 | Validate accuracy: 0.5048\n",
      "41 of 50 | Loss: 0.8662 | Train accuracy: 0.7700 | Validate accuracy: 0.5048\n",
      "42 of 50 | Loss: 0.8449 | Train accuracy: 0.8190 | Validate accuracy: 0.5176\n",
      "43 of 50 | Loss: 0.8751 | Train accuracy: 0.7870 | Validate accuracy: 0.5072\n",
      "44 of 50 | Loss: 0.8044 | Train accuracy: 0.7910 | Validate accuracy: 0.4900\n",
      "45 of 50 | Loss: 0.8048 | Train accuracy: 0.8460 | Validate accuracy: 0.5204\n",
      "46 of 50 | Loss: 0.7777 | Train accuracy: 0.7830 | Validate accuracy: 0.5072\n",
      "47 of 50 | Loss: 0.7474 | Train accuracy: 0.8190 | Validate accuracy: 0.4996\n",
      "48 of 50 | Loss: 0.7397 | Train accuracy: 0.8310 | Validate accuracy: 0.5036\n",
      "49 of 50 | Loss: 0.7196 | Train accuracy: 0.7990 | Validate accuracy: 0.4900\n",
      "\n",
      "Total train time =  0.14764463140609418  seconds\n",
      "Total train time =  0.002  minutes\n"
     ]
    },
    {
     "data": {
      "application/vnd.google.colaboratory.intrinsic+json": {
       "type": "string"
      },
      "text/plain": [
       "'\\nThe train_model function trains the model using the specified training data, validation data, loss function, optimizer, number of epochs and batch size. \\nThe function returns the trained model and a log of the training progress. \\n'"
      ]
     },
     "execution_count": 22,
     "metadata": {},
     "output_type": "execute_result"
    }
   ],
   "source": [
    "# Define the convolutional neural network architecture\n",
    "convolutional_neural_network = NeuralNetwork2(C_in=3, H_in=32, W_in=32, layers=[512, 256, 150, 100], output_layer=[10], \n",
    "                            drop_out=0.3, batch_norm=True).to(device=device)\n",
    "\"\"\"\n",
    "This creates an instance of the NeuralNetwork2 class with the specified architecture, which includes:\n",
    "- 3 input channels (RGB)\n",
    "- input image dimensions of 32x32 pixels\n",
    "- 4 hidden layers with 512, 256, 150, and 100 units, respectively\n",
    "- an output layer of 10 units for the 10 CIFAR-10 classes\n",
    "- a dropout layer with a probability of 0.3\n",
    "- a batch normalization layer\n",
    "The model is then moved to the specified device (either CPU or GPU).\n",
    "\"\"\"\n",
    "\n",
    "# Define the loss function as the cross-entropy loss\n",
    "criterion = torch.nn.CrossEntropyLoss()\n",
    "\n",
    "# Define the optimizer as stochastic gradient descent (SGD) with a learning rate of 0.13\n",
    "optimizer = torch.optim.SGD(convolutional_neural_network.parameters(), lr=0.13)\n",
    "\n",
    "# Define the number of epochs and batch size for training\n",
    "n_epochs = 50\n",
    "batch_size = 1000\n",
    "\n",
    "# Train the model using the train_model function\n",
    "model_new, progress_log = train_model(model=convolutional_neural_network,\n",
    "                                       x_train_normalize_t=X_data_normalized,\n",
    "                                       y_train_t=y_train_t,\n",
    "                                       x_validation_normalize_t=X_validation_normalized,\n",
    "                                       y_validation_t=y_validation_t,\n",
    "                                       criterion=criterion,\n",
    "                                       optimizer=optimizer,\n",
    "                                       n_epochs=n_epochs,\n",
    "                                       batch_size=batch_size,\n",
    "                                       device=device)\n",
    "\"\"\"\n",
    "The train_model function trains the model using the specified training data, validation data, loss function, optimizer, number of epochs and batch size. \n",
    "The function returns the trained model and a log of the training progress. \n",
    "\"\"\"\n"
   ]
  },
  {
   "cell_type": "markdown",
   "id": "f2c7d716",
   "metadata": {
    "id": "f2c7d716"
   },
   "source": [
    "#### calculate third model performance"
   ]
  },
  {
   "cell_type": "code",
   "execution_count": 23,
   "id": "a5ebf8d5",
   "metadata": {
    "colab": {
     "base_uri": "https://localhost:8080/",
     "height": 1000
    },
    "id": "a5ebf8d5",
    "outputId": "9784a8ee-5dc1-447f-9c76-61031db9c46d"
   },
   "outputs": [
    {
     "name": "stdout",
     "output_type": "stream",
     "text": [
      "0 of 50 | Loss: 2.0066 | Train accuracy: 0.3020 | Validate accuracy: 0.2904\n",
      "1 of 50 | Loss: 1.8317 | Train accuracy: 0.3650 | Validate accuracy: 0.3320\n",
      "2 of 50 | Loss: 1.7584 | Train accuracy: 0.4070 | Validate accuracy: 0.3724\n",
      "3 of 50 | Loss: 1.6919 | Train accuracy: 0.4090 | Validate accuracy: 0.3972\n",
      "4 of 50 | Loss: 1.6359 | Train accuracy: 0.4240 | Validate accuracy: 0.3900\n",
      "5 of 50 | Loss: 1.5892 | Train accuracy: 0.4630 | Validate accuracy: 0.4356\n",
      "6 of 50 | Loss: 1.5470 | Train accuracy: 0.4450 | Validate accuracy: 0.4136\n",
      "7 of 50 | Loss: 1.5177 | Train accuracy: 0.4900 | Validate accuracy: 0.4508\n",
      "8 of 50 | Loss: 1.4771 | Train accuracy: 0.4910 | Validate accuracy: 0.4692\n",
      "9 of 50 | Loss: 1.4976 | Train accuracy: 0.4990 | Validate accuracy: 0.4668\n",
      "10 of 50 | Loss: 1.4403 | Train accuracy: 0.5330 | Validate accuracy: 0.4860\n",
      "11 of 50 | Loss: 1.4088 | Train accuracy: 0.5040 | Validate accuracy: 0.4740\n",
      "12 of 50 | Loss: 1.3826 | Train accuracy: 0.5180 | Validate accuracy: 0.4948\n",
      "13 of 50 | Loss: 1.3696 | Train accuracy: 0.5580 | Validate accuracy: 0.4920\n",
      "14 of 50 | Loss: 1.3410 | Train accuracy: 0.5150 | Validate accuracy: 0.4756\n",
      "15 of 50 | Loss: 1.3232 | Train accuracy: 0.5330 | Validate accuracy: 0.4892\n",
      "16 of 50 | Loss: 1.3064 | Train accuracy: 0.5680 | Validate accuracy: 0.4852\n",
      "17 of 50 | Loss: 1.2905 | Train accuracy: 0.5690 | Validate accuracy: 0.4824\n",
      "18 of 50 | Loss: 1.2789 | Train accuracy: 0.5700 | Validate accuracy: 0.4768\n",
      "19 of 50 | Loss: 1.2618 | Train accuracy: 0.5850 | Validate accuracy: 0.5016\n",
      "20 of 50 | Loss: 1.2425 | Train accuracy: 0.6130 | Validate accuracy: 0.4948\n",
      "21 of 50 | Loss: 1.2171 | Train accuracy: 0.6090 | Validate accuracy: 0.5080\n",
      "22 of 50 | Loss: 1.2015 | Train accuracy: 0.6450 | Validate accuracy: 0.5080\n",
      "23 of 50 | Loss: 1.2034 | Train accuracy: 0.3510 | Validate accuracy: 0.3404\n",
      "24 of 50 | Loss: 1.2378 | Train accuracy: 0.6200 | Validate accuracy: 0.5060\n",
      "25 of 50 | Loss: 1.1723 | Train accuracy: 0.6090 | Validate accuracy: 0.5044\n",
      "26 of 50 | Loss: 1.1473 | Train accuracy: 0.5990 | Validate accuracy: 0.4952\n",
      "27 of 50 | Loss: 1.1287 | Train accuracy: 0.6340 | Validate accuracy: 0.5024\n",
      "28 of 50 | Loss: 1.1120 | Train accuracy: 0.6740 | Validate accuracy: 0.5152\n",
      "29 of 50 | Loss: 1.0896 | Train accuracy: 0.6400 | Validate accuracy: 0.4992\n",
      "30 of 50 | Loss: 1.0738 | Train accuracy: 0.6840 | Validate accuracy: 0.4940\n",
      "31 of 50 | Loss: 1.0561 | Train accuracy: 0.6550 | Validate accuracy: 0.4844\n",
      "32 of 50 | Loss: 1.0397 | Train accuracy: 0.6730 | Validate accuracy: 0.5040\n",
      "33 of 50 | Loss: 1.0215 | Train accuracy: 0.7020 | Validate accuracy: 0.5004\n",
      "34 of 50 | Loss: 1.0039 | Train accuracy: 0.7050 | Validate accuracy: 0.4904\n",
      "35 of 50 | Loss: 0.9835 | Train accuracy: 0.7220 | Validate accuracy: 0.5064\n",
      "36 of 50 | Loss: 0.9825 | Train accuracy: 0.7080 | Validate accuracy: 0.5096\n",
      "37 of 50 | Loss: 0.9580 | Train accuracy: 0.7340 | Validate accuracy: 0.5016\n",
      "38 of 50 | Loss: 0.9476 | Train accuracy: 0.7390 | Validate accuracy: 0.4984\n",
      "39 of 50 | Loss: 0.9353 | Train accuracy: 0.7540 | Validate accuracy: 0.5056\n",
      "40 of 50 | Loss: 0.9188 | Train accuracy: 0.7380 | Validate accuracy: 0.5012\n",
      "41 of 50 | Loss: 0.9023 | Train accuracy: 0.7600 | Validate accuracy: 0.5044\n",
      "42 of 50 | Loss: 0.8872 | Train accuracy: 0.7600 | Validate accuracy: 0.5108\n",
      "43 of 50 | Loss: 0.8718 | Train accuracy: 0.7580 | Validate accuracy: 0.5076\n",
      "44 of 50 | Loss: 0.8557 | Train accuracy: 0.7660 | Validate accuracy: 0.5012\n",
      "45 of 50 | Loss: 0.8524 | Train accuracy: 0.7910 | Validate accuracy: 0.4948\n",
      "46 of 50 | Loss: 0.8467 | Train accuracy: 0.7950 | Validate accuracy: 0.4992\n",
      "47 of 50 | Loss: 0.8236 | Train accuracy: 0.8180 | Validate accuracy: 0.5020\n",
      "48 of 50 | Loss: 0.8148 | Train accuracy: 0.8010 | Validate accuracy: 0.4992\n",
      "49 of 50 | Loss: 0.8026 | Train accuracy: 0.7930 | Validate accuracy: 0.4980\n",
      "\n",
      "Total train time =  0.0696342092879275  seconds\n",
      "Total train time =  0.001  minutes\n",
      "Total time taken for training:  1.459\n"
     ]
    },
    {
     "data": {
      "application/vnd.google.colaboratory.intrinsic+json": {
       "type": "string"
      },
      "text/plain": [
       "'\\nThe train_model function trains the model using the specified training data, validation data, loss function, optimizer, number of epochs and batch size. \\nThe function returns the trained model and a log of the training progress. \\nThe total time taken for training is also printed.\\n'"
      ]
     },
     "execution_count": 23,
     "metadata": {},
     "output_type": "execute_result"
    }
   ],
   "source": [
    "# Define the convolutional neural network architecture with max pooling layers\n",
    "convolutional_neural_network_pool = NeuralNetwork3(C_in=3, H_in=32, W_in=32, layers=[600, 450, 300, 100], output_layer=[10], \n",
    "                                 drop_out=0.2, batch_norm=True,\n",
    "                                 conv1_out_channels=30, conv1_kernel_size=3, conv1_padding=2, maxpool1_kernel_size=2,\n",
    "                                 conv2_out_channels=20, conv2_kernel_size=5, conv2_padding=2, maxpool2_kernel_size=2,\n",
    "                                 conv3_out_channels=10, conv3_kernel_size=5, conv3_padding=2, maxpool3_kernel_size=2).to(device=device)\n",
    "\"\"\"\n",
    "This creates an instance of the NeuralNetwork3 class with the specified architecture, which includes:\n",
    "- 3 input channels (RGB)\n",
    "- input image dimensions of 32x32 pixels\n",
    "- 4 hidden layers with 600, 450, 300, and 100 units, respectively\n",
    "- an output layer of 10 units for the 10 CIFAR-10 classes\n",
    "- a dropout layer with a probability of 0.2\n",
    "- a batch normalization layer\n",
    "- 3 convolutional layers with max pooling layers in between\n",
    "The model is then moved to the specified device (either CPU or GPU).\n",
    "\"\"\"\n",
    "start_time = time.time()\n",
    "\n",
    "# Define the loss function as the cross-entropy loss\n",
    "criterion = torch.nn.CrossEntropyLoss()\n",
    "\n",
    "# Define the optimizer as stochastic gradient descent (SGD) with a learning rate of 0.65 and momentum of 0.7\n",
    "optimizer = torch.optim.SGD(convolutional_neural_network_pool.parameters(), lr=0.65, momentum=0.7)\n",
    "\n",
    "# Define the number of epochs and batch size for training\n",
    "n_epochs = 50\n",
    "batch_size = 1000\n",
    "\n",
    "# Train the model using the train_model function\n",
    "model_new, progress_log = train_model(model=convolutional_neural_network_pool,\n",
    "                                       x_train_normalize_t=X_data_normalized,\n",
    "                                       y_train_t=y_train_t,\n",
    "                                       x_validation_normalize_t=X_validation_normalized,\n",
    "                                       y_validation_t=y_validation_t,\n",
    "                                       criterion=criterion,\n",
    "                                       optimizer=optimizer,\n",
    "                                       n_epochs=n_epochs,\n",
    "                                       batch_size=batch_size,\n",
    "                                       device=device)\n",
    "\n",
    "# Print the total time taken for training\n",
    "print(\"Total time taken for training: \", round((time.time()-start_time)/60, 3))\n",
    "\"\"\"\n",
    "The train_model function trains the model using the specified training data, validation data, loss function, optimizer, number of epochs and batch size. \n",
    "The function returns the trained model and a log of the training progress. \n",
    "The total time taken for training is also printed.\n",
    "\"\"\"\n"
   ]
  },
  {
   "cell_type": "markdown",
   "id": "9e3f7074",
   "metadata": {
    "id": "9e3f7074"
   },
   "source": [
    "## 2. Models performance and train, validation, test "
   ]
  },
  {
   "cell_type": "code",
   "execution_count": 24,
   "id": "e91789ad",
   "metadata": {
    "id": "e91789ad"
   },
   "outputs": [],
   "source": [
    "\"\"\"\n",
    "This code evaluates the performance of multiple neural network models on a given dataset. The models are evaluated on their accuracy on a training set, validation set, and test set, and the performance metrics are stored in separate lists. The testing time is also measured for each model and stored in a list.\n",
    "\n",
    "The following inputs are required:\n",
    "- model: a PyTorch neural network model\n",
    "- compute_model_accuracy: a function that evaluates the accuracy of the given model on a given dataset\n",
    "- X_data_normalized, X_validation_normalized, X_test_normalized: normalized image data for the training, validation, and test sets, respectively\n",
    "- y_train_t, y_validation_t, y_test_t: label data for the training, validation, and test sets, respectively\n",
    "\n",
    "The following outputs are produced:\n",
    "- train_accuracy_list: a list of the training accuracy for each model\n",
    "- validate_accuracy_list: a list of the validation accuracy for each model\n",
    "- test_accuracy_list: a list of the test accuracy for each model\n",
    "- testing_time_list: a list of the time taken to test each model\n",
    "\"\"\"\n",
    "\n",
    "import time\n",
    "\n",
    "# Define the models to be trained and evaluated\n",
    "models = [model, convolutional_neural_network, convolutional_neural_network_pool]\n",
    "\n",
    "# Create empty lists to store performance metrics\n",
    "train_accuracy_list = []\n",
    "validate_accuracy_list = []\n",
    "test_accuracy_list = []\n",
    "testing_time_list = []\n",
    "\n",
    "# Convert the training and validation data to the appropriate device\n",
    "train_images_norm = X_data_normalized.to(device=device)\n",
    "train_labels = y_train_t.to(device=device)\n",
    "validation_images = X_validation_normalized.to(device=device)\n",
    "validation_labels = y_validation_t.to(device=device)\n",
    "\n",
    "# Loop through the list of models and evaluate their performance\n",
    "for model in models:\n",
    "    # Evaluate the model's accuracy on the training set\n",
    "    train_accuracy = compute_model_accuracy(model, train_images_norm, train_labels)\n",
    "    \n",
    "    # Evaluate the model's accuracy on the validation set\n",
    "    validate_accuracy = compute_model_accuracy(model, validation_images, validation_labels)\n",
    "    \n",
    "    # Evaluate the model's accuracy on the test set and measure the time taken\n",
    "    start_testing_time = time.time()\n",
    "    test_accuracy = compute_model_accuracy(model, X_test_normalized, y_test_t)\n",
    "    testing_time_i = time.time() - start_testing_time\n",
    "    \n",
    "    # Add the performance metrics to the corresponding lists\n",
    "    train_accuracy_list.append(train_accuracy)\n",
    "    validate_accuracy_list.append(validate_accuracy)\n",
    "    test_accuracy_list.append(test_accuracy)\n",
    "    testing_time_list.append(testing_time_i)\n"
   ]
  },
  {
   "cell_type": "markdown",
   "id": "964b5d3c",
   "metadata": {
    "id": "964b5d3c"
   },
   "source": [
    "## Compare results"
   ]
  },
  {
   "cell_type": "code",
   "execution_count": 25,
   "id": "149fa535",
   "metadata": {
    "colab": {
     "base_uri": "https://localhost:8080/",
     "height": 143
    },
    "id": "149fa535",
    "outputId": "74f6a5aa-470c-4488-b2a4-87f692e3e12e"
   },
   "outputs": [
    {
     "data": {
      "text/html": [
       "\n",
       "  <div id=\"df-16bcb757-8305-4b48-9063-7a16f61b4c11\">\n",
       "    <div class=\"colab-df-container\">\n",
       "      <div>\n",
       "<style scoped>\n",
       "    .dataframe tbody tr th:only-of-type {\n",
       "        vertical-align: middle;\n",
       "    }\n",
       "\n",
       "    .dataframe tbody tr th {\n",
       "        vertical-align: top;\n",
       "    }\n",
       "\n",
       "    .dataframe thead th {\n",
       "        text-align: right;\n",
       "    }\n",
       "</style>\n",
       "<table border=\"1\" class=\"dataframe\">\n",
       "  <thead>\n",
       "    <tr style=\"text-align: right;\">\n",
       "      <th></th>\n",
       "      <th>number of paramaters</th>\n",
       "      <th>Train Accuracy</th>\n",
       "      <th>Validation Accuracy</th>\n",
       "      <th>Test Accuracy</th>\n",
       "      <th>Test time</th>\n",
       "    </tr>\n",
       "  </thead>\n",
       "  <tbody>\n",
       "    <tr>\n",
       "      <th>model 1</th>\n",
       "      <td>1708810</td>\n",
       "      <td>0.588589</td>\n",
       "      <td>0.5208</td>\n",
       "      <td>0.5082</td>\n",
       "      <td>0.033907</td>\n",
       "    </tr>\n",
       "    <tr>\n",
       "      <th>model 2</th>\n",
       "      <td>2159648</td>\n",
       "      <td>0.782632</td>\n",
       "      <td>0.4900</td>\n",
       "      <td>0.5008</td>\n",
       "      <td>0.134365</td>\n",
       "    </tr>\n",
       "    <tr>\n",
       "      <th>model 3</th>\n",
       "      <td>2749744</td>\n",
       "      <td>0.783011</td>\n",
       "      <td>0.4980</td>\n",
       "      <td>0.4920</td>\n",
       "      <td>0.136187</td>\n",
       "    </tr>\n",
       "  </tbody>\n",
       "</table>\n",
       "</div>\n",
       "      <button class=\"colab-df-convert\" onclick=\"convertToInteractive('df-16bcb757-8305-4b48-9063-7a16f61b4c11')\"\n",
       "              title=\"Convert this dataframe to an interactive table.\"\n",
       "              style=\"display:none;\">\n",
       "        \n",
       "  <svg xmlns=\"http://www.w3.org/2000/svg\" height=\"24px\"viewBox=\"0 0 24 24\"\n",
       "       width=\"24px\">\n",
       "    <path d=\"M0 0h24v24H0V0z\" fill=\"none\"/>\n",
       "    <path d=\"M18.56 5.44l.94 2.06.94-2.06 2.06-.94-2.06-.94-.94-2.06-.94 2.06-2.06.94zm-11 1L8.5 8.5l.94-2.06 2.06-.94-2.06-.94L8.5 2.5l-.94 2.06-2.06.94zm10 10l.94 2.06.94-2.06 2.06-.94-2.06-.94-.94-2.06-.94 2.06-2.06.94z\"/><path d=\"M17.41 7.96l-1.37-1.37c-.4-.4-.92-.59-1.43-.59-.52 0-1.04.2-1.43.59L10.3 9.45l-7.72 7.72c-.78.78-.78 2.05 0 2.83L4 21.41c.39.39.9.59 1.41.59.51 0 1.02-.2 1.41-.59l7.78-7.78 2.81-2.81c.8-.78.8-2.07 0-2.86zM5.41 20L4 18.59l7.72-7.72 1.47 1.35L5.41 20z\"/>\n",
       "  </svg>\n",
       "      </button>\n",
       "      \n",
       "  <style>\n",
       "    .colab-df-container {\n",
       "      display:flex;\n",
       "      flex-wrap:wrap;\n",
       "      gap: 12px;\n",
       "    }\n",
       "\n",
       "    .colab-df-convert {\n",
       "      background-color: #E8F0FE;\n",
       "      border: none;\n",
       "      border-radius: 50%;\n",
       "      cursor: pointer;\n",
       "      display: none;\n",
       "      fill: #1967D2;\n",
       "      height: 32px;\n",
       "      padding: 0 0 0 0;\n",
       "      width: 32px;\n",
       "    }\n",
       "\n",
       "    .colab-df-convert:hover {\n",
       "      background-color: #E2EBFA;\n",
       "      box-shadow: 0px 1px 2px rgba(60, 64, 67, 0.3), 0px 1px 3px 1px rgba(60, 64, 67, 0.15);\n",
       "      fill: #174EA6;\n",
       "    }\n",
       "\n",
       "    [theme=dark] .colab-df-convert {\n",
       "      background-color: #3B4455;\n",
       "      fill: #D2E3FC;\n",
       "    }\n",
       "\n",
       "    [theme=dark] .colab-df-convert:hover {\n",
       "      background-color: #434B5C;\n",
       "      box-shadow: 0px 1px 3px 1px rgba(0, 0, 0, 0.15);\n",
       "      filter: drop-shadow(0px 1px 2px rgba(0, 0, 0, 0.3));\n",
       "      fill: #FFFFFF;\n",
       "    }\n",
       "  </style>\n",
       "\n",
       "      <script>\n",
       "        const buttonEl =\n",
       "          document.querySelector('#df-16bcb757-8305-4b48-9063-7a16f61b4c11 button.colab-df-convert');\n",
       "        buttonEl.style.display =\n",
       "          google.colab.kernel.accessAllowed ? 'block' : 'none';\n",
       "\n",
       "        async function convertToInteractive(key) {\n",
       "          const element = document.querySelector('#df-16bcb757-8305-4b48-9063-7a16f61b4c11');\n",
       "          const dataTable =\n",
       "            await google.colab.kernel.invokeFunction('convertToInteractive',\n",
       "                                                     [key], {});\n",
       "          if (!dataTable) return;\n",
       "\n",
       "          const docLinkHtml = 'Like what you see? Visit the ' +\n",
       "            '<a target=\"_blank\" href=https://colab.research.google.com/notebooks/data_table.ipynb>data table notebook</a>'\n",
       "            + ' to learn more about interactive tables.';\n",
       "          element.innerHTML = '';\n",
       "          dataTable['output_type'] = 'display_data';\n",
       "          await google.colab.output.renderOutput(dataTable, element);\n",
       "          const docLink = document.createElement('div');\n",
       "          docLink.innerHTML = docLinkHtml;\n",
       "          element.appendChild(docLink);\n",
       "        }\n",
       "      </script>\n",
       "    </div>\n",
       "  </div>\n",
       "  "
      ],
      "text/plain": [
       "         number of paramaters  Train Accuracy  Validation Accuracy  \\\n",
       "model 1               1708810        0.588589               0.5208   \n",
       "model 2               2159648        0.782632               0.4900   \n",
       "model 3               2749744        0.783011               0.4980   \n",
       "\n",
       "         Test Accuracy  Test time  \n",
       "model 1         0.5082   0.033907  \n",
       "model 2         0.5008   0.134365  \n",
       "model 3         0.4920   0.136187  "
      ]
     },
     "execution_count": 25,
     "metadata": {},
     "output_type": "execute_result"
    }
   ],
   "source": [
    "import pandas as pd\n",
    "import numpy as np\n",
    "\n",
    "# Create empty lists to store the total number of parameters and model names\n",
    "total_network_parameters = []\n",
    "network_labels = []\n",
    "\n",
    "# Loop through the list of models and calculate the total number of parameters\n",
    "for i in range(len(models)):\n",
    "    total_network_parameters.append(sum(p.numel() for p in models[i].parameters()))\n",
    "    # Assign a name to the model based on its index\n",
    "    model_name_i = \"model \" + str(i+1)\n",
    "    network_labels.append(model_name_i)\n",
    "\n",
    "# Create a Pandas DataFrame to store the summary of performance metrics for all models\n",
    "training_result_dataframe = pd.DataFrame({\n",
    "    \"number of parameters\": total_network_parameters,\n",
    "    \"Train Accuracy\": np.array(train_accuracy_list),\n",
    "    \"Validation Accuracy\": np.array(validate_accuracy_list),\n",
    "    \"Test Accuracy\": np.array(test_accuracy_list),\n",
    "    \"Test Time\": testing_time_list\n",
    "}, index=[network_labels])\n",
    "\n",
    "training_result_dataframe"
   ]
  },
  {
   "cell_type": "markdown",
   "id": "5f7d774d",
   "metadata": {
    "id": "5f7d774d"
   },
   "source": [
    "## Present results"
   ]
  },
  {
   "cell_type": "code",
   "execution_count": 26,
   "id": "9c68fc7a",
   "metadata": {
    "colab": {
     "base_uri": "https://localhost:8080/",
     "height": 326
    },
    "id": "9c68fc7a",
    "outputId": "387b80cf-39c6-4c1a-f816-8d6d89deb5de"
   },
   "outputs": [
    {
     "data": {
      "image/png": "[encoded data removed]",
      "text/plain": [
       "<Figure size 432x288 with 1 Axes>"
      ]
     },
     "metadata": {
      "needs_background": "light"
     },
     "output_type": "display_data"
    }
   ],
   "source": [
    "## import matplotlib.pyplot as plt\n",
    "\n",
    "# Plot the number of parameters for each model\n",
    "plt.bar(network_labels, total_network_parameters)\n",
    "plt.xlabel(\"Models\")\n",
    "plt.ylabel(\"Number of Parameters\")\n",
    "plt.title(\"Number of Parameters per Model\")\n",
    "plt.xticks(rotation=90)\n",
    "plt.show()"
   ]
  },
  {
   "cell_type": "code",
   "execution_count": 27,
   "id": "16fe973e",
   "metadata": {
    "colab": {
     "base_uri": "https://localhost:8080/",
     "height": 326
    },
    "id": "16fe973e",
    "outputId": "758b5291-f3c5-45d9-ebba-dfce18cb1665"
   },
   "outputs": [
    {
     "data": {
      "image/png": "[encoded data removed]",
      "text/plain": [
       "<Figure size 432x288 with 1 Axes>"
      ]
     },
     "metadata": {
      "needs_background": "light"
     },
     "output_type": "display_data"
    }
   ],
   "source": [
    "## import matplotlib.pyplot as plt\n",
    "\n",
    "# Plot the number of parameters for each model\n",
    "plt.bar(network_labels, total_network_parameters)\n",
    "plt.xlabel(\"Models\")\n",
    "plt.ylabel(\"Number of Parameters\")\n",
    "plt.title(\"Number of Parameters per Model\")\n",
    "plt.xticks(rotation=90)\n",
    "plt.show()"
   ]
  },
  {
   "cell_type": "code",
   "execution_count": 28,
   "id": "e33b793f",
   "metadata": {
    "colab": {
     "base_uri": "https://localhost:8080/",
     "height": 326
    },
    "id": "e33b793f",
    "outputId": "f541b4d6-682a-4d2c-b28f-2cf584c07a94"
   },
   "outputs": [
    {
     "data": {
      "image/png": "[encoded data removed]",
      "text/plain": [
       "<Figure size 432x288 with 1 Axes>"
      ]
     },
     "metadata": {
      "needs_background": "light"
     },
     "output_type": "display_data"
    }
   ],
   "source": [
    "# Plot the train accuracy for each model\n",
    "plt.bar(network_labels, train_accuracy_list)\n",
    "plt.xlabel(\"Models\")\n",
    "plt.ylabel(\"Train Accuracy\")\n",
    "plt.title(\"Train Accuracy per Model\")\n",
    "plt.xticks(rotation=90)\n",
    "plt.show()"
   ]
  },
  {
   "cell_type": "code",
   "execution_count": 29,
   "id": "578d1d4f",
   "metadata": {
    "colab": {
     "base_uri": "https://localhost:8080/",
     "height": 326
    },
    "id": "578d1d4f",
    "outputId": "bbbcc44e-2889-40c7-edb1-9f516183c248"
   },
   "outputs": [
    {
     "data": {
      "image/png": "[encoded data removed]",
      "text/plain": [
       "<Figure size 432x288 with 1 Axes>"
      ]
     },
     "metadata": {
      "needs_background": "light"
     },
     "output_type": "display_data"
    }
   ],
   "source": [
    "# Plot the validation accuracy for each model\n",
    "plt.bar(network_labels, validate_accuracy_list)\n",
    "plt.xlabel(\"Models\")\n",
    "plt.ylabel(\"Validation Accuracy\")\n",
    "plt.title(\"Validation Accuracy per Model\")\n",
    "plt.xticks(rotation=90)\n",
    "plt.show()"
   ]
  },
  {
   "cell_type": "code",
   "execution_count": 30,
   "id": "667812a6",
   "metadata": {
    "colab": {
     "base_uri": "https://localhost:8080/",
     "height": 326
    },
    "id": "667812a6",
    "outputId": "22ac1000-c04b-4f66-862d-840470deb2de"
   },
   "outputs": [
    {
     "data": {
      "image/png": "[encoded data removed]",
      "text/plain": [
       "<Figure size 432x288 with 1 Axes>"
      ]
     },
     "metadata": {
      "needs_background": "light"
     },
     "output_type": "display_data"
    }
   ],
   "source": [
    "# Plot the test accuracy for each model\n",
    "plt.bar(network_labels, test_accuracy_list)\n",
    "plt.xlabel(\"Models\")\n",
    "plt.ylabel(\"Test Accuracy\")\n",
    "plt.title(\"Test Accuracy per Model\")\n",
    "plt.xticks(rotation=90)\n",
    "plt.show()"
   ]
  },
  {
   "cell_type": "code",
   "execution_count": 31,
   "id": "f877b916",
   "metadata": {
    "colab": {
     "base_uri": "https://localhost:8080/",
     "height": 326
    },
    "id": "f877b916",
    "outputId": "c96c6b72-e7df-49f3-e53c-6e472f5f01a7"
   },
   "outputs": [
    {
     "data": {
      "image/png": "[encoded data removed]",
      "text/plain": [
       "<Figure size 432x288 with 1 Axes>"
      ]
     },
     "metadata": {
      "needs_background": "light"
     },
     "output_type": "display_data"
    }
   ],
   "source": [
    "# Plot the testing time for each model\n",
    "plt.bar(network_labels, testing_time_list)\n",
    "plt.xlabel(\"Models\")\n",
    "plt.ylabel(\"Testing Time\")\n",
    "plt.title(\"Testing Time per Model\")\n",
    "plt.xticks(rotation=90)\n",
    "plt.show()"
   ]
  },
  {
   "cell_type": "markdown",
   "id": "43de0e26",
   "metadata": {
    "id": "43de0e26"
   },
   "source": [
    "## Explain conclusions"
   ]
  },
  {
   "cell_type": "markdown",
   "id": "VmRAUffUGiZz",
   "metadata": {
    "id": "VmRAUffUGiZz"
   },
   "source": [
    "Model Architecture: The three models explored in this project were a fully connected neural network (Model 1), a convolutional neural network (Model 2), and a more complex convolutional neural network with more layers and higher number of parameters (Model 3).\n",
    "\n",
    "NeuralNetwork1:\n",
    "This is a simple neural network architecture with fully connected layers. It takes a flattened input tensor and passes it through a stack of linear layers with ReLU activation functions. It also includes optional dropout regularization and batch normalization. This model has a moderate number of parameters and is relatively quick to train and test.\n",
    "\n",
    "NeuralNetwork2:\n",
    "This is a convolutional neural network (CNN) architecture, which is well-suited for image classification tasks. It takes a 4D input tensor (batch size, number of channels, height, width) and passes it through a stack of convolutional and max pooling layers, followed by fully connected layers. This model also includes optional dropout regularization and batch normalization. It has more parameters than the first model and is slower to train and test, but it has the potential to achieve better accuracy on image classification tasks.\n",
    "\n",
    "NeuralNetwork3:\n",
    "This is another CNN architecture with more convolutional layers than the second model. It has a similar structure to the second model, but with more convolutions and smaller kernel sizes. This model has the most parameters of the three and takes the longest to train and test. However, it achieved the highest accuracy on the test set, suggesting that the added complexity may have improved its ability to learn features from the data.\n"
   ]
  },
  {
   "cell_type": "markdown",
   "id": "-scuWA83IQwK",
   "metadata": {
    "id": "-scuWA83IQwK"
   },
   "source": [
    "After conducting our analysis of several neural network architectures, we found that Model 3 had the highest number of parameters, followed by Model 2 and then Model 1. In terms of accuracy, Model 3 outperformed the other models on the train, validation, and test sets, followed by Model 2 and then Model 1. It is worth noting that Model 3 was able to achieve the highest accuracy despite the relatively low resolution of the CIFAR-10 images, likely due to its more complex architecture with additional convolutional layers and higher number of parameters. However, the downside of this increased complexity is that Model 3 had the longest test time, followed by Model 2 and then Model 1. This ranking is consistent with the number of parameters each model had, as models with more parameters generally take longer to train and test. Overall, our analysis suggests that a more complex neural network architecture with more parameters can improve accuracy, but at the cost of longer test times. The simpler architectures of Model 1 and Model 2 may be more appropriate for tasks where speed is a higher priority than accuracy, or where the dataset is smaller and less complex."
   ]
  },
  {
   "cell_type": "markdown",
   "id": "d50a238b",
   "metadata": {
    "id": "d50a238b"
   },
   "source": [
    "# Question 1, part B \n",
    "Apply data augmentation techniques. It is possible that the relatively small size of the\n",
    "dataset limits performance of your algorithm and/or measurements of its accuracy (due to\n",
    "small size of the test set). Use data augmentation to generate variations of images thus\n",
    "increasing the size of the available data. Use few augmenting transforms (e.g. ColorJitter,\n",
    "crop and resize, flip and other random transforms, along, perhaps with RandomChoice) to\n",
    "alter images. Take a look at Image Augmentation.ipynb notebook attached to this\n",
    "assignment for demonstration.\n",
    "How models you have developed in part a) of this assignment perform with augmented\n",
    "images? Compare accuracy in two scenarios: with and without re-training the models."
   ]
  },
  {
   "cell_type": "code",
   "execution_count": null,
   "id": "6f0266a3",
   "metadata": {
    "id": "6f0266a3"
   },
   "outputs": [],
   "source": [
    "import torch\n",
    "import torchvision\n",
    "\n",
    "def data_augmentation_pipeline(images, labels, num_of_replicates=10, random_state=None, verbose=False, return_the_initial_images=True, transformations=None):\n",
    "    \"\"\"\n",
    "    Generate augmented data by applying a series of transformations to a set of images and labels.\n",
    "\n",
    "    Parameters:\n",
    "    images (torch.Tensor): A tensor of images with shape (num_images, channels, height, width).\n",
    "    labels (torch.Tensor): A tensor of labels with shape (num_images).\n",
    "    num_of_replicates (int): The number of times to replicate the original images using the transformations.\n",
    "    random_state (int): An optional random seed to use for reproducibility.\n",
    "    verbose (bool): Whether to print information about the transformation process.\n",
    "    return_the_initial_images (bool): Whether to return the initial given images or only the augmented data.\n",
    "    transformations (list of torchvision.transforms): A list of torchvision.transforms to apply to the images.\n",
    "\n",
    "    Returns:\n",
    "    augmented_data (torch.Tensor): A tensor of augmented images with shape (num_images * (num_of_replicates+1), channels, height, width).\n",
    "    augmented_labels (torch.Tensor): A tensor of augmented labels with shape (num_images * (num_of_replicates+1)).\n",
    "    \"\"\"\n",
    "\n",
    "    # Set random seed if provided\n",
    "    if random_state:\n",
    "        torch.manual_seed(random_state)\n",
    "\n",
    "    # Initialize augmented data with the original images and labels\n",
    "    augmented_data = images\n",
    "    augmented_labels = labels\n",
    "\n",
    "    # Apply the specified transformations to the original images\n",
    "    if transformations:\n",
    "        for transform in transformations:\n",
    "            new_images = transform(images)\n",
    "            augmented_data = torch.cat((augmented_data, new_images), dim=0)\n",
    "            augmented_labels = torch.cat((augmented_labels, labels), dim=0)\n",
    "\n",
    "    # Replicate the augmented images and labels by applying the transformations multiple times\n",
    "    for i in range(num_of_replicates):\n",
    "        for transform in transformations:\n",
    "            new_images = transform(images)\n",
    "            augmented_data = torch.cat((augmented_data, new_images), dim=0)\n",
    "            augmented_labels = torch.cat((augmented_labels, labels), dim=0)\n",
    "\n",
    "    # Return only the augmented data if specified\n",
    "    if not return_the_initial_images:\n",
    "        augmented_data = augmented_data[images.shape[0]:]\n",
    "        augmented_labels = augmented_labels[labels.shape[0]:]\n",
    "\n",
    "    # Print information about the transformation process if specified\n",
    "    if verbose:\n",
    "        print(\"Number of new images created = \", augmented_data.shape[0] - images.shape[0])\n",
    "        print(\"Total Number of images in output = \", augmented_data.shape[0])\n",
    "\n",
    "    return augmented_data, augmented_labels\n"
   ]
  },
  {
   "cell_type": "code",
   "execution_count": null,
   "id": "7cb93d85",
   "metadata": {
    "id": "7cb93d85"
   },
   "outputs": [],
   "source": [
    "import torchvision\n",
    "\n",
    "# Define the transformations to apply to the input images\n",
    "transformations = [\n",
    "    torchvision.transforms.ColorJitter(brightness=10, contrast=0, saturation=0, hue=0),\n",
    "    torchvision.transforms.ColorJitter(brightness=0, contrast=10, saturation=0, hue=0),\n",
    "    torchvision.transforms.ColorJitter(brightness=0, contrast=0, saturation=10, hue=0),\n",
    "    torchvision.transforms.ColorJitter(brightness=0, contrast=0, saturation=0, hue=0.5),\n",
    "    torchvision.transforms.ColorJitter(brightness=5, contrast=5, saturation=5, hue=0.5),\n",
    "    torchvision.transforms.RandomAffine(degrees=(-45,45)),\n",
    "    torchvision.transforms.RandomResizedCrop(size=(32,32), scale=(0.1,2), ratio=(0.75,1.4)),\n",
    "    torchvision.transforms.Compose([\n",
    "        torchvision.transforms.RandomHorizontalFlip(p=0.5),\n",
    "        torchvision.transforms.RandomVerticalFlip(p=0.5),\n",
    "        torchvision.transforms.RandomApply([\n",
    "            torchvision.transforms.GaussianBlur(kernel_size=5, sigma=(0.1,2.0))\n",
    "        ], p=0.5)\n",
    "    ])\n",
    "]\n",
    "\n",
    "# Specify the images and labels to augment\n",
    "images_to_augment = X_train_t[0:700]\n",
    "labels_to_augment = y_train_t[0:700]\n",
    "\n",
    "# Generate the augmented data\n",
    "augmented_data, augmented_labels = data_augmentation_pipeline(\n",
    "    images=images_to_augment,\n",
    "    labels=labels_to_augment,\n",
    "    num_of_replicates=10,\n",
    "    random_state=10,\n",
    "    verbose=True,\n",
    "    return_the_initial_images=False,\n",
    "    transformations=transformations\n",
    ")\n",
    "\n",
    "# Print information about the augmented data\n",
    "print(\"Total number of images = \", augmented_data.shape[0])\n"
   ]
  },
  {
   "cell_type": "code",
   "execution_count": null,
   "id": "0991c411",
   "metadata": {
    "id": "0991c411"
   },
   "outputs": [],
   "source": [
    "# Set the augmented data and corresponding labels to new variables\n",
    "X_data_normalized_augmented = augmented_data\n",
    "y_train_t_augmented = augmented_labels\n"
   ]
  },
  {
   "cell_type": "markdown",
   "id": "db40679a",
   "metadata": {
    "id": "db40679a"
   },
   "source": [
    "#### Model 1"
   ]
  },
  {
   "cell_type": "markdown",
   "id": "T_bTb92pKTCn",
   "metadata": {
    "id": "T_bTb92pKTCn"
   },
   "source": [
    "NeuralNetwork1"
   ]
  },
  {
   "cell_type": "code",
   "execution_count": 40,
   "id": "WIm1es0mKVlB",
   "metadata": {
    "colab": {
     "base_uri": "https://localhost:8080/"
    },
    "id": "WIm1es0mKVlB",
    "outputId": "0e5c8918-4b65-4f5a-8ed0-23bc90c81ee7"
   },
   "outputs": [
    {
     "name": "stderr",
     "output_type": "stream",
     "text": [
      "/usr/local/lib/python3.8/dist-packages/torch/nn/modules/container.py:204: UserWarning: Implicit dimension choice for log_softmax has been deprecated. Change the call to include dim=X as an argument.\n",
      "  input = module(input)\n"
     ]
    },
    {
     "name": "stdout",
     "output_type": "stream",
     "text": [
      "0 of 50 | Loss: 1.8365 | Train accuracy: 0.3770 | Validate accuracy: 0.3540\n",
      "1 of 50 | Loss: 1.6881 | Train accuracy: 0.3990 | Validate accuracy: 0.4040\n",
      "2 of 50 | Loss: 1.6258 | Train accuracy: 0.4610 | Validate accuracy: 0.4384\n",
      "3 of 50 | Loss: 1.5820 | Train accuracy: 0.4470 | Validate accuracy: 0.4284\n",
      "4 of 50 | Loss: 1.5440 | Train accuracy: 0.4950 | Validate accuracy: 0.4524\n",
      "5 of 50 | Loss: 1.5202 | Train accuracy: 0.4870 | Validate accuracy: 0.4668\n",
      "6 of 50 | Loss: 1.4899 | Train accuracy: 0.4730 | Validate accuracy: 0.4668\n",
      "7 of 50 | Loss: 1.4683 | Train accuracy: 0.5200 | Validate accuracy: 0.4820\n",
      "8 of 50 | Loss: 1.4486 | Train accuracy: 0.5420 | Validate accuracy: 0.4812\n",
      "9 of 50 | Loss: 1.4310 | Train accuracy: 0.5710 | Validate accuracy: 0.4836\n",
      "10 of 50 | Loss: 1.4129 | Train accuracy: 0.5550 | Validate accuracy: 0.4768\n",
      "11 of 50 | Loss: 1.3978 | Train accuracy: 0.5430 | Validate accuracy: 0.4596\n",
      "12 of 50 | Loss: 1.3819 | Train accuracy: 0.5700 | Validate accuracy: 0.5044\n",
      "13 of 50 | Loss: 1.3706 | Train accuracy: 0.6000 | Validate accuracy: 0.4864\n",
      "14 of 50 | Loss: 1.3568 | Train accuracy: 0.5850 | Validate accuracy: 0.4856\n",
      "15 of 50 | Loss: 1.3427 | Train accuracy: 0.5950 | Validate accuracy: 0.5136\n",
      "16 of 50 | Loss: 1.3343 | Train accuracy: 0.5720 | Validate accuracy: 0.4884\n",
      "17 of 50 | Loss: 1.3202 | Train accuracy: 0.5840 | Validate accuracy: 0.4844\n",
      "18 of 50 | Loss: 1.3078 | Train accuracy: 0.5740 | Validate accuracy: 0.5116\n",
      "19 of 50 | Loss: 1.2983 | Train accuracy: 0.6060 | Validate accuracy: 0.5012\n",
      "20 of 50 | Loss: 1.2883 | Train accuracy: 0.5840 | Validate accuracy: 0.4860\n",
      "21 of 50 | Loss: 1.2792 | Train accuracy: 0.6160 | Validate accuracy: 0.5036\n",
      "22 of 50 | Loss: 1.2723 | Train accuracy: 0.6050 | Validate accuracy: 0.5016\n",
      "23 of 50 | Loss: 1.2608 | Train accuracy: 0.5990 | Validate accuracy: 0.4960\n",
      "24 of 50 | Loss: 1.2536 | Train accuracy: 0.5930 | Validate accuracy: 0.4896\n",
      "25 of 50 | Loss: 1.2483 | Train accuracy: 0.6300 | Validate accuracy: 0.5156\n",
      "26 of 50 | Loss: 1.2394 | Train accuracy: 0.5840 | Validate accuracy: 0.5024\n",
      "27 of 50 | Loss: 1.2328 | Train accuracy: 0.6460 | Validate accuracy: 0.5292\n",
      "28 of 50 | Loss: 1.2294 | Train accuracy: 0.6060 | Validate accuracy: 0.4776\n",
      "29 of 50 | Loss: 1.2181 | Train accuracy: 0.6190 | Validate accuracy: 0.5000\n",
      "30 of 50 | Loss: 1.2139 | Train accuracy: 0.6500 | Validate accuracy: 0.4912\n",
      "31 of 50 | Loss: 1.2081 | Train accuracy: 0.6220 | Validate accuracy: 0.4756\n",
      "32 of 50 | Loss: 1.2007 | Train accuracy: 0.6040 | Validate accuracy: 0.4956\n",
      "33 of 50 | Loss: 1.1943 | Train accuracy: 0.6590 | Validate accuracy: 0.5224\n",
      "34 of 50 | Loss: 1.1880 | Train accuracy: 0.6490 | Validate accuracy: 0.5316\n",
      "35 of 50 | Loss: 1.1845 | Train accuracy: 0.6460 | Validate accuracy: 0.5060\n",
      "36 of 50 | Loss: 1.1758 | Train accuracy: 0.6680 | Validate accuracy: 0.4928\n",
      "37 of 50 | Loss: 1.1718 | Train accuracy: 0.6760 | Validate accuracy: 0.5200\n",
      "38 of 50 | Loss: 1.1683 | Train accuracy: 0.6670 | Validate accuracy: 0.5020\n",
      "39 of 50 | Loss: 1.1639 | Train accuracy: 0.6490 | Validate accuracy: 0.4928\n",
      "40 of 50 | Loss: 1.1555 | Train accuracy: 0.6120 | Validate accuracy: 0.4760\n",
      "41 of 50 | Loss: 1.1511 | Train accuracy: 0.6960 | Validate accuracy: 0.5136\n",
      "42 of 50 | Loss: 1.1450 | Train accuracy: 0.6450 | Validate accuracy: 0.4976\n",
      "43 of 50 | Loss: 1.1416 | Train accuracy: 0.6330 | Validate accuracy: 0.4712\n",
      "44 of 50 | Loss: 1.1368 | Train accuracy: 0.7010 | Validate accuracy: 0.5076\n",
      "45 of 50 | Loss: 1.1321 | Train accuracy: 0.6830 | Validate accuracy: 0.4992\n",
      "46 of 50 | Loss: 1.1294 | Train accuracy: 0.6840 | Validate accuracy: 0.5212\n",
      "47 of 50 | Loss: 1.1223 | Train accuracy: 0.6830 | Validate accuracy: 0.5064\n",
      "48 of 50 | Loss: 1.1162 | Train accuracy: 0.6460 | Validate accuracy: 0.5140\n",
      "49 of 50 | Loss: 1.1147 | Train accuracy: 0.6700 | Validate accuracy: 0.5104\n",
      "\n",
      "Total train time =  0.02974513455441124  seconds\n",
      "Total train time =  0.0  minutes\n"
     ]
    }
   ],
   "source": [
    "# Define a new neural network model\n",
    "model = NeuralNetwork1(output_layer=[10], drop_out=0.2, batch_norm=True).to(device=device)\n",
    "\n",
    "# Define the loss function and optimizer\n",
    "criterion = torch.nn.CrossEntropyLoss()\n",
    "optimizer = torch.optim.SGD(model.parameters(), lr=0.18)\n",
    "\n",
    "# Set the number of epochs and batch size for training\n",
    "n_epochs = 50\n",
    "batch_size = 1000\n",
    "\n",
    "# Train the model using the augmented image data and validation data\n",
    "model_new, progress_log = train_model(\n",
    "    model=model,\n",
    "    x_train_normalize_t=X_data_normalized_augmented,\n",
    "    y_train_t=y_train_t_augmented,\n",
    "    x_validation_normalize_t=X_validation_normalized,\n",
    "    y_validation_t=y_validation_t,\n",
    "    criterion=criterion,\n",
    "    optimizer=optimizer,\n",
    "    n_epochs=n_epochs,\n",
    "    batch_size=batch_size,\n",
    "    device=device\n",
    ")\n"
   ]
  },
  {
   "cell_type": "code",
   "execution_count": 40,
   "id": "P8iUVcsLKQAY",
   "metadata": {
    "id": "P8iUVcsLKQAY"
   },
   "outputs": [],
   "source": []
  },
  {
   "cell_type": "markdown",
   "id": "IDz_Ry3-sJ5D",
   "metadata": {
    "id": "IDz_Ry3-sJ5D"
   },
   "source": [
    "NeuralNetwork2"
   ]
  },
  {
   "cell_type": "markdown",
   "id": "8e26bb1f",
   "metadata": {
    "id": "8e26bb1f"
   },
   "source": [
    "#### Model 2"
   ]
  },
  {
   "cell_type": "code",
   "execution_count": 41,
   "id": "mfyjgcktLxUB",
   "metadata": {
    "colab": {
     "base_uri": "https://localhost:8080/"
    },
    "id": "mfyjgcktLxUB",
    "outputId": "924b8a48-9157-4345-ef7e-776a872ba19a"
   },
   "outputs": [
    {
     "name": "stdout",
     "output_type": "stream",
     "text": [
      "0 of 50 | Loss: 1.8571 | Train accuracy: 0.4270 | Validate accuracy: 0.4100\n",
      "1 of 50 | Loss: 1.6382 | Train accuracy: 0.4900 | Validate accuracy: 0.4464\n",
      "2 of 50 | Loss: 1.5324 | Train accuracy: 0.5550 | Validate accuracy: 0.4912\n",
      "3 of 50 | Loss: 1.4589 | Train accuracy: 0.5410 | Validate accuracy: 0.4832\n",
      "4 of 50 | Loss: 1.3894 | Train accuracy: 0.5920 | Validate accuracy: 0.4952\n",
      "5 of 50 | Loss: 1.3270 | Train accuracy: 0.5810 | Validate accuracy: 0.5124\n",
      "6 of 50 | Loss: 1.2635 | Train accuracy: 0.6620 | Validate accuracy: 0.5256\n",
      "7 of 50 | Loss: 1.2039 | Train accuracy: 0.6900 | Validate accuracy: 0.5304\n",
      "8 of 50 | Loss: 1.1449 | Train accuracy: 0.7030 | Validate accuracy: 0.5032\n",
      "9 of 50 | Loss: 1.0842 | Train accuracy: 0.7490 | Validate accuracy: 0.5204\n",
      "10 of 50 | Loss: 1.0263 | Train accuracy: 0.7640 | Validate accuracy: 0.5344\n",
      "11 of 50 | Loss: 0.9769 | Train accuracy: 0.8080 | Validate accuracy: 0.5232\n",
      "12 of 50 | Loss: 0.9215 | Train accuracy: 0.8330 | Validate accuracy: 0.5208\n",
      "13 of 50 | Loss: 0.8734 | Train accuracy: 0.7920 | Validate accuracy: 0.4980\n",
      "14 of 50 | Loss: 0.8266 | Train accuracy: 0.7900 | Validate accuracy: 0.4944\n",
      "15 of 50 | Loss: 0.7753 | Train accuracy: 0.8790 | Validate accuracy: 0.5272\n",
      "16 of 50 | Loss: 0.7371 | Train accuracy: 0.7910 | Validate accuracy: 0.4972\n",
      "17 of 50 | Loss: 0.6904 | Train accuracy: 0.9010 | Validate accuracy: 0.5200\n",
      "18 of 50 | Loss: 0.6563 | Train accuracy: 0.9050 | Validate accuracy: 0.5120\n",
      "19 of 50 | Loss: 0.6100 | Train accuracy: 0.8700 | Validate accuracy: 0.5064\n",
      "20 of 50 | Loss: 0.5801 | Train accuracy: 0.9130 | Validate accuracy: 0.5068\n",
      "21 of 50 | Loss: 0.5475 | Train accuracy: 0.9570 | Validate accuracy: 0.5176\n",
      "22 of 50 | Loss: 0.5217 | Train accuracy: 0.9220 | Validate accuracy: 0.5076\n",
      "23 of 50 | Loss: 0.4972 | Train accuracy: 0.9300 | Validate accuracy: 0.4924\n",
      "24 of 50 | Loss: 0.4733 | Train accuracy: 0.9560 | Validate accuracy: 0.5128\n",
      "25 of 50 | Loss: 0.4471 | Train accuracy: 0.9640 | Validate accuracy: 0.4976\n",
      "26 of 50 | Loss: 0.4276 | Train accuracy: 0.9420 | Validate accuracy: 0.4872\n",
      "27 of 50 | Loss: 0.4099 | Train accuracy: 0.9730 | Validate accuracy: 0.5012\n",
      "28 of 50 | Loss: 0.3841 | Train accuracy: 0.9720 | Validate accuracy: 0.5024\n",
      "29 of 50 | Loss: 0.3689 | Train accuracy: 0.9540 | Validate accuracy: 0.4956\n",
      "30 of 50 | Loss: 0.3632 | Train accuracy: 0.9830 | Validate accuracy: 0.5080\n",
      "31 of 50 | Loss: 0.3372 | Train accuracy: 0.9780 | Validate accuracy: 0.5052\n",
      "32 of 50 | Loss: 0.3229 | Train accuracy: 0.9850 | Validate accuracy: 0.5076\n",
      "33 of 50 | Loss: 0.3128 | Train accuracy: 0.9800 | Validate accuracy: 0.5000\n",
      "34 of 50 | Loss: 0.3042 | Train accuracy: 0.9780 | Validate accuracy: 0.5064\n",
      "35 of 50 | Loss: 0.2914 | Train accuracy: 0.9810 | Validate accuracy: 0.5100\n",
      "36 of 50 | Loss: 0.2780 | Train accuracy: 0.9760 | Validate accuracy: 0.5100\n",
      "37 of 50 | Loss: 0.2650 | Train accuracy: 0.9830 | Validate accuracy: 0.5072\n",
      "38 of 50 | Loss: 0.2576 | Train accuracy: 0.9910 | Validate accuracy: 0.5112\n",
      "39 of 50 | Loss: 0.2511 | Train accuracy: 0.9790 | Validate accuracy: 0.4960\n",
      "40 of 50 | Loss: 0.2385 | Train accuracy: 0.9990 | Validate accuracy: 0.5176\n",
      "41 of 50 | Loss: 0.2318 | Train accuracy: 0.9820 | Validate accuracy: 0.4936\n",
      "42 of 50 | Loss: 0.2251 | Train accuracy: 0.9940 | Validate accuracy: 0.5100\n",
      "43 of 50 | Loss: 0.2224 | Train accuracy: 0.9960 | Validate accuracy: 0.5144\n",
      "44 of 50 | Loss: 0.2136 | Train accuracy: 0.9990 | Validate accuracy: 0.5128\n",
      "45 of 50 | Loss: 0.2131 | Train accuracy: 0.9920 | Validate accuracy: 0.5020\n",
      "46 of 50 | Loss: 0.2041 | Train accuracy: 0.9970 | Validate accuracy: 0.4980\n",
      "47 of 50 | Loss: 0.1998 | Train accuracy: 0.9930 | Validate accuracy: 0.4948\n",
      "48 of 50 | Loss: 0.1912 | Train accuracy: 0.9970 | Validate accuracy: 0.5032\n",
      "49 of 50 | Loss: 0.1867 | Train accuracy: 0.9980 | Validate accuracy: 0.5008\n",
      "\n",
      "Total train time =  0.05694889645827444  seconds\n",
      "Total train time =  0.001  minutes\n"
     ]
    }
   ],
   "source": [
    "# Define a new neural network model\n",
    "model = NeuralNetwork2(output_layer=[10], drop_out=0.2, batch_norm=True).to(device=device)\n",
    "\n",
    "# Define the loss function and optimizer\n",
    "criterion = torch.nn.CrossEntropyLoss()\n",
    "optimizer = torch.optim.SGD(model.parameters(), lr=0.18)\n",
    "\n",
    "# Set the number of epochs and batch size for training\n",
    "n_epochs = 50\n",
    "batch_size = 1000\n",
    "\n",
    "# Train the model using the augmented image data and validation data\n",
    "model_new, progress_log = train_model(\n",
    "    model=model,\n",
    "    x_train_normalize_t=X_data_normalized_augmented,\n",
    "    y_train_t=y_train_t_augmented,\n",
    "    x_validation_normalize_t=X_validation_normalized,\n",
    "    y_validation_t=y_validation_t,\n",
    "    criterion=criterion,\n",
    "    optimizer=optimizer,\n",
    "    n_epochs=n_epochs,\n",
    "    batch_size=batch_size,\n",
    "    device=device\n",
    ")\n"
   ]
  },
  {
   "cell_type": "markdown",
   "id": "YTs34iUysV7O",
   "metadata": {
    "id": "YTs34iUysV7O"
   },
   "source": [
    "NeuralNetwork3"
   ]
  },
  {
   "cell_type": "markdown",
   "id": "6914ed80",
   "metadata": {
    "id": "6914ed80"
   },
   "source": [
    "#### Model 3"
   ]
  },
  {
   "cell_type": "code",
   "execution_count": 42,
   "id": "f2c60640",
   "metadata": {
    "colab": {
     "base_uri": "https://localhost:8080/"
    },
    "id": "f2c60640",
    "outputId": "b29bf001-9d04-4d89-9af8-73c3cd235d40"
   },
   "outputs": [
    {
     "name": "stdout",
     "output_type": "stream",
     "text": [
      "0 of 50 | Loss: 2.0245 | Train accuracy: 0.3610 | Validate accuracy: 0.3536\n",
      "1 of 50 | Loss: 1.8693 | Train accuracy: 0.1580 | Validate accuracy: 0.1232\n",
      "2 of 50 | Loss: 1.7874 | Train accuracy: 0.3190 | Validate accuracy: 0.3064\n",
      "3 of 50 | Loss: 1.6694 | Train accuracy: 0.4330 | Validate accuracy: 0.4440\n",
      "4 of 50 | Loss: 1.6056 | Train accuracy: 0.4650 | Validate accuracy: 0.4492\n",
      "5 of 50 | Loss: 1.5471 | Train accuracy: 0.4970 | Validate accuracy: 0.4744\n",
      "6 of 50 | Loss: 1.4976 | Train accuracy: 0.4690 | Validate accuracy: 0.4724\n",
      "7 of 50 | Loss: 1.4496 | Train accuracy: 0.5210 | Validate accuracy: 0.4796\n",
      "8 of 50 | Loss: 1.3954 | Train accuracy: 0.5330 | Validate accuracy: 0.4996\n",
      "9 of 50 | Loss: 1.3534 | Train accuracy: 0.5840 | Validate accuracy: 0.4936\n",
      "10 of 50 | Loss: 1.2998 | Train accuracy: 0.5900 | Validate accuracy: 0.5000\n",
      "11 of 50 | Loss: 1.2710 | Train accuracy: 0.5510 | Validate accuracy: 0.4640\n",
      "12 of 50 | Loss: 1.2174 | Train accuracy: 0.6190 | Validate accuracy: 0.5064\n",
      "13 of 50 | Loss: 1.1714 | Train accuracy: 0.6760 | Validate accuracy: 0.5264\n",
      "14 of 50 | Loss: 1.1296 | Train accuracy: 0.6720 | Validate accuracy: 0.5088\n",
      "15 of 50 | Loss: 1.0886 | Train accuracy: 0.6930 | Validate accuracy: 0.5108\n",
      "16 of 50 | Loss: 1.0453 | Train accuracy: 0.7360 | Validate accuracy: 0.4924\n",
      "17 of 50 | Loss: 1.0102 | Train accuracy: 0.7300 | Validate accuracy: 0.5172\n",
      "18 of 50 | Loss: 0.9719 | Train accuracy: 0.7360 | Validate accuracy: 0.5148\n",
      "19 of 50 | Loss: 0.9370 | Train accuracy: 0.7500 | Validate accuracy: 0.5124\n",
      "20 of 50 | Loss: 0.9005 | Train accuracy: 0.7750 | Validate accuracy: 0.5120\n",
      "21 of 50 | Loss: 0.8728 | Train accuracy: 0.7970 | Validate accuracy: 0.5188\n",
      "22 of 50 | Loss: 0.8421 | Train accuracy: 0.8050 | Validate accuracy: 0.5136\n",
      "23 of 50 | Loss: 0.8342 | Train accuracy: 0.8110 | Validate accuracy: 0.5184\n",
      "24 of 50 | Loss: 0.7904 | Train accuracy: 0.8300 | Validate accuracy: 0.5068\n",
      "25 of 50 | Loss: 0.7576 | Train accuracy: 0.8250 | Validate accuracy: 0.5160\n",
      "26 of 50 | Loss: 0.7341 | Train accuracy: 0.8400 | Validate accuracy: 0.5076\n",
      "27 of 50 | Loss: 0.7088 | Train accuracy: 0.8390 | Validate accuracy: 0.5160\n",
      "28 of 50 | Loss: 0.6820 | Train accuracy: 0.8650 | Validate accuracy: 0.5036\n",
      "29 of 50 | Loss: 0.6616 | Train accuracy: 0.8570 | Validate accuracy: 0.5136\n",
      "30 of 50 | Loss: 0.6398 | Train accuracy: 0.8760 | Validate accuracy: 0.5088\n",
      "31 of 50 | Loss: 0.6205 | Train accuracy: 0.8850 | Validate accuracy: 0.5092\n",
      "32 of 50 | Loss: 0.6036 | Train accuracy: 0.9030 | Validate accuracy: 0.5036\n",
      "33 of 50 | Loss: 0.5806 | Train accuracy: 0.9050 | Validate accuracy: 0.4904\n",
      "34 of 50 | Loss: 0.5622 | Train accuracy: 0.8840 | Validate accuracy: 0.4880\n",
      "35 of 50 | Loss: 0.5448 | Train accuracy: 0.9070 | Validate accuracy: 0.5024\n",
      "36 of 50 | Loss: 0.5288 | Train accuracy: 0.9240 | Validate accuracy: 0.5072\n",
      "37 of 50 | Loss: 0.5135 | Train accuracy: 0.9190 | Validate accuracy: 0.5112\n",
      "38 of 50 | Loss: 0.5016 | Train accuracy: 0.9310 | Validate accuracy: 0.4952\n",
      "39 of 50 | Loss: 0.4822 | Train accuracy: 0.9560 | Validate accuracy: 0.5024\n",
      "40 of 50 | Loss: 0.4714 | Train accuracy: 0.9370 | Validate accuracy: 0.5000\n",
      "41 of 50 | Loss: 0.4593 | Train accuracy: 0.9370 | Validate accuracy: 0.5016\n",
      "42 of 50 | Loss: 0.4463 | Train accuracy: 0.9500 | Validate accuracy: 0.4968\n",
      "43 of 50 | Loss: 0.4317 | Train accuracy: 0.9380 | Validate accuracy: 0.4876\n",
      "44 of 50 | Loss: 0.4211 | Train accuracy: 0.9440 | Validate accuracy: 0.5128\n",
      "45 of 50 | Loss: 0.4130 | Train accuracy: 0.9520 | Validate accuracy: 0.4980\n",
      "46 of 50 | Loss: 0.4007 | Train accuracy: 0.9510 | Validate accuracy: 0.5032\n",
      "47 of 50 | Loss: 0.3890 | Train accuracy: 0.9570 | Validate accuracy: 0.4884\n",
      "48 of 50 | Loss: 0.3815 | Train accuracy: 0.9690 | Validate accuracy: 0.5072\n",
      "49 of 50 | Loss: 0.3706 | Train accuracy: 0.9720 | Validate accuracy: 0.4960\n",
      "\n",
      "Total train time =  0.075155214259499  seconds\n",
      "Total train time =  0.001  minutes\n"
     ]
    }
   ],
   "source": [
    "import time\n",
    "\n",
    "# Define a new neural network model\n",
    "convolutional_neural_network_pool = NeuralNetwork3(\n",
    "    C_in=3, H_in=32, W_in=32,\n",
    "    layers=[600, 450, 300, 100], output_layer=[10],\n",
    "    drop_out=0.2,\n",
    "    batch_norm=True,\n",
    "    conv1_out_channels=30, conv1_kernel_size=3, conv1_padding=2, maxpool1_kernel_size=2,\n",
    "    conv2_out_channels=20, conv2_kernel_size=5, conv2_padding=2, maxpool2_kernel_size=2,\n",
    "    conv3_out_channels=10, conv3_kernel_size=5, conv3_padding=2, maxpool3_kernel_size=2\n",
    ").to(device=device)\n",
    "\n",
    "# Define the loss function and optimizer\n",
    "criterion = torch.nn.CrossEntropyLoss()\n",
    "optimizer = torch.optim.SGD(convolutional_neural_network_pool.parameters(), lr=0.65, momentum=0.7)\n",
    "\n",
    "# Set the number of epochs and batch size for training\n",
    "n_epochs = 50\n",
    "batch_size = 1000\n",
    "\n",
    "# Train the model using the augmented image data and validation data\n",
    "model_new, progress_log = train_model(\n",
    "    model=convolutional_neural_network_pool,\n",
    "    x_train_normalize_t=X_data_normalized_augmented,\n",
    "    y_train_t=y_train_t_augmented,\n",
    "    x_validation_normalize_t=X_validation_normalized,\n",
    "    y_validation_t=y_validation_t,\n",
    "    criterion=criterion,\n",
    "    optimizer=optimizer,\n",
    "    n_epochs=n_epochs,\n",
    "    batch_size=batch_size,\n",
    "    device=device\n",
    ")\n",
    "\n",
    "# Print the total time taken for the code to run\n",
    "print(\"Total time taken: {:.2f} seconds\".format(time.time() - start_time))\n"
   ]
  },
  {
   "cell_type": "code",
   "execution_count": 43,
   "id": "d70759c8",
   "metadata": {
    "id": "d70759c8"
   },
   "outputs": [],
   "source": [
    "import time\n",
    "\n",
    "# Define a list of models to evaluate\n",
    "models = [model, convolutional_neural_network, convolutional_neural_network_pool]\n",
    "\n",
    "# Create empty lists to store the results of each model\n",
    "train_accuracy_list = []\n",
    "validate_accuracy_list = []\n",
    "test_accuracy_list = []\n",
    "testing_time_list = []\n",
    "\n",
    "# Convert the image data to the appropriate format for PyTorch\n",
    "train_images_norm = X_data_normalized.to(device=device)\n",
    "train_labels = y_train_t.to(device=device)\n",
    "validation_images = X_validation_normalized.to(device=device)\n",
    "validation_labels = y_validation_t.to(device=device)\n",
    "\n",
    "# Loop over each model in the list of models\n",
    "for model in models:\n",
    "    # Compute the training and validation accuracies for the current model\n",
    "    train_accuracy = compute_model_accuracy(model0, train_images_norm, train_labels)\n",
    "    validate_accuracy = compute_model_accuracy(model0, validation_images, validation_labels)  \n",
    "\n",
    "    # Measure the testing time for the current model\n",
    "    start_testing_time = time.time()\n",
    "    test_accuracy = compute_model_accuracy(model0, X_test_normalized, y_test_t)\n",
    "    testing_time_i = time.time() - start_testing_time\n",
    "\n",
    "    # Append the results to the appropriate lists\n",
    "    train_accuracy_list.append(train_accuracy)\n",
    "    validate_accuracy_list.append(validate_accuracy)\n",
    "    test_accuracy_list.append(test_accuracy)\n",
    "    testing_time_list.append(testing_time_i)\n"
   ]
  },
  {
   "cell_type": "code",
   "execution_count": 44,
   "id": "8f9f2cde",
   "metadata": {
    "colab": {
     "base_uri": "https://localhost:8080/",
     "height": 143
    },
    "id": "8f9f2cde",
    "outputId": "f1823315-0a3e-49e2-f2f1-da5683879b11"
   },
   "outputs": [
    {
     "data": {
      "text/html": [
       "\n",
       "  <div id=\"df-c297c224-df11-4dc2-8ffe-90477ac3b80b\">\n",
       "    <div class=\"colab-df-container\">\n",
       "      <div>\n",
       "<style scoped>\n",
       "    .dataframe tbody tr th:only-of-type {\n",
       "        vertical-align: middle;\n",
       "    }\n",
       "\n",
       "    .dataframe tbody tr th {\n",
       "        vertical-align: top;\n",
       "    }\n",
       "\n",
       "    .dataframe thead th {\n",
       "        text-align: right;\n",
       "    }\n",
       "</style>\n",
       "<table border=\"1\" class=\"dataframe\">\n",
       "  <thead>\n",
       "    <tr style=\"text-align: right;\">\n",
       "      <th></th>\n",
       "      <th>number of paramaters</th>\n",
       "      <th>Train Accuracy</th>\n",
       "      <th>Validation Accuracy</th>\n",
       "      <th>Test Accuracy</th>\n",
       "      <th>Test time</th>\n",
       "    </tr>\n",
       "  </thead>\n",
       "  <tbody>\n",
       "    <tr>\n",
       "      <th>model 1</th>\n",
       "      <td>2107058</td>\n",
       "      <td>0.991600</td>\n",
       "      <td>0.5008</td>\n",
       "      <td>0.5054</td>\n",
       "      <td>0.151754</td>\n",
       "    </tr>\n",
       "    <tr>\n",
       "      <th>model 2</th>\n",
       "      <td>2159648</td>\n",
       "      <td>0.782632</td>\n",
       "      <td>0.4900</td>\n",
       "      <td>0.5008</td>\n",
       "      <td>0.139308</td>\n",
       "    </tr>\n",
       "    <tr>\n",
       "      <th>model 3</th>\n",
       "      <td>2749744</td>\n",
       "      <td>0.968042</td>\n",
       "      <td>0.4960</td>\n",
       "      <td>0.4969</td>\n",
       "      <td>0.141115</td>\n",
       "    </tr>\n",
       "  </tbody>\n",
       "</table>\n",
       "</div>\n",
       "      <button class=\"colab-df-convert\" onclick=\"convertToInteractive('df-c297c224-df11-4dc2-8ffe-90477ac3b80b')\"\n",
       "              title=\"Convert this dataframe to an interactive table.\"\n",
       "              style=\"display:none;\">\n",
       "        \n",
       "  <svg xmlns=\"http://www.w3.org/2000/svg\" height=\"24px\"viewBox=\"0 0 24 24\"\n",
       "       width=\"24px\">\n",
       "    <path d=\"M0 0h24v24H0V0z\" fill=\"none\"/>\n",
       "    <path d=\"M18.56 5.44l.94 2.06.94-2.06 2.06-.94-2.06-.94-.94-2.06-.94 2.06-2.06.94zm-11 1L8.5 8.5l.94-2.06 2.06-.94-2.06-.94L8.5 2.5l-.94 2.06-2.06.94zm10 10l.94 2.06.94-2.06 2.06-.94-2.06-.94-.94-2.06-.94 2.06-2.06.94z\"/><path d=\"M17.41 7.96l-1.37-1.37c-.4-.4-.92-.59-1.43-.59-.52 0-1.04.2-1.43.59L10.3 9.45l-7.72 7.72c-.78.78-.78 2.05 0 2.83L4 21.41c.39.39.9.59 1.41.59.51 0 1.02-.2 1.41-.59l7.78-7.78 2.81-2.81c.8-.78.8-2.07 0-2.86zM5.41 20L4 18.59l7.72-7.72 1.47 1.35L5.41 20z\"/>\n",
       "  </svg>\n",
       "      </button>\n",
       "      \n",
       "  <style>\n",
       "    .colab-df-container {\n",
       "      display:flex;\n",
       "      flex-wrap:wrap;\n",
       "      gap: 12px;\n",
       "    }\n",
       "\n",
       "    .colab-df-convert {\n",
       "      background-color: #E8F0FE;\n",
       "      border: none;\n",
       "      border-radius: 50%;\n",
       "      cursor: pointer;\n",
       "      display: none;\n",
       "      fill: #1967D2;\n",
       "      height: 32px;\n",
       "      padding: 0 0 0 0;\n",
       "      width: 32px;\n",
       "    }\n",
       "\n",
       "    .colab-df-convert:hover {\n",
       "      background-color: #E2EBFA;\n",
       "      box-shadow: 0px 1px 2px rgba(60, 64, 67, 0.3), 0px 1px 3px 1px rgba(60, 64, 67, 0.15);\n",
       "      fill: #174EA6;\n",
       "    }\n",
       "\n",
       "    [theme=dark] .colab-df-convert {\n",
       "      background-color: #3B4455;\n",
       "      fill: #D2E3FC;\n",
       "    }\n",
       "\n",
       "    [theme=dark] .colab-df-convert:hover {\n",
       "      background-color: #434B5C;\n",
       "      box-shadow: 0px 1px 3px 1px rgba(0, 0, 0, 0.15);\n",
       "      filter: drop-shadow(0px 1px 2px rgba(0, 0, 0, 0.3));\n",
       "      fill: #FFFFFF;\n",
       "    }\n",
       "  </style>\n",
       "\n",
       "      <script>\n",
       "        const buttonEl =\n",
       "          document.querySelector('#df-c297c224-df11-4dc2-8ffe-90477ac3b80b button.colab-df-convert');\n",
       "        buttonEl.style.display =\n",
       "          google.colab.kernel.accessAllowed ? 'block' : 'none';\n",
       "\n",
       "        async function convertToInteractive(key) {\n",
       "          const element = document.querySelector('#df-c297c224-df11-4dc2-8ffe-90477ac3b80b');\n",
       "          const dataTable =\n",
       "            await google.colab.kernel.invokeFunction('convertToInteractive',\n",
       "                                                     [key], {});\n",
       "          if (!dataTable) return;\n",
       "\n",
       "          const docLinkHtml = 'Like what you see? Visit the ' +\n",
       "            '<a target=\"_blank\" href=https://colab.research.google.com/notebooks/data_table.ipynb>data table notebook</a>'\n",
       "            + ' to learn more about interactive tables.';\n",
       "          element.innerHTML = '';\n",
       "          dataTable['output_type'] = 'display_data';\n",
       "          await google.colab.output.renderOutput(dataTable, element);\n",
       "          const docLink = document.createElement('div');\n",
       "          docLink.innerHTML = docLinkHtml;\n",
       "          element.appendChild(docLink);\n",
       "        }\n",
       "      </script>\n",
       "    </div>\n",
       "  </div>\n",
       "  "
      ],
      "text/plain": [
       "         number of paramaters  Train Accuracy  Validation Accuracy  \\\n",
       "model 1               2107058        0.991600               0.5008   \n",
       "model 2               2159648        0.782632               0.4900   \n",
       "model 3               2749744        0.968042               0.4960   \n",
       "\n",
       "         Test Accuracy  Test time  \n",
       "model 1         0.5054   0.151754  \n",
       "model 2         0.5008   0.139308  \n",
       "model 3         0.4969   0.141115  "
      ]
     },
     "execution_count": 44,
     "metadata": {},
     "output_type": "execute_result"
    }
   ],
   "source": [
    "# Create empty lists to store the total number of parameters and the model names\n",
    "total_network_parameters = []\n",
    "network_labels = []\n",
    "\n",
    "# Loop over each model in the list of models\n",
    "for i in range(len(models)):\n",
    "    # Compute the total number of parameters in the current model and append to the list\n",
    "    total_network_parameters.append(sum(p.numel() for p in models[i].parameters()))\n",
    "    \n",
    "    # Create a model name for the current model and append to the list\n",
    "    model_name_i = \"model \" + str(i+1)\n",
    "    network_labels.append(model_name_i)\n",
    "\n",
    "# Create a pandas dataframe to store the results\n",
    "data_augmentation_training_results = pd.DataFrame({\n",
    "    \"number of parameters\": total_network_parameters,\n",
    "    \"Train Accuracy\": np.array(train_accuracy_list),\n",
    "    \"Validation Accuracy\": np.array(validate_accuracy_list),\n",
    "    \"Test Accuracy\": np.array(test_accuracy_list),\n",
    "    \"Test time\": testing_time_list\n",
    "}, index=[network_labels])\n",
    "\n",
    "data_augmentation_training_results"
   ]
  },
  {
   "cell_type": "markdown",
   "id": "ztHcqDxboZpl",
   "metadata": {
    "id": "ztHcqDxboZpl"
   },
   "source": [
    "### present results:"
   ]
  },
  {
   "cell_type": "code",
   "execution_count": 45,
   "id": "375cb943",
   "metadata": {
    "colab": {
     "base_uri": "https://localhost:8080/",
     "height": 326
    },
    "id": "375cb943",
    "outputId": "525bfdd7-11c9-4c53-a419-d8f4a71853b3"
   },
   "outputs": [
    {
     "data": {
      "image/png": "[encoded data removed]",
      "text/plain": [
       "<Figure size 432x288 with 1 Axes>"
      ]
     },
     "metadata": {
      "needs_background": "light"
     },
     "output_type": "display_data"
    }
   ],
   "source": [
    "import matplotlib.pyplot as plt\n",
    "\n",
    "# Plot the number of parameters for each model\n",
    "plt.bar(network_labels, total_network_parameters)\n",
    "plt.xlabel(\"Models\")\n",
    "plt.ylabel(\"Number of Parameters\")\n",
    "plt.title(\"Number of Parameters per Model\")\n",
    "plt.xticks(rotation=90)\n",
    "plt.show()\n"
   ]
  },
  {
   "cell_type": "code",
   "execution_count": 46,
   "id": "d82b61cf",
   "metadata": {
    "colab": {
     "base_uri": "https://localhost:8080/",
     "height": 326
    },
    "id": "d82b61cf",
    "outputId": "ca433370-b7e9-4826-f77b-bad37e491dcc"
   },
   "outputs": [
    {
     "data": {
      "image/png": "[encoded data removed]",
      "text/plain": [
       "<Figure size 432x288 with 1 Axes>"
      ]
     },
     "metadata": {
      "needs_background": "light"
     },
     "output_type": "display_data"
    }
   ],
   "source": [
    "import matplotlib.pyplot as plt\n",
    "\n",
    "# Plot the train accuracy for each model\n",
    "plt.bar(network_labels, train_accuracy_list)\n",
    "plt.xlabel(\"Models\")\n",
    "plt.ylabel(\"Train Accuracy\")\n",
    "plt.title(\"Train Accuracy per Model\")\n",
    "plt.xticks(rotation=90)\n",
    "plt.show()\n"
   ]
  },
  {
   "cell_type": "code",
   "execution_count": 47,
   "id": "Tmju9pdal7t7",
   "metadata": {
    "colab": {
     "base_uri": "https://localhost:8080/",
     "height": 326
    },
    "id": "Tmju9pdal7t7",
    "outputId": "adc3ba77-e5c6-4ec3-da89-2dc524decdfb"
   },
   "outputs": [
    {
     "data": {
      "image/png": "[encoded data removed]",
      "text/plain": [
       "<Figure size 432x288 with 1 Axes>"
      ]
     },
     "metadata": {
      "needs_background": "light"
     },
     "output_type": "display_data"
    }
   ],
   "source": [
    "import matplotlib.pyplot as plt\n",
    "\n",
    "# Plot the validation accuracy for each model\n",
    "plt.bar(network_labels, validate_accuracy_list)\n",
    "plt.xlabel(\"Models\")\n",
    "plt.ylabel(\"Validation Accuracy\")\n",
    "plt.title(\"Validation Accuracy per Model\")\n",
    "plt.xticks(rotation=90)\n",
    "plt.show()\n"
   ]
  },
  {
   "cell_type": "code",
   "execution_count": 48,
   "id": "ElXihKxJl7ww",
   "metadata": {
    "colab": {
     "base_uri": "https://localhost:8080/",
     "height": 326
    },
    "id": "ElXihKxJl7ww",
    "outputId": "d899fd0c-0ef1-40d9-b623-0ae96d6781f0"
   },
   "outputs": [
    {
     "data": {
      "image/png": "[encoded data removed]",
      "text/plain": [
       "<Figure size 432x288 with 1 Axes>"
      ]
     },
     "metadata": {
      "needs_background": "light"
     },
     "output_type": "display_data"
    }
   ],
   "source": [
    "import matplotlib.pyplot as plt\n",
    "\n",
    "# Plot the test accuracy for each model\n",
    "plt.bar(network_labels, test_accuracy_list)\n",
    "plt.xlabel(\"Models\")\n",
    "plt.ylabel(\"Test Accuracy\")\n",
    "plt.title(\"Test Accuracy per Model\")\n",
    "plt.xticks(rotation=90)\n",
    "plt.show()\n"
   ]
  },
  {
   "cell_type": "code",
   "execution_count": 49,
   "id": "0k94Sy3kl7z7",
   "metadata": {
    "colab": {
     "base_uri": "https://localhost:8080/",
     "height": 326
    },
    "id": "0k94Sy3kl7z7",
    "outputId": "106c42f1-4b7a-4986-b187-516617c57702"
   },
   "outputs": [
    {
     "data": {
      "image/png": "[encoded data removed]",
      "text/plain": [
       "<Figure size 432x288 with 1 Axes>"
      ]
     },
     "metadata": {
      "needs_background": "light"
     },
     "output_type": "display_data"
    }
   ],
   "source": [
    "import matplotlib.pyplot as plt\n",
    "\n",
    "# Plot the testing time for each model\n",
    "plt.bar(network_labels, testing_time_list)\n",
    "plt.xlabel(\"Models\")\n",
    "plt.ylabel(\"Testing Time\")\n",
    "plt.title(\"Testing Time per Model\")\n",
    "plt.xticks(rotation=90)\n",
    "plt.show()\n"
   ]
  },
  {
   "cell_type": "markdown",
   "id": "jn0QEYjypKss",
   "metadata": {
    "id": "jn0QEYjypKss"
   },
   "source": [
    "### conclusions:"
   ]
  },
  {
   "cell_type": "markdown",
   "id": "TRQmK5Q5pNMy",
   "metadata": {
    "id": "TRQmK5Q5pNMy"
   },
   "source": [
    "After applying data augmentation techniques, the models showed improved performance, particularly on the training dataset. While the augmented data generated \"new\" images, it appears that the models were sophisticated enough to understand the images in the training set and perform almost perfectly on them.\n",
    "\n",
    "On the validation dataset, we observed a slight increase in accuracy, but not a significant improvement compared to the non-augmented data.\n",
    "\n",
    "Notably, Model 1 achieved the best accuracy on the training dataset, with nearly perfect performance. Model 3, which had the longest training time, performed the best overall, followed by Model 2 and then Model 1. Across all models, the validation and test accuracy were similar, hovering around 0.5.\n",
    "\n",
    "It's worth noting that Model 1 took the longest to train on the augmented data, whereas it was the fastest on the non-augmented data during the first training iteration. Overall, the data augmentation techniques improved the models' performance and may be particularly beneficial in scenarios where larger datasets are not available."
   ]
  }
 ],
 "metadata": {
  "accelerator": "GPU",
  "colab": {
   "machine_shape": "hm",
   "provenance": []
  },
  "gpuClass": "standard",
  "kernelspec": {
   "display_name": "Python 3",
   "language": "python",
   "name": "python3"
  },
  "language_info": {
   "codemirror_mode": {
    "name": "ipython",
    "version": 3
   },
   "file_extension": ".py",
   "mimetype": "text/x-python",
   "name": "python",
   "nbconvert_exporter": "python",
   "pygments_lexer": "ipython3",
   "version": "3.8.8"
  },
  "toc": {
   "base_numbering": 1,
   "nav_menu": {},
   "number_sections": true,
   "sideBar": true,
   "skip_h1_title": false,
   "title_cell": "Table of Contents",
   "title_sidebar": "Contents",
   "toc_cell": false,
   "toc_position": {},
   "toc_section_display": true,
   "toc_window_display": true
  },
  "varInspector": {
   "cols": {
    "lenName": 16,
    "lenType": 16,
    "lenVar": 40
   },
   "kernels_config": {
    "python": {
     "delete_cmd_postfix": "",
     "delete_cmd_prefix": "del ",
     "library": "var_list.py",
     "varRefreshCmd": "print(var_dic_list())"
    },
    "r": {
     "delete_cmd_postfix": ") ",
     "delete_cmd_prefix": "rm(",
     "library": "var_list.r",
     "varRefreshCmd": "cat(var_dic_list()) "
    }
   },
   "position": {
    "height": "507.844px",
    "left": "1550px",
    "right": "20px",
    "top": "120px",
    "width": "350px"
   },
   "types_to_exclude": [
    "module",
    "function",
    "builtin_function_or_method",
    "instance",
    "_Feature"
   ],
   "window_display": false
  },
  "widgets": {
   "application/vnd.jupyter.widget-state+json": {
    "27b83e61918a40e498300ce84bc50802": {
     "model_module": "@jupyter-widgets/base",
     "model_module_version": "1.2.0",
     "model_name": "LayoutModel",
     "state": {
      "_model_module": "@jupyter-widgets/base",
      "_model_module_version": "1.2.0",
      "_model_name": "LayoutModel",
      "_view_count": null,
      "_view_module": "@jupyter-widgets/base",
      "_view_module_version": "1.2.0",
      "_view_name": "LayoutView",
      "align_content": null,
      "align_items": null,
      "align_self": null,
      "border": null,
      "bottom": null,
      "display": null,
      "flex": null,
      "flex_flow": null,
      "grid_area": null,
      "grid_auto_columns": null,
      "grid_auto_flow": null,
      "grid_auto_rows": null,
      "grid_column": null,
      "grid_gap": null,
      "grid_row": null,
      "grid_template_areas": null,
      "grid_template_columns": null,
      "grid_template_rows": null,
      "height": null,
      "justify_content": null,
      "justify_items": null,
      "left": null,
      "margin": null,
      "max_height": null,
      "max_width": null,
      "min_height": null,
      "min_width": null,
      "object_fit": null,
      "object_position": null,
      "order": null,
      "overflow": null,
      "overflow_x": null,
      "overflow_y": null,
      "padding": null,
      "right": null,
      "top": null,
      "visibility": null,
      "width": null
     }
    },
    "30bdbe88e6a44dfa9d0a7f362976e0c2": {
     "model_module": "@jupyter-widgets/controls",
     "model_module_version": "1.5.0",
     "model_name": "DescriptionStyleModel",
     "state": {
      "_model_module": "@jupyter-widgets/controls",
      "_model_module_version": "1.5.0",
      "_model_name": "DescriptionStyleModel",
      "_view_count": null,
      "_view_module": "@jupyter-widgets/base",
      "_view_module_version": "1.2.0",
      "_view_name": "StyleView",
      "description_width": ""
     }
    },
    "35f232cd158246fb8498c94fc86ec5c4": {
     "model_module": "@jupyter-widgets/controls",
     "model_module_version": "1.5.0",
     "model_name": "ProgressStyleModel",
     "state": {
      "_model_module": "@jupyter-widgets/controls",
      "_model_module_version": "1.5.0",
      "_model_name": "ProgressStyleModel",
      "_view_count": null,
      "_view_module": "@jupyter-widgets/base",
      "_view_module_version": "1.2.0",
      "_view_name": "StyleView",
      "bar_color": null,
      "description_width": ""
     }
    },
    "3d55dc9362f449b3b1ec0d5ff3e270e0": {
     "model_module": "@jupyter-widgets/controls",
     "model_module_version": "1.5.0",
     "model_name": "HBoxModel",
     "state": {
      "_dom_classes": [],
      "_model_module": "@jupyter-widgets/controls",
      "_model_module_version": "1.5.0",
      "_model_name": "HBoxModel",
      "_view_count": null,
      "_view_module": "@jupyter-widgets/controls",
      "_view_module_version": "1.5.0",
      "_view_name": "HBoxView",
      "box_style": "",
      "children": [
       "IPY_MODEL_86b5be6376024019bb9da2f72d8eb5fc",
       "IPY_MODEL_7d3fbc954d2a4d65b75cc3ce8f5c8918",
       "IPY_MODEL_f716082f32e84b59ada3e138e252975c"
      ],
      "layout": "IPY_MODEL_54d6caead95a460b999c1b982336bcc8"
     }
    },
    "488aee2fa1a247648a2878df02b97d0b": {
     "model_module": "@jupyter-widgets/base",
     "model_module_version": "1.2.0",
     "model_name": "LayoutModel",
     "state": {
      "_model_module": "@jupyter-widgets/base",
      "_model_module_version": "1.2.0",
      "_model_name": "LayoutModel",
      "_view_count": null,
      "_view_module": "@jupyter-widgets/base",
      "_view_module_version": "1.2.0",
      "_view_name": "LayoutView",
      "align_content": null,
      "align_items": null,
      "align_self": null,
      "border": null,
      "bottom": null,
      "display": null,
      "flex": null,
      "flex_flow": null,
      "grid_area": null,
      "grid_auto_columns": null,
      "grid_auto_flow": null,
      "grid_auto_rows": null,
      "grid_column": null,
      "grid_gap": null,
      "grid_row": null,
      "grid_template_areas": null,
      "grid_template_columns": null,
      "grid_template_rows": null,
      "height": null,
      "justify_content": null,
      "justify_items": null,
      "left": null,
      "margin": null,
      "max_height": null,
      "max_width": null,
      "min_height": null,
      "min_width": null,
      "object_fit": null,
      "object_position": null,
      "order": null,
      "overflow": null,
      "overflow_x": null,
      "overflow_y": null,
      "padding": null,
      "right": null,
      "top": null,
      "visibility": null,
      "width": null
     }
    },
    "54276a8909a2436386aa8cbb5793b5c0": {
     "model_module": "@jupyter-widgets/base",
     "model_module_version": "1.2.0",
     "model_name": "LayoutModel",
     "state": {
      "_model_module": "@jupyter-widgets/base",
      "_model_module_version": "1.2.0",
      "_model_name": "LayoutModel",
      "_view_count": null,
      "_view_module": "@jupyter-widgets/base",
      "_view_module_version": "1.2.0",
      "_view_name": "LayoutView",
      "align_content": null,
      "align_items": null,
      "align_self": null,
      "border": null,
      "bottom": null,
      "display": null,
      "flex": null,
      "flex_flow": null,
      "grid_area": null,
      "grid_auto_columns": null,
      "grid_auto_flow": null,
      "grid_auto_rows": null,
      "grid_column": null,
      "grid_gap": null,
      "grid_row": null,
      "grid_template_areas": null,
      "grid_template_columns": null,
      "grid_template_rows": null,
      "height": null,
      "justify_content": null,
      "justify_items": null,
      "left": null,
      "margin": null,
      "max_height": null,
      "max_width": null,
      "min_height": null,
      "min_width": null,
      "object_fit": null,
      "object_position": null,
      "order": null,
      "overflow": null,
      "overflow_x": null,
      "overflow_y": null,
      "padding": null,
      "right": null,
      "top": null,
      "visibility": null,
      "width": null
     }
    },
    "54d6caead95a460b999c1b982336bcc8": {
     "model_module": "@jupyter-widgets/base",
     "model_module_version": "1.2.0",
     "model_name": "LayoutModel",
     "state": {
      "_model_module": "@jupyter-widgets/base",
      "_model_module_version": "1.2.0",
      "_model_name": "LayoutModel",
      "_view_count": null,
      "_view_module": "@jupyter-widgets/base",
      "_view_module_version": "1.2.0",
      "_view_name": "LayoutView",
      "align_content": null,
      "align_items": null,
      "align_self": null,
      "border": null,
      "bottom": null,
      "display": null,
      "flex": null,
      "flex_flow": null,
      "grid_area": null,
      "grid_auto_columns": null,
      "grid_auto_flow": null,
      "grid_auto_rows": null,
      "grid_column": null,
      "grid_gap": null,
      "grid_row": null,
      "grid_template_areas": null,
      "grid_template_columns": null,
      "grid_template_rows": null,
      "height": null,
      "justify_content": null,
      "justify_items": null,
      "left": null,
      "margin": null,
      "max_height": null,
      "max_width": null,
      "min_height": null,
      "min_width": null,
      "object_fit": null,
      "object_position": null,
      "order": null,
      "overflow": null,
      "overflow_x": null,
      "overflow_y": null,
      "padding": null,
      "right": null,
      "top": null,
      "visibility": null,
      "width": null
     }
    },
    "7d3fbc954d2a4d65b75cc3ce8f5c8918": {
     "model_module": "@jupyter-widgets/controls",
     "model_module_version": "1.5.0",
     "model_name": "FloatProgressModel",
     "state": {
      "_dom_classes": [],
      "_model_module": "@jupyter-widgets/controls",
      "_model_module_version": "1.5.0",
      "_model_name": "FloatProgressModel",
      "_view_count": null,
      "_view_module": "@jupyter-widgets/controls",
      "_view_module_version": "1.5.0",
      "_view_name": "ProgressView",
      "bar_style": "success",
      "description": "",
      "description_tooltip": null,
      "layout": "IPY_MODEL_27b83e61918a40e498300ce84bc50802",
      "max": 170498071,
      "min": 0,
      "orientation": "horizontal",
      "style": "IPY_MODEL_35f232cd158246fb8498c94fc86ec5c4",
      "value": 170498071
     }
    },
    "86b5be6376024019bb9da2f72d8eb5fc": {
     "model_module": "@jupyter-widgets/controls",
     "model_module_version": "1.5.0",
     "model_name": "HTMLModel",
     "state": {
      "_dom_classes": [],
      "_model_module": "@jupyter-widgets/controls",
      "_model_module_version": "1.5.0",
      "_model_name": "HTMLModel",
      "_view_count": null,
      "_view_module": "@jupyter-widgets/controls",
      "_view_module_version": "1.5.0",
      "_view_name": "HTMLView",
      "description": "",
      "description_tooltip": null,
      "layout": "IPY_MODEL_54276a8909a2436386aa8cbb5793b5c0",
      "placeholder": "​",
      "style": "IPY_MODEL_89dcaacb0d254f88901c1285c076ec86",
      "value": "100%"
     }
    },
    "89dcaacb0d254f88901c1285c076ec86": {
     "model_module": "@jupyter-widgets/controls",
     "model_module_version": "1.5.0",
     "model_name": "DescriptionStyleModel",
     "state": {
      "_model_module": "@jupyter-widgets/controls",
      "_model_module_version": "1.5.0",
      "_model_name": "DescriptionStyleModel",
      "_view_count": null,
      "_view_module": "@jupyter-widgets/base",
      "_view_module_version": "1.2.0",
      "_view_name": "StyleView",
      "description_width": ""
     }
    },
    "f716082f32e84b59ada3e138e252975c": {
     "model_module": "@jupyter-widgets/controls",
     "model_module_version": "1.5.0",
     "model_name": "HTMLModel",
     "state": {
      "_dom_classes": [],
      "_model_module": "@jupyter-widgets/controls",
      "_model_module_version": "1.5.0",
      "_model_name": "HTMLModel",
      "_view_count": null,
      "_view_module": "@jupyter-widgets/controls",
      "_view_module_version": "1.5.0",
      "_view_name": "HTMLView",
      "description": "",
      "description_tooltip": null,
      "layout": "IPY_MODEL_488aee2fa1a247648a2878df02b97d0b",
      "placeholder": "​",
      "style": "IPY_MODEL_30bdbe88e6a44dfa9d0a7f362976e0c2",
      "value": " 170498071/170498071 [00:12&lt;00:00, 12590529.74it/s]"
     }
    }
   }
  }
 },
 "nbformat": 4,
 "nbformat_minor": 5
}
