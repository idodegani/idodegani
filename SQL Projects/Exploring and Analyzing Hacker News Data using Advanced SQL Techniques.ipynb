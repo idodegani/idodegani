{
 "cells": [
  {
   "cell_type": "markdown",
   "id": "8114af0a",
   "metadata": {},
   "source": [
    "In the following code I executed SQL queries to retrieve data from the database, including finding the top 5 most popular stories by score, determining if the website is dominated by a small percentage of users, finding the number of times a specific video link was posted by each user, and categorizing the source of each story using a CASE statement. \n",
    "\n",
    "The advanced SQL skills used in this code include grouping data with the GROUP BY clause, filtering data with the HAVING clause, and using aggregate functions like SUM and COUNT."
   ]
  },
  {
   "cell_type": "markdown",
   "id": "3f5b02a0",
   "metadata": {},
   "source": [
    "## Setup"
   ]
  },
  {
   "cell_type": "code",
   "execution_count": 1,
   "id": "074a9fcc",
   "metadata": {},
   "outputs": [],
   "source": [
    "import pandas as pd "
   ]
  },
  {
   "cell_type": "code",
   "execution_count": 2,
   "id": "70cb1128",
   "metadata": {},
   "outputs": [],
   "source": [
    "import sqlite3"
   ]
  },
  {
   "cell_type": "code",
   "execution_count": 3,
   "id": "448817ba",
   "metadata": {},
   "outputs": [],
   "source": [
    "df = pd.read_csv(\"hacker_news.csv\")"
   ]
  },
  {
   "cell_type": "code",
   "execution_count": 4,
   "id": "0b4b9f36",
   "metadata": {},
   "outputs": [],
   "source": [
    "cnn = sqlite3.connect('jupyter_sql.db')"
   ]
  },
  {
   "cell_type": "code",
   "execution_count": 5,
   "id": "ce124e50",
   "metadata": {},
   "outputs": [],
   "source": [
    "df.to_sql('hacker_news',cnn, if_exists='replace')"
   ]
  },
  {
   "cell_type": "code",
   "execution_count": 6,
   "id": "1162f077",
   "metadata": {},
   "outputs": [],
   "source": [
    "%load_ext sql"
   ]
  },
  {
   "cell_type": "code",
   "execution_count": 7,
   "id": "f3ac147e",
   "metadata": {},
   "outputs": [],
   "source": [
    "%sql sqlite:///jupyter_sql.db"
   ]
  },
  {
   "cell_type": "code",
   "execution_count": 22,
   "id": "4e26125f",
   "metadata": {},
   "outputs": [
    {
     "name": "stdout",
     "output_type": "stream",
     "text": [
      " * sqlite:///jupyter_sql.db\n",
      "Done.\n"
     ]
    },
    {
     "data": {
      "text/html": [
       "<table>\n",
       "    <tr>\n",
       "        <th>index</th>\n",
       "        <th>title</th>\n",
       "        <th>user</th>\n",
       "        <th>score</th>\n",
       "        <th>timestamp</th>\n",
       "        <th>url</th>\n",
       "    </tr>\n",
       "    <tr>\n",
       "        <td>0</td>\n",
       "        <td>None</td>\n",
       "        <td>coldtea</td>\n",
       "        <td>None</td>\n",
       "        <td>2014-01-27T17:31:13Z</td>\n",
       "        <td>None</td>\n",
       "    </tr>\n",
       "    <tr>\n",
       "        <td>1</td>\n",
       "        <td>None</td>\n",
       "        <td>etanol</td>\n",
       "        <td>None</td>\n",
       "        <td>2011-10-23T18:46:40Z</td>\n",
       "        <td>None</td>\n",
       "    </tr>\n",
       "    <tr>\n",
       "        <td>2</td>\n",
       "        <td>None</td>\n",
       "        <td>None</td>\n",
       "        <td>None</td>\n",
       "        <td>2016-02-28T06:26:56Z</td>\n",
       "        <td>None</td>\n",
       "    </tr>\n",
       "    <tr>\n",
       "        <td>3</td>\n",
       "        <td>None</td>\n",
       "        <td>Locke1689</td>\n",
       "        <td>None</td>\n",
       "        <td>2014-08-12T22:13:10Z</td>\n",
       "        <td>None</td>\n",
       "    </tr>\n",
       "    <tr>\n",
       "        <td>4</td>\n",
       "        <td>None</td>\n",
       "        <td>miloshadzic</td>\n",
       "        <td>None</td>\n",
       "        <td>2013-03-06T12:28:02Z</td>\n",
       "        <td>None</td>\n",
       "    </tr>\n",
       "</table>"
      ],
      "text/plain": [
       "[(0, None, 'coldtea', None, '2014-01-27T17:31:13Z', None),\n",
       " (1, None, 'etanol', None, '2011-10-23T18:46:40Z', None),\n",
       " (2, None, None, None, '2016-02-28T06:26:56Z', None),\n",
       " (3, None, 'Locke1689', None, '2014-08-12T22:13:10Z', None),\n",
       " (4, None, 'miloshadzic', None, '2013-03-06T12:28:02Z', None)]"
      ]
     },
     "execution_count": 22,
     "metadata": {},
     "output_type": "execute_result"
    }
   ],
   "source": [
    "%%sql \n",
    "\n",
    "select * from hacker_news\n",
    "limit 5;"
   ]
  },
  {
   "cell_type": "markdown",
   "id": "9d40094e",
   "metadata": {},
   "source": [
    "### information about the data:\n",
    "\n",
    "title: the title of the story\n",
    "\n",
    "user: the user who submitted the story\n",
    "\n",
    "score: the score of the story\n",
    "\n",
    "timestamp: the time of the story\n",
    "\n",
    "url: the link of the story\n"
   ]
  },
  {
   "cell_type": "markdown",
   "id": "7d8d09c4",
   "metadata": {},
   "source": [
    "# Starting the code"
   ]
  },
  {
   "cell_type": "markdown",
   "id": "5cfed561",
   "metadata": {},
   "source": [
    "### Start by getting a feel for the hacker_news table! Let’s find the most popular Hacker News stories:"
   ]
  },
  {
   "cell_type": "code",
   "execution_count": 9,
   "id": "0aca5bf2",
   "metadata": {},
   "outputs": [
    {
     "name": "stdout",
     "output_type": "stream",
     "text": [
      " * sqlite:///jupyter_sql.db\n",
      "Done.\n"
     ]
    },
    {
     "data": {
      "text/html": [
       "<table>\n",
       "    <tr>\n",
       "        <th>title</th>\n",
       "        <th>score</th>\n",
       "    </tr>\n",
       "    <tr>\n",
       "        <td>Penny Arcade � Surface Pro 3 update</td>\n",
       "        <td>517.0</td>\n",
       "    </tr>\n",
       "    <tr>\n",
       "        <td>Hacking The Status Game</td>\n",
       "        <td>309.0</td>\n",
       "    </tr>\n",
       "    <tr>\n",
       "        <td>Postgres CLI with autocompletion and syntax highlighting</td>\n",
       "        <td>304.0</td>\n",
       "    </tr>\n",
       "    <tr>\n",
       "        <td>Stephen Fry hits out at �infantile� culture of trigger words and safe spaces</td>\n",
       "        <td>282.0</td>\n",
       "    </tr>\n",
       "    <tr>\n",
       "        <td>Reversal: Australian Govt picks ODF doc standard over Microsoft</td>\n",
       "        <td>191.0</td>\n",
       "    </tr>\n",
       "</table>"
      ],
      "text/plain": [
       "[('Penny Arcade � Surface Pro 3 update', 517.0),\n",
       " ('Hacking The Status Game', 309.0),\n",
       " ('Postgres CLI with autocompletion and syntax highlighting', 304.0),\n",
       " ('Stephen Fry hits out at �infantile� culture of trigger words and safe spaces', 282.0),\n",
       " ('Reversal: Australian Govt picks ODF doc standard over Microsoft', 191.0)]"
      ]
     },
     "execution_count": 9,
     "metadata": {},
     "output_type": "execute_result"
    }
   ],
   "source": [
    "%%sql\n",
    "select title, score \n",
    "from hacker_news\n",
    "order by 2 desc\n",
    "limit 5;"
   ]
  },
  {
   "cell_type": "markdown",
   "id": "b668c409",
   "metadata": {},
   "source": [
    "## Hacker News Moderating"
   ]
  },
  {
   "cell_type": "markdown",
   "id": "01f74d55",
   "metadata": {},
   "source": [
    "\n",
    "Recent studies have found that online forums tend to be dominated by a small percentage of their users (1-9-90 Rule).\n",
    "\n",
    "Is this true of Hacker News?\n",
    "\n",
    "Is a small percentage of Hacker News submitters taking the majority of the points?\n",
    "\n",
    "### First, find the total score of all the stories."
   ]
  },
  {
   "cell_type": "code",
   "execution_count": 10,
   "id": "499489a9",
   "metadata": {},
   "outputs": [
    {
     "name": "stdout",
     "output_type": "stream",
     "text": [
      " * sqlite:///jupyter_sql.db\n",
      "Done.\n"
     ]
    },
    {
     "data": {
      "text/html": [
       "<table>\n",
       "    <tr>\n",
       "        <th>total_score</th>\n",
       "    </tr>\n",
       "    <tr>\n",
       "        <td>6366.0</td>\n",
       "    </tr>\n",
       "</table>"
      ],
      "text/plain": [
       "[(6366.0,)]"
      ]
     },
     "execution_count": 10,
     "metadata": {},
     "output_type": "execute_result"
    }
   ],
   "source": [
    "%%sql\n",
    "select sum(score) as 'total_score'\n",
    "from hacker_news;\n"
   ]
  },
  {
   "cell_type": "markdown",
   "id": "c492b798",
   "metadata": {},
   "source": [
    "Next, we need to pinpoint the users who have accumulated a lot of points across their stories.\n",
    "\n",
    "Find the individual users who have gotten combined scores of more than 200, and their combined scores.\n",
    "\n",
    "GROUP BY and HAVING are needed!"
   ]
  },
  {
   "cell_type": "code",
   "execution_count": 11,
   "id": "49490c08",
   "metadata": {},
   "outputs": [
    {
     "name": "stdout",
     "output_type": "stream",
     "text": [
      " * sqlite:///jupyter_sql.db\n",
      "Done.\n"
     ]
    },
    {
     "data": {
      "text/html": [
       "<table>\n",
       "    <tr>\n",
       "        <th>user</th>\n",
       "        <th>total user score</th>\n",
       "    </tr>\n",
       "    <tr>\n",
       "        <td>vxNsr</td>\n",
       "        <td>517.0</td>\n",
       "    </tr>\n",
       "    <tr>\n",
       "        <td>amirkhella</td>\n",
       "        <td>309.0</td>\n",
       "    </tr>\n",
       "    <tr>\n",
       "        <td>dmmalam</td>\n",
       "        <td>304.0</td>\n",
       "    </tr>\n",
       "    <tr>\n",
       "        <td>metafunctor</td>\n",
       "        <td>282.0</td>\n",
       "    </tr>\n",
       "</table>"
      ],
      "text/plain": [
       "[('vxNsr', 517.0),\n",
       " ('amirkhella', 309.0),\n",
       " ('dmmalam', 304.0),\n",
       " ('metafunctor', 282.0)]"
      ]
     },
     "execution_count": 11,
     "metadata": {},
     "output_type": "execute_result"
    }
   ],
   "source": [
    "%%sql\n",
    "select user, sum(score) as \"total user score\"\n",
    "from hacker_news\n",
    "group by user\n",
    "having sum(score) > 200\n",
    "order by sum(score) desc;"
   ]
  },
  {
   "cell_type": "markdown",
   "id": "c04905d7",
   "metadata": {},
   "source": [
    "Then, we want to add these users’ scores together and divide by the total to get the percentage.\n",
    "\n",
    "Add their scores together and divide it by the total sum. Like so:\n",
    "\n",
    "SELECT (1.0 + 2.0 + 3.0) / 6.0;\n",
    "\n",
    "\n",
    "So, is Hacker News dominated by these users?"
   ]
  },
  {
   "cell_type": "code",
   "execution_count": 12,
   "id": "8e860edb",
   "metadata": {},
   "outputs": [
    {
     "name": "stdout",
     "output_type": "stream",
     "text": [
      " * sqlite:///jupyter_sql.db\n",
      "Done.\n"
     ]
    },
    {
     "data": {
      "text/html": [
       "<table>\n",
       "    <tr>\n",
       "        <th>percent of score by 4 users</th>\n",
       "    </tr>\n",
       "    <tr>\n",
       "        <td>0.2218033301916431</td>\n",
       "    </tr>\n",
       "</table>"
      ],
      "text/plain": [
       "[(0.2218033301916431,)]"
      ]
     },
     "execution_count": 12,
     "metadata": {},
     "output_type": "execute_result"
    }
   ],
   "source": [
    "%%sql\n",
    "SELECT (517 + 309 + 304 + 282) / 6366.0 as \"percent of score by 4 users\";"
   ]
  },
  {
   "cell_type": "markdown",
   "id": "48d601d7",
   "metadata": {},
   "source": [
    "It is seems like the website is dominated by this users"
   ]
  },
  {
   "cell_type": "markdown",
   "id": "cffbd661",
   "metadata": {},
   "source": [
    "Oh no! While we are looking at the power users, some users are rickrolling — tricking readers into clicking on a link to a funny video and claiming that it links to information about coding.\n",
    "\n",
    "The url of the video is:\n",
    "\n",
    "https://www.youtube.com/watch?v=dQw4w9WgXcQ\n",
    "\n",
    "How many times has each offending user posted this link?"
   ]
  },
  {
   "cell_type": "code",
   "execution_count": 13,
   "id": "b37a5470",
   "metadata": {},
   "outputs": [
    {
     "name": "stdout",
     "output_type": "stream",
     "text": [
      " * sqlite:///jupyter_sql.db\n",
      "Done.\n"
     ]
    },
    {
     "data": {
      "text/html": [
       "<table>\n",
       "    <tr>\n",
       "        <th>user</th>\n",
       "        <th>count(url)</th>\n",
       "    </tr>\n",
       "    <tr>\n",
       "        <td>scorpiosister</td>\n",
       "        <td>1</td>\n",
       "    </tr>\n",
       "    <tr>\n",
       "        <td>sonnynomnom</td>\n",
       "        <td>1</td>\n",
       "    </tr>\n",
       "</table>"
      ],
      "text/plain": [
       "[('scorpiosister', 1), ('sonnynomnom', 1)]"
      ]
     },
     "execution_count": 13,
     "metadata": {},
     "output_type": "execute_result"
    }
   ],
   "source": [
    "%%sql\n",
    "select user, count(url)\n",
    "from hacker_news\n",
    "where url like '%watch?v=dQw4w9WgXcQ'\n",
    "group by user;"
   ]
  },
  {
   "cell_type": "markdown",
   "id": "0303424e",
   "metadata": {},
   "source": [
    "## Which sites feed Hacker News?"
   ]
  },
  {
   "cell_type": "markdown",
   "id": "a4a59051",
   "metadata": {},
   "source": [
    "Hacker News stories are essentially links that take users to other websites.\n",
    "\n",
    "Which of these sites feed Hacker News the most:\n",
    "\n",
    "GitHub, Medium, or New York Times?\n",
    "\n",
    "\n",
    "\n",
    "\n",
    "First, we want to categorize each story based on their source.\n",
    "\n",
    "We can do this using a CASE statement:"
   ]
  },
  {
   "cell_type": "code",
   "execution_count": 14,
   "id": "9426f811",
   "metadata": {},
   "outputs": [
    {
     "name": "stdout",
     "output_type": "stream",
     "text": [
      " * sqlite:///jupyter_sql.db\n",
      "Done.\n"
     ]
    },
    {
     "data": {
      "text/html": [
       "<table>\n",
       "    <tr>\n",
       "        <th>url</th>\n",
       "    </tr>\n",
       "    <tr>\n",
       "        <td>http://www.nytimes.com/2016/08/26/business/dealbook/cycling-matches-the-pace-and-pitches-of-tech.html</td>\n",
       "    </tr>\n",
       "    <tr>\n",
       "        <td>http://www.nytimes.com/2011/03/06/books/review/Kois-t.html?_r=1&amp;ref=review&amp;pagewanted=all</td>\n",
       "    </tr>\n",
       "    <tr>\n",
       "        <td>http://www.latimes.com/business/la-fi-ct-piracy-2010070102871905.story</td>\n",
       "    </tr>\n",
       "</table>"
      ],
      "text/plain": [
       "[('http://www.nytimes.com/2016/08/26/business/dealbook/cycling-matches-the-pace-and-pitches-of-tech.html',),\n",
       " ('http://www.nytimes.com/2011/03/06/books/review/Kois-t.html?_r=1&ref=review&pagewanted=all',),\n",
       " ('http://www.latimes.com/business/la-fi-ct-piracy-2010070102871905.story',)]"
      ]
     },
     "execution_count": 14,
     "metadata": {},
     "output_type": "execute_result"
    }
   ],
   "source": [
    "%%sql\n",
    "select distinct url\n",
    "from hacker_news\n",
    "where url like '%times%'\n",
    "LIMIT 3;"
   ]
  },
  {
   "cell_type": "code",
   "execution_count": 23,
   "id": "fce0a66d",
   "metadata": {},
   "outputs": [
    {
     "name": "stdout",
     "output_type": "stream",
     "text": [
      " * sqlite:///jupyter_sql.db\n",
      "Done.\n"
     ]
    },
    {
     "data": {
      "text/html": [
       "<table>\n",
       "    <tr>\n",
       "        <th>Source</th>\n",
       "    </tr>\n",
       "    <tr>\n",
       "        <td>Other</td>\n",
       "    </tr>\n",
       "    <tr>\n",
       "        <td>Other</td>\n",
       "    </tr>\n",
       "    <tr>\n",
       "        <td>Other</td>\n",
       "    </tr>\n",
       "    <tr>\n",
       "        <td>Other</td>\n",
       "    </tr>\n",
       "    <tr>\n",
       "        <td>Other</td>\n",
       "    </tr>\n",
       "</table>"
      ],
      "text/plain": [
       "[('Other',), ('Other',), ('Other',), ('Other',), ('Other',)]"
      ]
     },
     "execution_count": 23,
     "metadata": {},
     "output_type": "execute_result"
    }
   ],
   "source": [
    "%%sql\n",
    "select case \n",
    "    when url like \"%github.com%\" then 'GitHub'\n",
    "    when url like \"%Medium.com%\" then 'Medium'\n",
    "    when url like \"%nytimes.com%\" then 'New York Times'\n",
    "    ELSE 'Other'\n",
    "    END AS 'Source'\n",
    "from hacker_news\n",
    "limit 5;"
   ]
  },
  {
   "cell_type": "markdown",
   "id": "067dcc1e",
   "metadata": {},
   "source": [
    " Next, build on the previous query:\n",
    "\n",
    "Add a column for the number of stories from each URL using COUNT().\n",
    "\n",
    "Also, GROUP BY the CASE statement.\n",
    "\n",
    "Remember that you can refer to a column in GROUP BY using a number."
   ]
  },
  {
   "cell_type": "code",
   "execution_count": 16,
   "id": "629c934f",
   "metadata": {},
   "outputs": [
    {
     "name": "stdout",
     "output_type": "stream",
     "text": [
      " * sqlite:///jupyter_sql.db\n",
      "Done.\n"
     ]
    },
    {
     "data": {
      "text/html": [
       "<table>\n",
       "    <tr>\n",
       "        <th>Source</th>\n",
       "        <th>count(*)</th>\n",
       "    </tr>\n",
       "    <tr>\n",
       "        <td>GitHub</td>\n",
       "        <td>23</td>\n",
       "    </tr>\n",
       "    <tr>\n",
       "        <td>Medium</td>\n",
       "        <td>12</td>\n",
       "    </tr>\n",
       "    <tr>\n",
       "        <td>New York Times</td>\n",
       "        <td>13</td>\n",
       "    </tr>\n",
       "    <tr>\n",
       "        <td>Other</td>\n",
       "        <td>3952</td>\n",
       "    </tr>\n",
       "</table>"
      ],
      "text/plain": [
       "[('GitHub', 23), ('Medium', 12), ('New York Times', 13), ('Other', 3952)]"
      ]
     },
     "execution_count": 16,
     "metadata": {},
     "output_type": "execute_result"
    }
   ],
   "source": [
    "%%sql\n",
    "select case \n",
    "    when url like \"%github.com%\" then 'GitHub'\n",
    "    when url like \"%Medium.com%\" then 'Medium'\n",
    "    when url like \"%nytimes.com%\" then 'New York Times'\n",
    "    ELSE 'Other'\n",
    "  END AS 'Source',\n",
    "  count(*)\n",
    "from hacker_news\n",
    "GROUP BY 1;"
   ]
  },
  {
   "cell_type": "markdown",
   "id": "6d6f9938",
   "metadata": {},
   "source": [
    "Every submitter wants their story to get a high score so that the story makes it to the front page, but…\n",
    "\n",
    "What’s the best time of the day to post a story on Hacker News?\n",
    "\n",
    "Before we get started, let’s run this query and take a look at the timestamp column:"
   ]
  },
  {
   "cell_type": "code",
   "execution_count": 17,
   "id": "0f1b4d5c",
   "metadata": {},
   "outputs": [
    {
     "name": "stdout",
     "output_type": "stream",
     "text": [
      " * sqlite:///jupyter_sql.db\n",
      "Done.\n"
     ]
    },
    {
     "data": {
      "text/html": [
       "<table>\n",
       "    <tr>\n",
       "        <th>timestamp</th>\n",
       "    </tr>\n",
       "    <tr>\n",
       "        <td>2014-01-27T17:31:13Z</td>\n",
       "    </tr>\n",
       "    <tr>\n",
       "        <td>2011-10-23T18:46:40Z</td>\n",
       "    </tr>\n",
       "    <tr>\n",
       "        <td>2016-02-28T06:26:56Z</td>\n",
       "    </tr>\n",
       "    <tr>\n",
       "        <td>2014-08-12T22:13:10Z</td>\n",
       "    </tr>\n",
       "    <tr>\n",
       "        <td>2013-03-06T12:28:02Z</td>\n",
       "    </tr>\n",
       "    <tr>\n",
       "        <td>2011-04-16T21:04:23Z</td>\n",
       "    </tr>\n",
       "    <tr>\n",
       "        <td>2014-03-18T21:44:46Z</td>\n",
       "    </tr>\n",
       "    <tr>\n",
       "        <td>2012-11-19T11:54:38Z</td>\n",
       "    </tr>\n",
       "    <tr>\n",
       "        <td>2016-11-04T13:55:30Z</td>\n",
       "    </tr>\n",
       "    <tr>\n",
       "        <td>2016-07-02T22:54:47Z</td>\n",
       "    </tr>\n",
       "</table>"
      ],
      "text/plain": [
       "[('2014-01-27T17:31:13Z',),\n",
       " ('2011-10-23T18:46:40Z',),\n",
       " ('2016-02-28T06:26:56Z',),\n",
       " ('2014-08-12T22:13:10Z',),\n",
       " ('2013-03-06T12:28:02Z',),\n",
       " ('2011-04-16T21:04:23Z',),\n",
       " ('2014-03-18T21:44:46Z',),\n",
       " ('2012-11-19T11:54:38Z',),\n",
       " ('2016-11-04T13:55:30Z',),\n",
       " ('2016-07-02T22:54:47Z',)]"
      ]
     },
     "execution_count": 17,
     "metadata": {},
     "output_type": "execute_result"
    }
   ],
   "source": [
    "%%sql\n",
    "SELECT timestamp\n",
    "FROM hacker_news\n",
    "LIMIT 10;\n"
   ]
  },
  {
   "cell_type": "markdown",
   "id": "13cdc0ad",
   "metadata": {},
   "source": [
    "Notice that the values are formatted like:\n",
    "\n",
    "2018-05-08T12:30:00Z\n",
    "\n",
    "If you ignore the T and Z, the format is:\n",
    "\n",
    "YYYY-MM-DD HH:MM:SS"
   ]
  },
  {
   "cell_type": "markdown",
   "id": "19fd3723",
   "metadata": {},
   "source": [
    "\n",
    "SQLite comes with a strftime() function - a very powerful function that allows you to return a formatted date.\n",
    "\n",
    "It takes two arguments:\n",
    "\n",
    "strftime(format, column)\n",
    "\n",
    "Let’s test this function out:"
   ]
  },
  {
   "cell_type": "code",
   "execution_count": 24,
   "id": "ef3298f0",
   "metadata": {},
   "outputs": [
    {
     "name": "stdout",
     "output_type": "stream",
     "text": [
      " * sqlite:///jupyter_sql.db\n",
      "Done.\n"
     ]
    },
    {
     "data": {
      "text/html": [
       "<table>\n",
       "    <tr>\n",
       "        <th>timestamp</th>\n",
       "        <th>strftime(&#x27;%H&#x27;, timestamp)</th>\n",
       "    </tr>\n",
       "    <tr>\n",
       "        <td>None</td>\n",
       "        <td>None</td>\n",
       "    </tr>\n",
       "    <tr>\n",
       "        <td>2007-03-16T20:52:19Z</td>\n",
       "        <td>20</td>\n",
       "    </tr>\n",
       "    <tr>\n",
       "        <td>2007-04-03T03:04:09Z</td>\n",
       "        <td>03</td>\n",
       "    </tr>\n",
       "    <tr>\n",
       "        <td>2007-05-01T03:11:17Z</td>\n",
       "        <td>03</td>\n",
       "    </tr>\n",
       "    <tr>\n",
       "        <td>2007-05-05T05:43:58Z</td>\n",
       "        <td>05</td>\n",
       "    </tr>\n",
       "</table>"
      ],
      "text/plain": [
       "[(None, None),\n",
       " ('2007-03-16T20:52:19Z', '20'),\n",
       " ('2007-04-03T03:04:09Z', '03'),\n",
       " ('2007-05-01T03:11:17Z', '03'),\n",
       " ('2007-05-05T05:43:58Z', '05')]"
      ]
     },
     "execution_count": 24,
     "metadata": {},
     "output_type": "execute_result"
    }
   ],
   "source": [
    "%%sql\n",
    "SELECT timestamp,\n",
    "   strftime('%H', timestamp)\n",
    "FROM hacker_news\n",
    "GROUP BY 1\n",
    "LIMIT 5;"
   ]
  },
  {
   "cell_type": "markdown",
   "id": "ff582052",
   "metadata": {},
   "source": [
    "This returns the hour, HH, of the timestamp column!"
   ]
  },
  {
   "cell_type": "markdown",
   "id": "6ecc6ff4",
   "metadata": {},
   "source": [
    "Okay, now we understand how strftime() works. Let’s write a query that returns three columns:\n",
    "\n",
    "The hours of the timestamp\n",
    "The average score for each hour\n",
    "The count of stories for each hour"
   ]
  },
  {
   "cell_type": "code",
   "execution_count": 25,
   "id": "251621a8",
   "metadata": {},
   "outputs": [
    {
     "name": "stdout",
     "output_type": "stream",
     "text": [
      " * sqlite:///jupyter_sql.db\n",
      "Done.\n"
     ]
    },
    {
     "data": {
      "text/html": [
       "<table>\n",
       "    <tr>\n",
       "        <th>hour of the day</th>\n",
       "        <th>avg(score)</th>\n",
       "        <th>count(*)</th>\n",
       "    </tr>\n",
       "    <tr>\n",
       "        <td>18</td>\n",
       "        <td>27.02777777777778</td>\n",
       "        <td>266</td>\n",
       "    </tr>\n",
       "    <tr>\n",
       "        <td>07</td>\n",
       "        <td>21.333333333333332</td>\n",
       "        <td>104</td>\n",
       "    </tr>\n",
       "    <tr>\n",
       "        <td>19</td>\n",
       "        <td>20.413793103448278</td>\n",
       "        <td>238</td>\n",
       "    </tr>\n",
       "    <tr>\n",
       "        <td>20</td>\n",
       "        <td>18.275862068965516</td>\n",
       "        <td>239</td>\n",
       "    </tr>\n",
       "    <tr>\n",
       "        <td>12</td>\n",
       "        <td>14.310344827586206</td>\n",
       "        <td>123</td>\n",
       "    </tr>\n",
       "    <tr>\n",
       "        <td>09</td>\n",
       "        <td>11.125</td>\n",
       "        <td>119</td>\n",
       "    </tr>\n",
       "    <tr>\n",
       "        <td>16</td>\n",
       "        <td>9.755555555555556</td>\n",
       "        <td>237</td>\n",
       "    </tr>\n",
       "    <tr>\n",
       "        <td>15</td>\n",
       "        <td>9.491228070175438</td>\n",
       "        <td>268</td>\n",
       "    </tr>\n",
       "    <tr>\n",
       "        <td>17</td>\n",
       "        <td>8.86046511627907</td>\n",
       "        <td>215</td>\n",
       "    </tr>\n",
       "    <tr>\n",
       "        <td>23</td>\n",
       "        <td>8.434782608695652</td>\n",
       "        <td>170</td>\n",
       "    </tr>\n",
       "</table>"
      ],
      "text/plain": [
       "[('18', 27.02777777777778, 266),\n",
       " ('07', 21.333333333333332, 104),\n",
       " ('19', 20.413793103448278, 238),\n",
       " ('20', 18.275862068965516, 239),\n",
       " ('12', 14.310344827586206, 123),\n",
       " ('09', 11.125, 119),\n",
       " ('16', 9.755555555555556, 237),\n",
       " ('15', 9.491228070175438, 268),\n",
       " ('17', 8.86046511627907, 215),\n",
       " ('23', 8.434782608695652, 170)]"
      ]
     },
     "execution_count": 25,
     "metadata": {},
     "output_type": "execute_result"
    }
   ],
   "source": [
    "%%sql\n",
    "SELECT strftime('%H', timestamp) as 'hour of the day', avg(score), count(*)\n",
    "from hacker_news\n",
    "group by 1\n",
    "order by 2 desc\n",
    "limit 10;"
   ]
  },
  {
   "cell_type": "markdown",
   "id": "6a4a2b7f",
   "metadata": {},
   "source": [
    "\n",
    "Let’s edit a few things in the previous query:\n",
    "\n",
    "Round the average scores (ROUND()).\n",
    "\n",
    "Rename the columns to make it more readable (AS).\n",
    "\n",
    "Add a WHERE clause to filter out the NULL values in timestamp.\n",
    "\n",
    "Take a look at the result again:\n",
    "\n",
    "What are the best hours to post a story on Hacker News?"
   ]
  },
  {
   "cell_type": "code",
   "execution_count": 26,
   "id": "46e38a2a",
   "metadata": {
    "scrolled": true
   },
   "outputs": [
    {
     "name": "stdout",
     "output_type": "stream",
     "text": [
      " * sqlite:///jupyter_sql.db\n",
      "Done.\n"
     ]
    },
    {
     "data": {
      "text/html": [
       "<table>\n",
       "    <tr>\n",
       "        <th>hour of the day</th>\n",
       "        <th>average score</th>\n",
       "        <th>number of stories</th>\n",
       "    </tr>\n",
       "    <tr>\n",
       "        <td>18</td>\n",
       "        <td>27.0</td>\n",
       "        <td>266</td>\n",
       "    </tr>\n",
       "    <tr>\n",
       "        <td>07</td>\n",
       "        <td>21.0</td>\n",
       "        <td>104</td>\n",
       "    </tr>\n",
       "    <tr>\n",
       "        <td>19</td>\n",
       "        <td>20.0</td>\n",
       "        <td>238</td>\n",
       "    </tr>\n",
       "    <tr>\n",
       "        <td>20</td>\n",
       "        <td>18.0</td>\n",
       "        <td>239</td>\n",
       "    </tr>\n",
       "    <tr>\n",
       "        <td>12</td>\n",
       "        <td>14.0</td>\n",
       "        <td>123</td>\n",
       "    </tr>\n",
       "    <tr>\n",
       "        <td>09</td>\n",
       "        <td>11.0</td>\n",
       "        <td>119</td>\n",
       "    </tr>\n",
       "    <tr>\n",
       "        <td>16</td>\n",
       "        <td>10.0</td>\n",
       "        <td>237</td>\n",
       "    </tr>\n",
       "    <tr>\n",
       "        <td>17</td>\n",
       "        <td>9.0</td>\n",
       "        <td>215</td>\n",
       "    </tr>\n",
       "    <tr>\n",
       "        <td>15</td>\n",
       "        <td>9.0</td>\n",
       "        <td>268</td>\n",
       "    </tr>\n",
       "    <tr>\n",
       "        <td>23</td>\n",
       "        <td>8.0</td>\n",
       "        <td>170</td>\n",
       "    </tr>\n",
       "</table>"
      ],
      "text/plain": [
       "[('18', 27.0, 266),\n",
       " ('07', 21.0, 104),\n",
       " ('19', 20.0, 238),\n",
       " ('20', 18.0, 239),\n",
       " ('12', 14.0, 123),\n",
       " ('09', 11.0, 119),\n",
       " ('16', 10.0, 237),\n",
       " ('17', 9.0, 215),\n",
       " ('15', 9.0, 268),\n",
       " ('23', 8.0, 170)]"
      ]
     },
     "execution_count": 26,
     "metadata": {},
     "output_type": "execute_result"
    }
   ],
   "source": [
    "%%sql\n",
    "SELECT strftime('%H', timestamp) as 'hour of the day', round(avg(score)) as \"average score\", count(*)as \"number of stories\"\n",
    "from hacker_news\n",
    "where strftime('%H', timestamp) is not null \n",
    "group by 1\n",
    "order by 2 desc\n",
    "limit 10;"
   ]
  },
  {
   "cell_type": "markdown",
   "id": "113308a5",
   "metadata": {},
   "source": [
    "The best hours to post a story is either 18:00 or 7:00"
   ]
  }
 ],
 "metadata": {
  "kernelspec": {
   "display_name": "Python 3",
   "language": "python",
   "name": "python3"
  },
  "language_info": {
   "codemirror_mode": {
    "name": "ipython",
    "version": 3
   },
   "file_extension": ".py",
   "mimetype": "text/x-python",
   "name": "python",
   "nbconvert_exporter": "python",
   "pygments_lexer": "ipython3",
   "version": "3.8.8"
  },
  "toc": {
   "base_numbering": 1,
   "nav_menu": {},
   "number_sections": true,
   "sideBar": true,
   "skip_h1_title": false,
   "title_cell": "Table of Contents",
   "title_sidebar": "Contents",
   "toc_cell": false,
   "toc_position": {},
   "toc_section_display": true,
   "toc_window_display": true
  },
  "varInspector": {
   "cols": {
    "lenName": 16,
    "lenType": 16,
    "lenVar": 40
   },
   "kernels_config": {
    "python": {
     "delete_cmd_postfix": "",
     "delete_cmd_prefix": "del ",
     "library": "var_list.py",
     "varRefreshCmd": "print(var_dic_list())"
    },
    "r": {
     "delete_cmd_postfix": ") ",
     "delete_cmd_prefix": "rm(",
     "library": "var_list.r",
     "varRefreshCmd": "cat(var_dic_list()) "
    }
   },
   "types_to_exclude": [
    "module",
    "function",
    "builtin_function_or_method",
    "instance",
    "_Feature"
   ],
   "window_display": false
  }
 },
 "nbformat": 4,
 "nbformat_minor": 5
}
