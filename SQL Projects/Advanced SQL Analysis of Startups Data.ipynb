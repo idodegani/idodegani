{
 "cells": [
  {
   "cell_type": "markdown",
   "id": "8114af0a",
   "metadata": {},
   "source": [
    "In the following code I used SQL skills to perform various operations on the \"startups\" table. I counted the number of companies in the table and found the sum of the \"valuation\" column to know the total value of all companies. I also used the \"MAX()\" function to find the highest amount raised by a startup and the maximum amount raised during the \"Seed\" stage. I used the \"MIN()\" function to find the year in which the oldest company was founded.\n",
    "\n",
    "I also used \"SUM\" and \"AVG\" aggregate functions in combination with \"GROUP BY\" clause to perform data analysis and generate meaningful insights into the trends and patterns in the data. I employed the \"HAVING\" clause to filter groups based on aggregate calculations, such as selecting only the categories with an average valuation greater than a certain threshold. I utilized \"SUBQUERY\" to extract data from a nested query and used \"WITH\" clause to create and use temporary views to simplify complex queries."
   ]
  },
  {
   "cell_type": "markdown",
   "id": "3f5b02a0",
   "metadata": {},
   "source": [
    "## Setup"
   ]
  },
  {
   "cell_type": "code",
   "execution_count": 2,
   "id": "074a9fcc",
   "metadata": {},
   "outputs": [],
   "source": [
    "import pandas as pd "
   ]
  },
  {
   "cell_type": "code",
   "execution_count": 3,
   "id": "70cb1128",
   "metadata": {},
   "outputs": [],
   "source": [
    "import sqlite3"
   ]
  },
  {
   "cell_type": "code",
   "execution_count": 4,
   "id": "448817ba",
   "metadata": {},
   "outputs": [],
   "source": [
    "df = pd.read_csv(\"startups.csv\")"
   ]
  },
  {
   "cell_type": "code",
   "execution_count": 5,
   "id": "0b4b9f36",
   "metadata": {},
   "outputs": [],
   "source": [
    "cnn = sqlite3.connect('jupyter_sql.db')"
   ]
  },
  {
   "cell_type": "code",
   "execution_count": 6,
   "id": "ce124e50",
   "metadata": {},
   "outputs": [],
   "source": [
    "df.to_sql('startups',cnn, if_exists='replace')"
   ]
  },
  {
   "cell_type": "code",
   "execution_count": 7,
   "id": "1162f077",
   "metadata": {},
   "outputs": [],
   "source": [
    "%load_ext sql"
   ]
  },
  {
   "cell_type": "code",
   "execution_count": 8,
   "id": "f3ac147e",
   "metadata": {},
   "outputs": [],
   "source": [
    "%sql sqlite:///jupyter_sql.db"
   ]
  },
  {
   "cell_type": "code",
   "execution_count": 9,
   "id": "4e26125f",
   "metadata": {},
   "outputs": [
    {
     "name": "stdout",
     "output_type": "stream",
     "text": [
      " * sqlite:///jupyter_sql.db\n",
      "Done.\n"
     ]
    },
    {
     "data": {
      "text/html": [
       "<table>\n",
       "    <tr>\n",
       "        <th>index</th>\n",
       "        <th>name</th>\n",
       "        <th>location</th>\n",
       "        <th>category</th>\n",
       "        <th>employees</th>\n",
       "        <th>raised</th>\n",
       "        <th>valuation</th>\n",
       "        <th>founded</th>\n",
       "        <th>stage</th>\n",
       "        <th>ceo</th>\n",
       "        <th>info</th>\n",
       "    </tr>\n",
       "    <tr>\n",
       "        <td>0</td>\n",
       "        <td>Pied Piper</td>\n",
       "        <td>Silicon Valley</td>\n",
       "        <td>Cloud Computing</td>\n",
       "        <td>6.0</td>\n",
       "        <td>5000000.0</td>\n",
       "        <td>50000000.0</td>\n",
       "        <td>2014</td>\n",
       "        <td>A</td>\n",
       "        <td>Richard Hendricks</td>\n",
       "        <td>A Middle-Out Compression Solution</td>\n",
       "    </tr>\n",
       "    <tr>\n",
       "        <td>1</td>\n",
       "        <td>Hooli</td>\n",
       "        <td>Silicon Valley</td>\n",
       "        <td>Enterprise</td>\n",
       "        <td>9000.0</td>\n",
       "        <td>580000000.0</td>\n",
       "        <td>49500000000.0</td>\n",
       "        <td>1997</td>\n",
       "        <td>None</td>\n",
       "        <td>Gavin Bensen</td>\n",
       "        <td>Hooli Is About People</td>\n",
       "    </tr>\n",
       "    <tr>\n",
       "        <td>2</td>\n",
       "        <td>Raviga Capital</td>\n",
       "        <td>Silicon Valley</td>\n",
       "        <td>Venture Capital</td>\n",
       "        <td>12.0</td>\n",
       "        <td>300000000.0</td>\n",
       "        <td>3000000000.0</td>\n",
       "        <td>2012</td>\n",
       "        <td>None</td>\n",
       "        <td>Peter Gregory</td>\n",
       "        <td>Share Only In Success</td>\n",
       "    </tr>\n",
       "    <tr>\n",
       "        <td>3</td>\n",
       "        <td>Aviato</td>\n",
       "        <td>Silicon Valley</td>\n",
       "        <td>Travel</td>\n",
       "        <td>3.0</td>\n",
       "        <td>250000.0</td>\n",
       "        <td>2500000.0</td>\n",
       "        <td>2006</td>\n",
       "        <td>Acquired</td>\n",
       "        <td>Erlich Bachman</td>\n",
       "        <td>Software Aggregation Program</td>\n",
       "    </tr>\n",
       "    <tr>\n",
       "        <td>4</td>\n",
       "        <td>SEE FOOD</td>\n",
       "        <td>Silicon Valley</td>\n",
       "        <td>Mobile</td>\n",
       "        <td>2.0</td>\n",
       "        <td>None</td>\n",
       "        <td>15000000.0</td>\n",
       "        <td>2016</td>\n",
       "        <td>Acquired</td>\n",
       "        <td>Jian-Yang</td>\n",
       "        <td>The Shazam of Food</td>\n",
       "    </tr>\n",
       "    <tr>\n",
       "        <td>5</td>\n",
       "        <td>Forbid</td>\n",
       "        <td>New York</td>\n",
       "        <td>Mobile</td>\n",
       "        <td>25.0</td>\n",
       "        <td>1400000.0</td>\n",
       "        <td>5000000.0</td>\n",
       "        <td>2013</td>\n",
       "        <td>Acquired</td>\n",
       "        <td>Charlie Dattolo</td>\n",
       "        <td>Charge Users $10 for Calling Their Ex</td>\n",
       "    </tr>\n",
       "    <tr>\n",
       "        <td>6</td>\n",
       "        <td>Soulstice</td>\n",
       "        <td>New York</td>\n",
       "        <td>Fitness</td>\n",
       "        <td>300.0</td>\n",
       "        <td>30000000.0</td>\n",
       "        <td>120000000.0</td>\n",
       "        <td>2014</td>\n",
       "        <td>B</td>\n",
       "        <td>None</td>\n",
       "        <td>What are your goals today?</td>\n",
       "    </tr>\n",
       "    <tr>\n",
       "        <td>7</td>\n",
       "        <td>E-Corp</td>\n",
       "        <td>New York</td>\n",
       "        <td>Enterprise</td>\n",
       "        <td>10000.0</td>\n",
       "        <td>None</td>\n",
       "        <td>66000000000.0</td>\n",
       "        <td>2006</td>\n",
       "        <td>None</td>\n",
       "        <td>Phillip Price</td>\n",
       "        <td>Together We Can Change the Wolrd</td>\n",
       "    </tr>\n",
       "    <tr>\n",
       "        <td>8</td>\n",
       "        <td>Allsafe Cybersecurity</td>\n",
       "        <td>New York</td>\n",
       "        <td>Security</td>\n",
       "        <td>250.0</td>\n",
       "        <td>123000000.0</td>\n",
       "        <td>1000000000.0</td>\n",
       "        <td>2014</td>\n",
       "        <td>None</td>\n",
       "        <td>Gideon Goddard</td>\n",
       "        <td>None</td>\n",
       "    </tr>\n",
       "    <tr>\n",
       "        <td>9</td>\n",
       "        <td>fsociety</td>\n",
       "        <td>Brooklyn</td>\n",
       "        <td>Games</td>\n",
       "        <td>5.0</td>\n",
       "        <td>None</td>\n",
       "        <td>None</td>\n",
       "        <td>2015</td>\n",
       "        <td>Stealth</td>\n",
       "        <td>Elliot Alderson</td>\n",
       "        <td>Fun Society Arcade</td>\n",
       "    </tr>\n",
       "</table>"
      ],
      "text/plain": [
       "[(0, 'Pied Piper', 'Silicon Valley', 'Cloud Computing', 6.0, 5000000.0, 50000000.0, 2014, 'A', 'Richard Hendricks', 'A Middle-Out Compression Solution'),\n",
       " (1, 'Hooli', 'Silicon Valley', 'Enterprise', 9000.0, 580000000.0, 49500000000.0, 1997, None, 'Gavin Bensen', 'Hooli Is About People'),\n",
       " (2, 'Raviga Capital', 'Silicon Valley', 'Venture Capital', 12.0, 300000000.0, 3000000000.0, 2012, None, 'Peter Gregory', 'Share Only In Success'),\n",
       " (3, 'Aviato', 'Silicon Valley', 'Travel', 3.0, 250000.0, 2500000.0, 2006, 'Acquired', 'Erlich Bachman', 'Software Aggregation Program'),\n",
       " (4, 'SEE FOOD', 'Silicon Valley', 'Mobile', 2.0, None, 15000000.0, 2016, 'Acquired', 'Jian-Yang', 'The Shazam of Food'),\n",
       " (5, 'Forbid', 'New York', 'Mobile', 25.0, 1400000.0, 5000000.0, 2013, 'Acquired', 'Charlie Dattolo', 'Charge Users $10 for Calling Their Ex'),\n",
       " (6, 'Soulstice', 'New York', 'Fitness', 300.0, 30000000.0, 120000000.0, 2014, 'B', None, 'What are your goals today?'),\n",
       " (7, 'E-Corp', 'New York', 'Enterprise', 10000.0, None, 66000000000.0, 2006, None, 'Phillip Price', 'Together We Can Change the Wolrd'),\n",
       " (8, 'Allsafe Cybersecurity', 'New York', 'Security', 250.0, 123000000.0, 1000000000.0, 2014, None, 'Gideon Goddard', None),\n",
       " (9, 'fsociety', 'Brooklyn', 'Games', 5.0, None, None, 2015, 'Stealth', 'Elliot Alderson', 'Fun Society Arcade')]"
      ]
     },
     "execution_count": 9,
     "metadata": {},
     "output_type": "execute_result"
    }
   ],
   "source": [
    "%%sql \n",
    "\n",
    "select * from startups\n",
    "limit 10;"
   ]
  },
  {
   "cell_type": "markdown",
   "id": "7d8d09c4",
   "metadata": {},
   "source": [
    "# Starting the code"
   ]
  },
  {
   "cell_type": "markdown",
   "id": "5cfed561",
   "metadata": {},
   "source": [
    "### Calculate the total number of companies in the table."
   ]
  },
  {
   "cell_type": "code",
   "execution_count": 11,
   "id": "0aca5bf2",
   "metadata": {},
   "outputs": [
    {
     "name": "stdout",
     "output_type": "stream",
     "text": [
      " * sqlite:///jupyter_sql.db\n",
      "Done.\n"
     ]
    },
    {
     "data": {
      "text/html": [
       "<table>\n",
       "    <tr>\n",
       "        <th>Number_of_companies</th>\n",
       "    </tr>\n",
       "    <tr>\n",
       "        <td>70</td>\n",
       "    </tr>\n",
       "</table>"
      ],
      "text/plain": [
       "[(70,)]"
      ]
     },
     "execution_count": 11,
     "metadata": {},
     "output_type": "execute_result"
    }
   ],
   "source": [
    "%%sql\n",
    "select count(*) as 'Number_of_companies'\n",
    "from startups \n",
    "where name is not null;"
   ]
  },
  {
   "cell_type": "markdown",
   "id": "01f74d55",
   "metadata": {},
   "source": [
    "### We want to know the total value of all companies in this table. Calculate this by getting the SUM() of the valuation column."
   ]
  },
  {
   "cell_type": "code",
   "execution_count": 12,
   "id": "499489a9",
   "metadata": {},
   "outputs": [
    {
     "name": "stdout",
     "output_type": "stream",
     "text": [
      " * sqlite:///jupyter_sql.db\n",
      "Done.\n"
     ]
    },
    {
     "data": {
      "text/html": [
       "<table>\n",
       "    <tr>\n",
       "        <th>total_value_of_companies</th>\n",
       "    </tr>\n",
       "    <tr>\n",
       "        <td>974455790000.0</td>\n",
       "    </tr>\n",
       "</table>"
      ],
      "text/plain": [
       "[(974455790000.0,)]"
      ]
     },
     "execution_count": 12,
     "metadata": {},
     "output_type": "execute_result"
    }
   ],
   "source": [
    "%%sql\n",
    "select sum(valuation) as 'total_value_of_companies'\n",
    "from startups;"
   ]
  },
  {
   "cell_type": "markdown",
   "id": "c492b798",
   "metadata": {},
   "source": [
    "### What is the highest amount raised by a startup? Return the maximum amount of money raised."
   ]
  },
  {
   "cell_type": "code",
   "execution_count": 13,
   "id": "49490c08",
   "metadata": {},
   "outputs": [
    {
     "name": "stdout",
     "output_type": "stream",
     "text": [
      " * sqlite:///jupyter_sql.db\n",
      "Done.\n"
     ]
    },
    {
     "data": {
      "text/html": [
       "<table>\n",
       "    <tr>\n",
       "        <th>maximun_amount_raised</th>\n",
       "    </tr>\n",
       "    <tr>\n",
       "        <td>11500000000.0</td>\n",
       "    </tr>\n",
       "</table>"
      ],
      "text/plain": [
       "[(11500000000.0,)]"
      ]
     },
     "execution_count": 13,
     "metadata": {},
     "output_type": "execute_result"
    }
   ],
   "source": [
    "%%sql\n",
    "select max(raised) as \"maximun_amount_raised\"\n",
    "from startups;"
   ]
  },
  {
   "cell_type": "markdown",
   "id": "c04905d7",
   "metadata": {},
   "source": [
    "### Edit the query so that it returns the maximum amount of money raised, during ‘Seed’ stage."
   ]
  },
  {
   "cell_type": "code",
   "execution_count": 14,
   "id": "8e860edb",
   "metadata": {},
   "outputs": [
    {
     "name": "stdout",
     "output_type": "stream",
     "text": [
      " * sqlite:///jupyter_sql.db\n",
      "Done.\n"
     ]
    },
    {
     "data": {
      "text/html": [
       "<table>\n",
       "    <tr>\n",
       "        <th>maximun_amount_raised</th>\n",
       "    </tr>\n",
       "    <tr>\n",
       "        <td>1800000.0</td>\n",
       "    </tr>\n",
       "</table>"
      ],
      "text/plain": [
       "[(1800000.0,)]"
      ]
     },
     "execution_count": 14,
     "metadata": {},
     "output_type": "execute_result"
    }
   ],
   "source": [
    "%%sql\n",
    "select max(raised) as \"maximun_amount_raised\"\n",
    "from startups\n",
    "where stage = \"Seed\";"
   ]
  },
  {
   "cell_type": "markdown",
   "id": "cffbd661",
   "metadata": {},
   "source": [
    "### In what year was the oldest company on the list founded?"
   ]
  },
  {
   "cell_type": "code",
   "execution_count": 15,
   "id": "b37a5470",
   "metadata": {},
   "outputs": [
    {
     "name": "stdout",
     "output_type": "stream",
     "text": [
      " * sqlite:///jupyter_sql.db\n",
      "Done.\n"
     ]
    },
    {
     "data": {
      "text/html": [
       "<table>\n",
       "    <tr>\n",
       "        <th>min(founded)</th>\n",
       "    </tr>\n",
       "    <tr>\n",
       "        <td>1994</td>\n",
       "    </tr>\n",
       "</table>"
      ],
      "text/plain": [
       "[(1994,)]"
      ]
     },
     "execution_count": 15,
     "metadata": {},
     "output_type": "execute_result"
    }
   ],
   "source": [
    "%%sql\n",
    "select min(founded)\n",
    "from startups;"
   ]
  },
  {
   "cell_type": "markdown",
   "id": "0303424e",
   "metadata": {},
   "source": [
    "## Let's find out the valuations among different sectors:"
   ]
  },
  {
   "cell_type": "markdown",
   "id": "a4a59051",
   "metadata": {},
   "source": [
    "### Return the average valuation in each category."
   ]
  },
  {
   "cell_type": "code",
   "execution_count": 16,
   "id": "fce0a66d",
   "metadata": {},
   "outputs": [
    {
     "name": "stdout",
     "output_type": "stream",
     "text": [
      " * sqlite:///jupyter_sql.db\n",
      "Done.\n"
     ]
    },
    {
     "data": {
      "text/html": [
       "<table>\n",
       "    <tr>\n",
       "        <th>category</th>\n",
       "        <th>avg(valuation)</th>\n",
       "    </tr>\n",
       "    <tr>\n",
       "        <td>None</td>\n",
       "        <td>4290000.0</td>\n",
       "    </tr>\n",
       "    <tr>\n",
       "        <td>Algorithms</td>\n",
       "        <td>7600000.0</td>\n",
       "    </tr>\n",
       "    <tr>\n",
       "        <td>Augmented Reality</td>\n",
       "        <td>8000000000.0</td>\n",
       "    </tr>\n",
       "    <tr>\n",
       "        <td>Big Data Analytics</td>\n",
       "        <td>15000000.0</td>\n",
       "    </tr>\n",
       "    <tr>\n",
       "        <td>Cloud Computing</td>\n",
       "        <td>95000000.0</td>\n",
       "    </tr>\n",
       "    <tr>\n",
       "        <td>Customer Service</td>\n",
       "        <td>640000000.0</td>\n",
       "    </tr>\n",
       "    <tr>\n",
       "        <td>Data Analytics</td>\n",
       "        <td>None</td>\n",
       "    </tr>\n",
       "    <tr>\n",
       "        <td>E-commerce</td>\n",
       "        <td>60250000.0</td>\n",
       "    </tr>\n",
       "    <tr>\n",
       "        <td>Education</td>\n",
       "        <td>2023800000.0</td>\n",
       "    </tr>\n",
       "    <tr>\n",
       "        <td>Enterprise</td>\n",
       "        <td>38508333333.333336</td>\n",
       "    </tr>\n",
       "    <tr>\n",
       "        <td>Fashion</td>\n",
       "        <td>3200000.0</td>\n",
       "    </tr>\n",
       "    <tr>\n",
       "        <td>Fitness</td>\n",
       "        <td>67500000.0</td>\n",
       "    </tr>\n",
       "    <tr>\n",
       "        <td>Gambling</td>\n",
       "        <td>322000000.0</td>\n",
       "    </tr>\n",
       "    <tr>\n",
       "        <td>Games</td>\n",
       "        <td>1600000.0</td>\n",
       "    </tr>\n",
       "    <tr>\n",
       "        <td>Health Care</td>\n",
       "        <td>380490000000.0</td>\n",
       "    </tr>\n",
       "    <tr>\n",
       "        <td>Logistics</td>\n",
       "        <td>70000000.0</td>\n",
       "    </tr>\n",
       "    <tr>\n",
       "        <td>Mobile</td>\n",
       "        <td>9600000.0</td>\n",
       "    </tr>\n",
       "    <tr>\n",
       "        <td>Nanotechnology</td>\n",
       "        <td>150000000.0</td>\n",
       "    </tr>\n",
       "    <tr>\n",
       "        <td>Real Estate</td>\n",
       "        <td>20000000000.0</td>\n",
       "    </tr>\n",
       "    <tr>\n",
       "        <td>SaaS</td>\n",
       "        <td>401000000.0</td>\n",
       "    </tr>\n",
       "    <tr>\n",
       "        <td>Security</td>\n",
       "        <td>6333333333.333333</td>\n",
       "    </tr>\n",
       "    <tr>\n",
       "        <td>Social</td>\n",
       "        <td>82425833.33333333</td>\n",
       "    </tr>\n",
       "    <tr>\n",
       "        <td>Technology</td>\n",
       "        <td>3100000000.0</td>\n",
       "    </tr>\n",
       "    <tr>\n",
       "        <td>Travel</td>\n",
       "        <td>12501250000.0</td>\n",
       "    </tr>\n",
       "    <tr>\n",
       "        <td>Venture Capital</td>\n",
       "        <td>3000000000.0</td>\n",
       "    </tr>\n",
       "    <tr>\n",
       "        <td>Video Streaming</td>\n",
       "        <td>None</td>\n",
       "    </tr>\n",
       "    <tr>\n",
       "        <td>Virtual Reality</td>\n",
       "        <td>2150000.0</td>\n",
       "    </tr>\n",
       "</table>"
      ],
      "text/plain": [
       "[(None, 4290000.0),\n",
       " ('Algorithms', 7600000.0),\n",
       " ('Augmented Reality', 8000000000.0),\n",
       " ('Big Data Analytics', 15000000.0),\n",
       " ('Cloud Computing', 95000000.0),\n",
       " ('Customer Service', 640000000.0),\n",
       " ('Data Analytics', None),\n",
       " ('E-commerce', 60250000.0),\n",
       " ('Education', 2023800000.0),\n",
       " ('Enterprise', 38508333333.333336),\n",
       " ('Fashion', 3200000.0),\n",
       " ('Fitness', 67500000.0),\n",
       " ('Gambling', 322000000.0),\n",
       " ('Games', 1600000.0),\n",
       " ('Health Care', 380490000000.0),\n",
       " ('Logistics', 70000000.0),\n",
       " ('Mobile', 9600000.0),\n",
       " ('Nanotechnology', 150000000.0),\n",
       " ('Real Estate', 20000000000.0),\n",
       " ('SaaS', 401000000.0),\n",
       " ('Security', 6333333333.333333),\n",
       " ('Social', 82425833.33333333),\n",
       " ('Technology', 3100000000.0),\n",
       " ('Travel', 12501250000.0),\n",
       " ('Venture Capital', 3000000000.0),\n",
       " ('Video Streaming', None),\n",
       " ('Virtual Reality', 2150000.0)]"
      ]
     },
     "execution_count": 16,
     "metadata": {},
     "output_type": "execute_result"
    }
   ],
   "source": [
    "%%sql\n",
    "select category, avg(valuation)\n",
    "from startups\n",
    "group by 1;"
   ]
  },
  {
   "cell_type": "markdown",
   "id": "067dcc1e",
   "metadata": {},
   "source": [
    "### Return the average valuation, in each category. Round the averages to two decimal places."
   ]
  },
  {
   "cell_type": "code",
   "execution_count": 17,
   "id": "629c934f",
   "metadata": {},
   "outputs": [
    {
     "name": "stdout",
     "output_type": "stream",
     "text": [
      " * sqlite:///jupyter_sql.db\n",
      "Done.\n"
     ]
    },
    {
     "data": {
      "text/html": [
       "<table>\n",
       "    <tr>\n",
       "        <th>category</th>\n",
       "        <th>round(avg(valuation),2)</th>\n",
       "    </tr>\n",
       "    <tr>\n",
       "        <td>None</td>\n",
       "        <td>4290000.0</td>\n",
       "    </tr>\n",
       "    <tr>\n",
       "        <td>Algorithms</td>\n",
       "        <td>7600000.0</td>\n",
       "    </tr>\n",
       "    <tr>\n",
       "        <td>Augmented Reality</td>\n",
       "        <td>8000000000.0</td>\n",
       "    </tr>\n",
       "    <tr>\n",
       "        <td>Big Data Analytics</td>\n",
       "        <td>15000000.0</td>\n",
       "    </tr>\n",
       "    <tr>\n",
       "        <td>Cloud Computing</td>\n",
       "        <td>95000000.0</td>\n",
       "    </tr>\n",
       "    <tr>\n",
       "        <td>Customer Service</td>\n",
       "        <td>640000000.0</td>\n",
       "    </tr>\n",
       "    <tr>\n",
       "        <td>Data Analytics</td>\n",
       "        <td>None</td>\n",
       "    </tr>\n",
       "    <tr>\n",
       "        <td>E-commerce</td>\n",
       "        <td>60250000.0</td>\n",
       "    </tr>\n",
       "    <tr>\n",
       "        <td>Education</td>\n",
       "        <td>2023800000.0</td>\n",
       "    </tr>\n",
       "    <tr>\n",
       "        <td>Enterprise</td>\n",
       "        <td>38508333333.33</td>\n",
       "    </tr>\n",
       "    <tr>\n",
       "        <td>Fashion</td>\n",
       "        <td>3200000.0</td>\n",
       "    </tr>\n",
       "    <tr>\n",
       "        <td>Fitness</td>\n",
       "        <td>67500000.0</td>\n",
       "    </tr>\n",
       "    <tr>\n",
       "        <td>Gambling</td>\n",
       "        <td>322000000.0</td>\n",
       "    </tr>\n",
       "    <tr>\n",
       "        <td>Games</td>\n",
       "        <td>1600000.0</td>\n",
       "    </tr>\n",
       "    <tr>\n",
       "        <td>Health Care</td>\n",
       "        <td>380490000000.0</td>\n",
       "    </tr>\n",
       "    <tr>\n",
       "        <td>Logistics</td>\n",
       "        <td>70000000.0</td>\n",
       "    </tr>\n",
       "    <tr>\n",
       "        <td>Mobile</td>\n",
       "        <td>9600000.0</td>\n",
       "    </tr>\n",
       "    <tr>\n",
       "        <td>Nanotechnology</td>\n",
       "        <td>150000000.0</td>\n",
       "    </tr>\n",
       "    <tr>\n",
       "        <td>Real Estate</td>\n",
       "        <td>20000000000.0</td>\n",
       "    </tr>\n",
       "    <tr>\n",
       "        <td>SaaS</td>\n",
       "        <td>401000000.0</td>\n",
       "    </tr>\n",
       "    <tr>\n",
       "        <td>Security</td>\n",
       "        <td>6333333333.33</td>\n",
       "    </tr>\n",
       "    <tr>\n",
       "        <td>Social</td>\n",
       "        <td>82425833.33</td>\n",
       "    </tr>\n",
       "    <tr>\n",
       "        <td>Technology</td>\n",
       "        <td>3100000000.0</td>\n",
       "    </tr>\n",
       "    <tr>\n",
       "        <td>Travel</td>\n",
       "        <td>12501250000.0</td>\n",
       "    </tr>\n",
       "    <tr>\n",
       "        <td>Venture Capital</td>\n",
       "        <td>3000000000.0</td>\n",
       "    </tr>\n",
       "    <tr>\n",
       "        <td>Video Streaming</td>\n",
       "        <td>None</td>\n",
       "    </tr>\n",
       "    <tr>\n",
       "        <td>Virtual Reality</td>\n",
       "        <td>2150000.0</td>\n",
       "    </tr>\n",
       "</table>"
      ],
      "text/plain": [
       "[(None, 4290000.0),\n",
       " ('Algorithms', 7600000.0),\n",
       " ('Augmented Reality', 8000000000.0),\n",
       " ('Big Data Analytics', 15000000.0),\n",
       " ('Cloud Computing', 95000000.0),\n",
       " ('Customer Service', 640000000.0),\n",
       " ('Data Analytics', None),\n",
       " ('E-commerce', 60250000.0),\n",
       " ('Education', 2023800000.0),\n",
       " ('Enterprise', 38508333333.33),\n",
       " ('Fashion', 3200000.0),\n",
       " ('Fitness', 67500000.0),\n",
       " ('Gambling', 322000000.0),\n",
       " ('Games', 1600000.0),\n",
       " ('Health Care', 380490000000.0),\n",
       " ('Logistics', 70000000.0),\n",
       " ('Mobile', 9600000.0),\n",
       " ('Nanotechnology', 150000000.0),\n",
       " ('Real Estate', 20000000000.0),\n",
       " ('SaaS', 401000000.0),\n",
       " ('Security', 6333333333.33),\n",
       " ('Social', 82425833.33),\n",
       " ('Technology', 3100000000.0),\n",
       " ('Travel', 12501250000.0),\n",
       " ('Venture Capital', 3000000000.0),\n",
       " ('Video Streaming', None),\n",
       " ('Virtual Reality', 2150000.0)]"
      ]
     },
     "execution_count": 17,
     "metadata": {},
     "output_type": "execute_result"
    }
   ],
   "source": [
    "%%sql\n",
    "select category, round(avg(valuation),2)\n",
    "from startups\n",
    "group by 1;"
   ]
  },
  {
   "cell_type": "markdown",
   "id": "6d6f9938",
   "metadata": {},
   "source": [
    "### Return the average valuation, in each category. Round the averages to two decimal places. Lastly, order the list from highest averages to lowest."
   ]
  },
  {
   "cell_type": "code",
   "execution_count": 18,
   "id": "0f1b4d5c",
   "metadata": {},
   "outputs": [
    {
     "name": "stdout",
     "output_type": "stream",
     "text": [
      " * sqlite:///jupyter_sql.db\n",
      "Done.\n"
     ]
    },
    {
     "data": {
      "text/html": [
       "<table>\n",
       "    <tr>\n",
       "        <th>category</th>\n",
       "        <th>valuation</th>\n",
       "    </tr>\n",
       "    <tr>\n",
       "        <td>Health Care</td>\n",
       "        <td>380490000000.0</td>\n",
       "    </tr>\n",
       "    <tr>\n",
       "        <td>Enterprise</td>\n",
       "        <td>38508333333.33</td>\n",
       "    </tr>\n",
       "    <tr>\n",
       "        <td>Real Estate</td>\n",
       "        <td>20000000000.0</td>\n",
       "    </tr>\n",
       "    <tr>\n",
       "        <td>Travel</td>\n",
       "        <td>12501250000.0</td>\n",
       "    </tr>\n",
       "    <tr>\n",
       "        <td>Augmented Reality</td>\n",
       "        <td>8000000000.0</td>\n",
       "    </tr>\n",
       "    <tr>\n",
       "        <td>Security</td>\n",
       "        <td>6333333333.33</td>\n",
       "    </tr>\n",
       "    <tr>\n",
       "        <td>Technology</td>\n",
       "        <td>3100000000.0</td>\n",
       "    </tr>\n",
       "    <tr>\n",
       "        <td>Venture Capital</td>\n",
       "        <td>3000000000.0</td>\n",
       "    </tr>\n",
       "    <tr>\n",
       "        <td>Education</td>\n",
       "        <td>2023800000.0</td>\n",
       "    </tr>\n",
       "    <tr>\n",
       "        <td>Customer Service</td>\n",
       "        <td>640000000.0</td>\n",
       "    </tr>\n",
       "    <tr>\n",
       "        <td>SaaS</td>\n",
       "        <td>401000000.0</td>\n",
       "    </tr>\n",
       "    <tr>\n",
       "        <td>Gambling</td>\n",
       "        <td>322000000.0</td>\n",
       "    </tr>\n",
       "    <tr>\n",
       "        <td>Nanotechnology</td>\n",
       "        <td>150000000.0</td>\n",
       "    </tr>\n",
       "    <tr>\n",
       "        <td>Cloud Computing</td>\n",
       "        <td>95000000.0</td>\n",
       "    </tr>\n",
       "    <tr>\n",
       "        <td>Social</td>\n",
       "        <td>82425833.33</td>\n",
       "    </tr>\n",
       "    <tr>\n",
       "        <td>Logistics</td>\n",
       "        <td>70000000.0</td>\n",
       "    </tr>\n",
       "    <tr>\n",
       "        <td>Fitness</td>\n",
       "        <td>67500000.0</td>\n",
       "    </tr>\n",
       "    <tr>\n",
       "        <td>E-commerce</td>\n",
       "        <td>60250000.0</td>\n",
       "    </tr>\n",
       "    <tr>\n",
       "        <td>Big Data Analytics</td>\n",
       "        <td>15000000.0</td>\n",
       "    </tr>\n",
       "    <tr>\n",
       "        <td>Mobile</td>\n",
       "        <td>9600000.0</td>\n",
       "    </tr>\n",
       "    <tr>\n",
       "        <td>Algorithms</td>\n",
       "        <td>7600000.0</td>\n",
       "    </tr>\n",
       "    <tr>\n",
       "        <td>None</td>\n",
       "        <td>4290000.0</td>\n",
       "    </tr>\n",
       "    <tr>\n",
       "        <td>Fashion</td>\n",
       "        <td>3200000.0</td>\n",
       "    </tr>\n",
       "    <tr>\n",
       "        <td>Virtual Reality</td>\n",
       "        <td>2150000.0</td>\n",
       "    </tr>\n",
       "    <tr>\n",
       "        <td>Games</td>\n",
       "        <td>1600000.0</td>\n",
       "    </tr>\n",
       "    <tr>\n",
       "        <td>Video Streaming</td>\n",
       "        <td>None</td>\n",
       "    </tr>\n",
       "    <tr>\n",
       "        <td>Data Analytics</td>\n",
       "        <td>None</td>\n",
       "    </tr>\n",
       "</table>"
      ],
      "text/plain": [
       "[('Health Care', 380490000000.0),\n",
       " ('Enterprise', 38508333333.33),\n",
       " ('Real Estate', 20000000000.0),\n",
       " ('Travel', 12501250000.0),\n",
       " ('Augmented Reality', 8000000000.0),\n",
       " ('Security', 6333333333.33),\n",
       " ('Technology', 3100000000.0),\n",
       " ('Venture Capital', 3000000000.0),\n",
       " ('Education', 2023800000.0),\n",
       " ('Customer Service', 640000000.0),\n",
       " ('SaaS', 401000000.0),\n",
       " ('Gambling', 322000000.0),\n",
       " ('Nanotechnology', 150000000.0),\n",
       " ('Cloud Computing', 95000000.0),\n",
       " ('Social', 82425833.33),\n",
       " ('Logistics', 70000000.0),\n",
       " ('Fitness', 67500000.0),\n",
       " ('E-commerce', 60250000.0),\n",
       " ('Big Data Analytics', 15000000.0),\n",
       " ('Mobile', 9600000.0),\n",
       " ('Algorithms', 7600000.0),\n",
       " (None, 4290000.0),\n",
       " ('Fashion', 3200000.0),\n",
       " ('Virtual Reality', 2150000.0),\n",
       " ('Games', 1600000.0),\n",
       " ('Video Streaming', None),\n",
       " ('Data Analytics', None)]"
      ]
     },
     "execution_count": 18,
     "metadata": {},
     "output_type": "execute_result"
    }
   ],
   "source": [
    "%%sql\n",
    "select category, round(avg(valuation),2) as 'valuation'\n",
    "from startups\n",
    "group by 1\n",
    "order by 2 desc;"
   ]
  },
  {
   "cell_type": "markdown",
   "id": "19fd3723",
   "metadata": {},
   "source": [
    "## What are the most competitive markets?"
   ]
  },
  {
   "cell_type": "markdown",
   "id": "6ecc6ff4",
   "metadata": {},
   "source": [
    "### First, return the name of each category with the total number of companies that belong to it."
   ]
  },
  {
   "cell_type": "code",
   "execution_count": 19,
   "id": "251621a8",
   "metadata": {},
   "outputs": [
    {
     "name": "stdout",
     "output_type": "stream",
     "text": [
      " * sqlite:///jupyter_sql.db\n",
      "Done.\n"
     ]
    },
    {
     "data": {
      "text/html": [
       "<table>\n",
       "    <tr>\n",
       "        <th>category</th>\n",
       "        <th>number of companies</th>\n",
       "    </tr>\n",
       "    <tr>\n",
       "        <td>Social</td>\n",
       "        <td>12</td>\n",
       "    </tr>\n",
       "    <tr>\n",
       "        <td>Mobile</td>\n",
       "        <td>10</td>\n",
       "    </tr>\n",
       "    <tr>\n",
       "        <td>Education</td>\n",
       "        <td>5</td>\n",
       "    </tr>\n",
       "    <tr>\n",
       "        <td>Technology</td>\n",
       "        <td>3</td>\n",
       "    </tr>\n",
       "    <tr>\n",
       "        <td>Security</td>\n",
       "        <td>3</td>\n",
       "    </tr>\n",
       "    <tr>\n",
       "        <td>Fitness</td>\n",
       "        <td>3</td>\n",
       "    </tr>\n",
       "    <tr>\n",
       "        <td>Enterprise</td>\n",
       "        <td>3</td>\n",
       "    </tr>\n",
       "    <tr>\n",
       "        <td>E-commerce</td>\n",
       "        <td>3</td>\n",
       "    </tr>\n",
       "    <tr>\n",
       "        <td>None</td>\n",
       "        <td>3</td>\n",
       "    </tr>\n",
       "    <tr>\n",
       "        <td>Virtual Reality</td>\n",
       "        <td>2</td>\n",
       "    </tr>\n",
       "    <tr>\n",
       "        <td>Travel</td>\n",
       "        <td>2</td>\n",
       "    </tr>\n",
       "    <tr>\n",
       "        <td>SaaS</td>\n",
       "        <td>2</td>\n",
       "    </tr>\n",
       "    <tr>\n",
       "        <td>Health Care</td>\n",
       "        <td>2</td>\n",
       "    </tr>\n",
       "    <tr>\n",
       "        <td>Games</td>\n",
       "        <td>2</td>\n",
       "    </tr>\n",
       "    <tr>\n",
       "        <td>Fashion</td>\n",
       "        <td>2</td>\n",
       "    </tr>\n",
       "    <tr>\n",
       "        <td>Cloud Computing</td>\n",
       "        <td>2</td>\n",
       "    </tr>\n",
       "    <tr>\n",
       "        <td>Video Streaming</td>\n",
       "        <td>1</td>\n",
       "    </tr>\n",
       "    <tr>\n",
       "        <td>Venture Capital</td>\n",
       "        <td>1</td>\n",
       "    </tr>\n",
       "    <tr>\n",
       "        <td>Real Estate</td>\n",
       "        <td>1</td>\n",
       "    </tr>\n",
       "    <tr>\n",
       "        <td>Nanotechnology</td>\n",
       "        <td>1</td>\n",
       "    </tr>\n",
       "    <tr>\n",
       "        <td>Logistics</td>\n",
       "        <td>1</td>\n",
       "    </tr>\n",
       "    <tr>\n",
       "        <td>Gambling</td>\n",
       "        <td>1</td>\n",
       "    </tr>\n",
       "    <tr>\n",
       "        <td>Data Analytics</td>\n",
       "        <td>1</td>\n",
       "    </tr>\n",
       "    <tr>\n",
       "        <td>Customer Service</td>\n",
       "        <td>1</td>\n",
       "    </tr>\n",
       "    <tr>\n",
       "        <td>Big Data Analytics</td>\n",
       "        <td>1</td>\n",
       "    </tr>\n",
       "    <tr>\n",
       "        <td>Augmented Reality</td>\n",
       "        <td>1</td>\n",
       "    </tr>\n",
       "    <tr>\n",
       "        <td>Algorithms</td>\n",
       "        <td>1</td>\n",
       "    </tr>\n",
       "</table>"
      ],
      "text/plain": [
       "[('Social', 12),\n",
       " ('Mobile', 10),\n",
       " ('Education', 5),\n",
       " ('Technology', 3),\n",
       " ('Security', 3),\n",
       " ('Fitness', 3),\n",
       " ('Enterprise', 3),\n",
       " ('E-commerce', 3),\n",
       " (None, 3),\n",
       " ('Virtual Reality', 2),\n",
       " ('Travel', 2),\n",
       " ('SaaS', 2),\n",
       " ('Health Care', 2),\n",
       " ('Games', 2),\n",
       " ('Fashion', 2),\n",
       " ('Cloud Computing', 2),\n",
       " ('Video Streaming', 1),\n",
       " ('Venture Capital', 1),\n",
       " ('Real Estate', 1),\n",
       " ('Nanotechnology', 1),\n",
       " ('Logistics', 1),\n",
       " ('Gambling', 1),\n",
       " ('Data Analytics', 1),\n",
       " ('Customer Service', 1),\n",
       " ('Big Data Analytics', 1),\n",
       " ('Augmented Reality', 1),\n",
       " ('Algorithms', 1)]"
      ]
     },
     "execution_count": 19,
     "metadata": {},
     "output_type": "execute_result"
    }
   ],
   "source": [
    "%%sql\n",
    "select category, count(*) as 'number of companies'\n",
    "from startups\n",
    "group by 1\n",
    "order by 2 desc;"
   ]
  },
  {
   "cell_type": "markdown",
   "id": "6a4a2b7f",
   "metadata": {},
   "source": [
    "### Next, filter the result to only include categories that have more than three companies in them. What are the most competitive markets?"
   ]
  },
  {
   "cell_type": "code",
   "execution_count": 20,
   "id": "46e38a2a",
   "metadata": {},
   "outputs": [
    {
     "name": "stdout",
     "output_type": "stream",
     "text": [
      " * sqlite:///jupyter_sql.db\n",
      "Done.\n"
     ]
    },
    {
     "data": {
      "text/html": [
       "<table>\n",
       "    <tr>\n",
       "        <th>category</th>\n",
       "        <th>number of companies</th>\n",
       "    </tr>\n",
       "    <tr>\n",
       "        <td>Social</td>\n",
       "        <td>12</td>\n",
       "    </tr>\n",
       "    <tr>\n",
       "        <td>Mobile</td>\n",
       "        <td>10</td>\n",
       "    </tr>\n",
       "    <tr>\n",
       "        <td>Education</td>\n",
       "        <td>5</td>\n",
       "    </tr>\n",
       "    <tr>\n",
       "        <td>Technology</td>\n",
       "        <td>3</td>\n",
       "    </tr>\n",
       "    <tr>\n",
       "        <td>Security</td>\n",
       "        <td>3</td>\n",
       "    </tr>\n",
       "    <tr>\n",
       "        <td>Fitness</td>\n",
       "        <td>3</td>\n",
       "    </tr>\n",
       "    <tr>\n",
       "        <td>Enterprise</td>\n",
       "        <td>3</td>\n",
       "    </tr>\n",
       "    <tr>\n",
       "        <td>E-commerce</td>\n",
       "        <td>3</td>\n",
       "    </tr>\n",
       "    <tr>\n",
       "        <td>None</td>\n",
       "        <td>3</td>\n",
       "    </tr>\n",
       "</table>"
      ],
      "text/plain": [
       "[('Social', 12),\n",
       " ('Mobile', 10),\n",
       " ('Education', 5),\n",
       " ('Technology', 3),\n",
       " ('Security', 3),\n",
       " ('Fitness', 3),\n",
       " ('Enterprise', 3),\n",
       " ('E-commerce', 3),\n",
       " (None, 3)]"
      ]
     },
     "execution_count": 20,
     "metadata": {},
     "output_type": "execute_result"
    }
   ],
   "source": [
    "%%sql\n",
    "select category, count(*) as 'number of companies'\n",
    "from startups\n",
    "group by 1\n",
    "having count(*) >= 3\n",
    "order by 2 desc;"
   ]
  },
  {
   "cell_type": "markdown",
   "id": "4c245e6d",
   "metadata": {},
   "source": [
    "The most competitive markets are Social, Mobile, Education, Technology, Security, Fitness, Enterprise, E-commerce, and None."
   ]
  },
  {
   "cell_type": "markdown",
   "id": "98e93436",
   "metadata": {},
   "source": [
    "## Let's see if there's a difference in startups sizes among different locations:"
   ]
  },
  {
   "cell_type": "markdown",
   "id": "e0916156",
   "metadata": {},
   "source": [
    "### What is the average size of a startup in each location?"
   ]
  },
  {
   "cell_type": "code",
   "execution_count": 22,
   "id": "452199c4",
   "metadata": {},
   "outputs": [
    {
     "name": "stdout",
     "output_type": "stream",
     "text": [
      " * sqlite:///jupyter_sql.db\n",
      "Done.\n"
     ]
    },
    {
     "data": {
      "text/html": [
       "<table>\n",
       "    <tr>\n",
       "        <th>location</th>\n",
       "        <th>startup size</th>\n",
       "    </tr>\n",
       "    <tr>\n",
       "        <td>San Francisco</td>\n",
       "        <td>1920.4</td>\n",
       "    </tr>\n",
       "    <tr>\n",
       "        <td>Silicon Valley</td>\n",
       "        <td>1804.6</td>\n",
       "    </tr>\n",
       "    <tr>\n",
       "        <td>New York</td>\n",
       "        <td>702.75</td>\n",
       "    </tr>\n",
       "    <tr>\n",
       "        <td>Brooklyn</td>\n",
       "        <td>502.6666666666667</td>\n",
       "    </tr>\n",
       "    <tr>\n",
       "        <td>Fort Lauderdale</td>\n",
       "        <td>500.0</td>\n",
       "    </tr>\n",
       "    <tr>\n",
       "        <td>New Delhi</td>\n",
       "        <td>250.0</td>\n",
       "    </tr>\n",
       "    <tr>\n",
       "        <td>Palo Alto</td>\n",
       "        <td>125.83333333333333</td>\n",
       "    </tr>\n",
       "    <tr>\n",
       "        <td>Omaha</td>\n",
       "        <td>65.0</td>\n",
       "    </tr>\n",
       "    <tr>\n",
       "        <td>Paris</td>\n",
       "        <td>30.0</td>\n",
       "    </tr>\n",
       "    <tr>\n",
       "        <td>Minneapolis</td>\n",
       "        <td>20.0</td>\n",
       "    </tr>\n",
       "    <tr>\n",
       "        <td>Virginia Beach</td>\n",
       "        <td>15.0</td>\n",
       "    </tr>\n",
       "    <tr>\n",
       "        <td>Denver</td>\n",
       "        <td>12.0</td>\n",
       "    </tr>\n",
       "    <tr>\n",
       "        <td>Chicago</td>\n",
       "        <td>12.0</td>\n",
       "    </tr>\n",
       "    <tr>\n",
       "        <td>Seattle</td>\n",
       "        <td>9.666666666666666</td>\n",
       "    </tr>\n",
       "    <tr>\n",
       "        <td>Washington DC</td>\n",
       "        <td>8.0</td>\n",
       "    </tr>\n",
       "    <tr>\n",
       "        <td>Los Angeles</td>\n",
       "        <td>6.833333333333333</td>\n",
       "    </tr>\n",
       "    <tr>\n",
       "        <td>Scranton</td>\n",
       "        <td>6.0</td>\n",
       "    </tr>\n",
       "    <tr>\n",
       "        <td>Savannah</td>\n",
       "        <td>6.0</td>\n",
       "    </tr>\n",
       "    <tr>\n",
       "        <td>Long Island</td>\n",
       "        <td>5.0</td>\n",
       "    </tr>\n",
       "    <tr>\n",
       "        <td>Boulder</td>\n",
       "        <td>3.0</td>\n",
       "    </tr>\n",
       "    <tr>\n",
       "        <td>Atlanta</td>\n",
       "        <td>3.0</td>\n",
       "    </tr>\n",
       "    <tr>\n",
       "        <td>Irvine</td>\n",
       "        <td>2.0</td>\n",
       "    </tr>\n",
       "    <tr>\n",
       "        <td>Columbus</td>\n",
       "        <td>2.0</td>\n",
       "    </tr>\n",
       "</table>"
      ],
      "text/plain": [
       "[('San Francisco', 1920.4),\n",
       " ('Silicon Valley', 1804.6),\n",
       " ('New York', 702.75),\n",
       " ('Brooklyn', 502.6666666666667),\n",
       " ('Fort Lauderdale', 500.0),\n",
       " ('New Delhi', 250.0),\n",
       " ('Palo Alto', 125.83333333333333),\n",
       " ('Omaha', 65.0),\n",
       " ('Paris', 30.0),\n",
       " ('Minneapolis', 20.0),\n",
       " ('Virginia Beach', 15.0),\n",
       " ('Denver', 12.0),\n",
       " ('Chicago', 12.0),\n",
       " ('Seattle', 9.666666666666666),\n",
       " ('Washington DC', 8.0),\n",
       " ('Los Angeles', 6.833333333333333),\n",
       " ('Scranton', 6.0),\n",
       " ('Savannah', 6.0),\n",
       " ('Long Island', 5.0),\n",
       " ('Boulder', 3.0),\n",
       " ('Atlanta', 3.0),\n",
       " ('Irvine', 2.0),\n",
       " ('Columbus', 2.0)]"
      ]
     },
     "execution_count": 22,
     "metadata": {},
     "output_type": "execute_result"
    }
   ],
   "source": [
    "%%sql\n",
    "select location, avg(employees) as 'startup size'\n",
    "from startups \n",
    "group by 1\n",
    "order by avg(employees) desc;"
   ]
  },
  {
   "cell_type": "markdown",
   "id": "18933c76",
   "metadata": {},
   "source": [
    "It is seems like there is a big difference "
   ]
  },
  {
   "cell_type": "markdown",
   "id": "61d6ccea",
   "metadata": {},
   "source": [
    "### What is the average size of a startup in each location, with average sizes above 500?"
   ]
  },
  {
   "cell_type": "code",
   "execution_count": 23,
   "id": "81296ac3",
   "metadata": {},
   "outputs": [
    {
     "name": "stdout",
     "output_type": "stream",
     "text": [
      " * sqlite:///jupyter_sql.db\n",
      "Done.\n"
     ]
    },
    {
     "data": {
      "text/html": [
       "<table>\n",
       "    <tr>\n",
       "        <th>location</th>\n",
       "        <th>startup size</th>\n",
       "    </tr>\n",
       "    <tr>\n",
       "        <td>San Francisco</td>\n",
       "        <td>1920.4</td>\n",
       "    </tr>\n",
       "    <tr>\n",
       "        <td>Silicon Valley</td>\n",
       "        <td>1804.6</td>\n",
       "    </tr>\n",
       "    <tr>\n",
       "        <td>New York</td>\n",
       "        <td>702.75</td>\n",
       "    </tr>\n",
       "    <tr>\n",
       "        <td>Brooklyn</td>\n",
       "        <td>502.6666666666667</td>\n",
       "    </tr>\n",
       "</table>"
      ],
      "text/plain": [
       "[('San Francisco', 1920.4),\n",
       " ('Silicon Valley', 1804.6),\n",
       " ('New York', 702.75),\n",
       " ('Brooklyn', 502.6666666666667)]"
      ]
     },
     "execution_count": 23,
     "metadata": {},
     "output_type": "execute_result"
    }
   ],
   "source": [
    "%%sql\n",
    "select location, avg(employees) as 'startup size'\n",
    "from startups \n",
    "group by 1\n",
    "having avg(employees) > 500 \n",
    "order by avg(employees) desc;"
   ]
  },
  {
   "cell_type": "code",
   "execution_count": null,
   "id": "d105521a",
   "metadata": {},
   "outputs": [],
   "source": []
  }
 ],
 "metadata": {
  "kernelspec": {
   "display_name": "Python 3",
   "language": "python",
   "name": "python3"
  },
  "language_info": {
   "codemirror_mode": {
    "name": "ipython",
    "version": 3
   },
   "file_extension": ".py",
   "mimetype": "text/x-python",
   "name": "python",
   "nbconvert_exporter": "python",
   "pygments_lexer": "ipython3",
   "version": "3.8.8"
  },
  "toc": {
   "base_numbering": 1,
   "nav_menu": {},
   "number_sections": true,
   "sideBar": true,
   "skip_h1_title": false,
   "title_cell": "Table of Contents",
   "title_sidebar": "Contents",
   "toc_cell": false,
   "toc_position": {},
   "toc_section_display": true,
   "toc_window_display": true
  },
  "varInspector": {
   "cols": {
    "lenName": 16,
    "lenType": 16,
    "lenVar": 40
   },
   "kernels_config": {
    "python": {
     "delete_cmd_postfix": "",
     "delete_cmd_prefix": "del ",
     "library": "var_list.py",
     "varRefreshCmd": "print(var_dic_list())"
    },
    "r": {
     "delete_cmd_postfix": ") ",
     "delete_cmd_prefix": "rm(",
     "library": "var_list.r",
     "varRefreshCmd": "cat(var_dic_list()) "
    }
   },
   "types_to_exclude": [
    "module",
    "function",
    "builtin_function_or_method",
    "instance",
    "_Feature"
   ],
   "window_display": false
  }
 },
 "nbformat": 4,
 "nbformat_minor": 5
}
