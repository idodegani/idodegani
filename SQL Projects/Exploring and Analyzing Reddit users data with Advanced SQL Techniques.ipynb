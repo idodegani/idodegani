{
 "cells": [
  {
   "cell_type": "markdown",
   "id": "8114af0a",
   "metadata": {},
   "source": [
    "In this code, I import four csv files (posts, posts2, users, and subreddits) into a SQLite database and perform several advanced SQL queries to gather information from the data. I used the pandas library to read in the csv files and the sqlite3 library to connect to the database.\n",
    "\n",
    "Some of the advanced SQL skills I used include:\n",
    "\n",
    "* Using LEFT JOIN to combine data from multiple tables\n",
    "* Using GROUP BY and HAVING to aggregate data\n",
    "* Using ORDER BY to sort data\n",
    "* Using LIMIT to limit the number of rows returned\n",
    "* Using MAX() to find the maximum value of a column.\n",
    " \n",
    " \n",
    "#### The queries I wrote allowed me to answer questions such as:\n",
    " \n",
    " \n",
    "* Which user has the highest score?\n",
    "* What post has the highest score?\n",
    "* What are the top 5 subreddits with the highest subscriber count?\n",
    "* How many posts have each user made?"
   ]
  },
  {
   "cell_type": "markdown",
   "id": "3f5b02a0",
   "metadata": {
    "heading_collapsed": true
   },
   "source": [
    "## Setup"
   ]
  },
  {
   "cell_type": "code",
   "execution_count": 2,
   "id": "074a9fcc",
   "metadata": {
    "hidden": true
   },
   "outputs": [],
   "source": [
    "import pandas as pd "
   ]
  },
  {
   "cell_type": "code",
   "execution_count": 3,
   "id": "70cb1128",
   "metadata": {
    "hidden": true
   },
   "outputs": [],
   "source": [
    "import sqlite3"
   ]
  },
  {
   "cell_type": "code",
   "execution_count": 4,
   "id": "448817ba",
   "metadata": {
    "hidden": true
   },
   "outputs": [],
   "source": [
    "df_posts = pd.read_csv(\"posts.csv\")"
   ]
  },
  {
   "cell_type": "code",
   "execution_count": 5,
   "id": "bbc27713",
   "metadata": {
    "hidden": true
   },
   "outputs": [],
   "source": [
    "df_posts2 = pd.read_csv(\"posts2.csv\")"
   ]
  },
  {
   "cell_type": "code",
   "execution_count": 6,
   "id": "8f4b8328",
   "metadata": {
    "hidden": true
   },
   "outputs": [],
   "source": [
    "df_users = pd.read_csv(\"users.csv\")"
   ]
  },
  {
   "cell_type": "code",
   "execution_count": 7,
   "id": "d37de82c",
   "metadata": {
    "hidden": true
   },
   "outputs": [],
   "source": [
    "df_subreddits = pd.read_csv(\"subreddits.csv\")"
   ]
  },
  {
   "cell_type": "code",
   "execution_count": 8,
   "id": "0b4b9f36",
   "metadata": {
    "hidden": true
   },
   "outputs": [],
   "source": [
    "cnn = sqlite3.connect('jupyter_sql.db')"
   ]
  },
  {
   "cell_type": "code",
   "execution_count": 9,
   "id": "ce124e50",
   "metadata": {
    "hidden": true
   },
   "outputs": [],
   "source": [
    "df_posts.to_sql('posts',cnn, if_exists='replace')\n",
    "df_posts2.to_sql('posts2',cnn, if_exists='replace')\n",
    "df_users.to_sql('users',cnn, if_exists='replace')\n",
    "df_subreddits.to_sql('subreddits',cnn, if_exists='replace')"
   ]
  },
  {
   "cell_type": "code",
   "execution_count": 10,
   "id": "1162f077",
   "metadata": {
    "hidden": true
   },
   "outputs": [],
   "source": [
    "%load_ext sql"
   ]
  },
  {
   "cell_type": "code",
   "execution_count": 11,
   "id": "f3ac147e",
   "metadata": {
    "hidden": true
   },
   "outputs": [],
   "source": [
    "%sql sqlite:///jupyter_sql.db"
   ]
  },
  {
   "cell_type": "code",
   "execution_count": 12,
   "id": "4e26125f",
   "metadata": {
    "hidden": true
   },
   "outputs": [
    {
     "name": "stdout",
     "output_type": "stream",
     "text": [
      " * sqlite:///jupyter_sql.db\n",
      "Done.\n"
     ]
    },
    {
     "data": {
      "text/html": [
       "<table>\n",
       "    <tr>\n",
       "        <th>index</th>\n",
       "        <th>id</th>\n",
       "        <th>username</th>\n",
       "        <th>email</th>\n",
       "        <th>join_date</th>\n",
       "        <th>score</th>\n",
       "    </tr>\n",
       "    <tr>\n",
       "        <td>0</td>\n",
       "        <td>1</td>\n",
       "        <td>sonnynomnom</td>\n",
       "        <td>mbosence0@ycombinator.com</td>\n",
       "        <td>14/05/2008</td>\n",
       "        <td>185713.0</td>\n",
       "    </tr>\n",
       "    <tr>\n",
       "        <td>1</td>\n",
       "        <td>2</td>\n",
       "        <td>coler1</td>\n",
       "        <td>kmonkhouse1@indiatimes.com</td>\n",
       "        <td>11/12/2011</td>\n",
       "        <td>136965.0</td>\n",
       "    </tr>\n",
       "    <tr>\n",
       "        <td>2</td>\n",
       "        <td>3</td>\n",
       "        <td>lauracle</td>\n",
       "        <td>rkilfether2@independent.co.uk</td>\n",
       "        <td>14/05/2011</td>\n",
       "        <td>277721.0</td>\n",
       "    </tr>\n",
       "    <tr>\n",
       "        <td>3</td>\n",
       "        <td>4</td>\n",
       "        <td>kassablanca</td>\n",
       "        <td>trigard3@stanford.edu</td>\n",
       "        <td>30/10/2006</td>\n",
       "        <td>143478.0</td>\n",
       "    </tr>\n",
       "    <tr>\n",
       "        <td>4</td>\n",
       "        <td>5</td>\n",
       "        <td>yakovkagan</td>\n",
       "        <td>treggio4@sciencedirect.com</td>\n",
       "        <td>06/06/2009</td>\n",
       "        <td>242023.0</td>\n",
       "    </tr>\n",
       "</table>"
      ],
      "text/plain": [
       "[(0, 1, 'sonnynomnom', 'mbosence0@ycombinator.com', '14/05/2008', 185713.0),\n",
       " (1, 2, 'coler1', 'kmonkhouse1@indiatimes.com', '11/12/2011', 136965.0),\n",
       " (2, 3, 'lauracle', 'rkilfether2@independent.co.uk', '14/05/2011', 277721.0),\n",
       " (3, 4, 'kassablanca', 'trigard3@stanford.edu', '30/10/2006', 143478.0),\n",
       " (4, 5, 'yakovkagan', 'treggio4@sciencedirect.com', '06/06/2009', 242023.0)]"
      ]
     },
     "execution_count": 12,
     "metadata": {},
     "output_type": "execute_result"
    }
   ],
   "source": [
    "%%sql \n",
    "\n",
    "SELECT * \n",
    "FROM users\n",
    "LIMIT 5;\n",
    " "
   ]
  },
  {
   "cell_type": "code",
   "execution_count": 13,
   "id": "772e3e2b",
   "metadata": {
    "hidden": true
   },
   "outputs": [
    {
     "name": "stdout",
     "output_type": "stream",
     "text": [
      " * sqlite:///jupyter_sql.db\n",
      "Done.\n"
     ]
    },
    {
     "data": {
      "text/html": [
       "<table>\n",
       "    <tr>\n",
       "        <th>index</th>\n",
       "        <th>id</th>\n",
       "        <th>title</th>\n",
       "        <th>user_id</th>\n",
       "        <th>subreddit_id</th>\n",
       "        <th>score</th>\n",
       "        <th>created_date</th>\n",
       "    </tr>\n",
       "    <tr>\n",
       "        <td>0</td>\n",
       "        <td>1</td>\n",
       "        <td>Delivery drones are being attacked by hawks</td>\n",
       "        <td>89.0</td>\n",
       "        <td>15.0</td>\n",
       "        <td>40070.0</td>\n",
       "        <td>21/10/2015</td>\n",
       "    </tr>\n",
       "    <tr>\n",
       "        <td>1</td>\n",
       "        <td>2</td>\n",
       "        <td>What is the best programming language to learn in 2020?</td>\n",
       "        <td>90.0</td>\n",
       "        <td>1.0</td>\n",
       "        <td>9746.0</td>\n",
       "        <td>03/02/2013</td>\n",
       "    </tr>\n",
       "    <tr>\n",
       "        <td>2</td>\n",
       "        <td>3</td>\n",
       "        <td>First picture of a black hole has been taken</td>\n",
       "        <td>91.0</td>\n",
       "        <td>2.0</td>\n",
       "        <td>7367.0</td>\n",
       "        <td>27/11/2013</td>\n",
       "    </tr>\n",
       "    <tr>\n",
       "        <td>3</td>\n",
       "        <td>4</td>\n",
       "        <td>Scientists develop waterproof shoes</td>\n",
       "        <td>27.0</td>\n",
       "        <td>15.0</td>\n",
       "        <td>38476.0</td>\n",
       "        <td>29/12/2012</td>\n",
       "    </tr>\n",
       "    <tr>\n",
       "        <td>4</td>\n",
       "        <td>5</td>\n",
       "        <td>Running DOOM on a toaster</td>\n",
       "        <td>86.0</td>\n",
       "        <td>1.0</td>\n",
       "        <td>143728.0</td>\n",
       "        <td>22/10/2016</td>\n",
       "    </tr>\n",
       "</table>"
      ],
      "text/plain": [
       "[(0, 1, 'Delivery drones are being attacked by hawks', 89.0, 15.0, 40070.0, '21/10/2015'),\n",
       " (1, 2, 'What is the best programming language to learn in 2020?', 90.0, 1.0, 9746.0, '03/02/2013'),\n",
       " (2, 3, 'First picture of a black hole has been taken', 91.0, 2.0, 7367.0, '27/11/2013'),\n",
       " (3, 4, 'Scientists develop waterproof shoes', 27.0, 15.0, 38476.0, '29/12/2012'),\n",
       " (4, 5, 'Running DOOM on a toaster', 86.0, 1.0, 143728.0, '22/10/2016')]"
      ]
     },
     "execution_count": 13,
     "metadata": {},
     "output_type": "execute_result"
    }
   ],
   "source": [
    "%%sql\n",
    "\n",
    "SELECT * \n",
    "FROM posts\n",
    "LIMIT 5;\n"
   ]
  },
  {
   "cell_type": "code",
   "execution_count": 14,
   "id": "c8bb4159",
   "metadata": {
    "hidden": true
   },
   "outputs": [
    {
     "name": "stdout",
     "output_type": "stream",
     "text": [
      " * sqlite:///jupyter_sql.db\n",
      "Done.\n"
     ]
    },
    {
     "data": {
      "text/html": [
       "<table>\n",
       "    <tr>\n",
       "        <th>index</th>\n",
       "        <th>id</th>\n",
       "        <th>name</th>\n",
       "        <th>created_date</th>\n",
       "        <th>subscriber_count</th>\n",
       "    </tr>\n",
       "    <tr>\n",
       "        <td>0</td>\n",
       "        <td>1</td>\n",
       "        <td>programming</td>\n",
       "        <td>28/02/2006</td>\n",
       "        <td>2717072</td>\n",
       "    </tr>\n",
       "    <tr>\n",
       "        <td>1</td>\n",
       "        <td>2</td>\n",
       "        <td>science</td>\n",
       "        <td>18/10/2006</td>\n",
       "        <td>24543061</td>\n",
       "    </tr>\n",
       "    <tr>\n",
       "        <td>2</td>\n",
       "        <td>3</td>\n",
       "        <td>funny</td>\n",
       "        <td>25/01/2008</td>\n",
       "        <td>14926599</td>\n",
       "    </tr>\n",
       "    <tr>\n",
       "        <td>3</td>\n",
       "        <td>4</td>\n",
       "        <td>gaming</td>\n",
       "        <td>25/01/2008</td>\n",
       "        <td>27061546</td>\n",
       "    </tr>\n",
       "    <tr>\n",
       "        <td>4</td>\n",
       "        <td>5</td>\n",
       "        <td>pics</td>\n",
       "        <td>25/01/2008</td>\n",
       "        <td>25239687</td>\n",
       "    </tr>\n",
       "</table>"
      ],
      "text/plain": [
       "[(0, 1, 'programming', '28/02/2006', 2717072),\n",
       " (1, 2, 'science', '18/10/2006', 24543061),\n",
       " (2, 3, 'funny', '25/01/2008', 14926599),\n",
       " (3, 4, 'gaming', '25/01/2008', 27061546),\n",
       " (4, 5, 'pics', '25/01/2008', 25239687)]"
      ]
     },
     "execution_count": 14,
     "metadata": {},
     "output_type": "execute_result"
    }
   ],
   "source": [
    "%%sql\n",
    "\n",
    "\n",
    "SELECT * \n",
    "FROM subreddits\n",
    "LIMIT 5;"
   ]
  },
  {
   "cell_type": "markdown",
   "id": "9d40094e",
   "metadata": {
    "hidden": true
   },
   "source": [
    "### information about the data:\n",
    "\n",
    "users: users data\n",
    "\n",
    "posts: posts information\n",
    "\n",
    "subreddits: information about subreddits"
   ]
  },
  {
   "cell_type": "markdown",
   "id": "7d8d09c4",
   "metadata": {},
   "source": [
    "# Starting the code"
   ]
  },
  {
   "cell_type": "markdown",
   "id": "5cfed561",
   "metadata": {},
   "source": [
    "### Write a query to count how many different subreddits there are."
   ]
  },
  {
   "cell_type": "code",
   "execution_count": 15,
   "id": "0aca5bf2",
   "metadata": {},
   "outputs": [
    {
     "name": "stdout",
     "output_type": "stream",
     "text": [
      " * sqlite:///jupyter_sql.db\n",
      "Done.\n"
     ]
    },
    {
     "data": {
      "text/html": [
       "<table>\n",
       "    <tr>\n",
       "        <th>count(*)</th>\n",
       "    </tr>\n",
       "    <tr>\n",
       "        <td>20</td>\n",
       "    </tr>\n",
       "</table>"
      ],
      "text/plain": [
       "[(20,)]"
      ]
     },
     "execution_count": 15,
     "metadata": {},
     "output_type": "execute_result"
    }
   ],
   "source": [
    "%%sql\n",
    "select count(*)\n",
    "from subreddits"
   ]
  },
  {
   "cell_type": "markdown",
   "id": "b668c409",
   "metadata": {},
   "source": [
    "### Write a few more queries to figure out the following information:\n",
    "\n",
    "* What user has the highest score?"
   ]
  },
  {
   "cell_type": "code",
   "execution_count": 16,
   "id": "499489a9",
   "metadata": {},
   "outputs": [
    {
     "name": "stdout",
     "output_type": "stream",
     "text": [
      " * sqlite:///jupyter_sql.db\n",
      "Done.\n"
     ]
    },
    {
     "data": {
      "text/html": [
       "<table>\n",
       "    <tr>\n",
       "        <th>username</th>\n",
       "        <th>max(score)</th>\n",
       "    </tr>\n",
       "    <tr>\n",
       "        <td>ctills1w</td>\n",
       "        <td>300895.0</td>\n",
       "    </tr>\n",
       "</table>"
      ],
      "text/plain": [
       "[('ctills1w', 300895.0)]"
      ]
     },
     "execution_count": 16,
     "metadata": {},
     "output_type": "execute_result"
    }
   ],
   "source": [
    "%%sql\n",
    "select username, max(score)\n",
    "from users;"
   ]
  },
  {
   "cell_type": "markdown",
   "id": "c492b798",
   "metadata": {},
   "source": [
    "* What post has the highest score?"
   ]
  },
  {
   "cell_type": "code",
   "execution_count": 17,
   "id": "49490c08",
   "metadata": {},
   "outputs": [
    {
     "name": "stdout",
     "output_type": "stream",
     "text": [
      " * sqlite:///jupyter_sql.db\n",
      "Done.\n"
     ]
    },
    {
     "data": {
      "text/html": [
       "<table>\n",
       "    <tr>\n",
       "        <th>title</th>\n",
       "        <th>max(score)</th>\n",
       "    </tr>\n",
       "    <tr>\n",
       "        <td>Picture of a kitten</td>\n",
       "        <td>149176.0</td>\n",
       "    </tr>\n",
       "</table>"
      ],
      "text/plain": [
       "[('Picture of a kitten', 149176.0)]"
      ]
     },
     "execution_count": 17,
     "metadata": {},
     "output_type": "execute_result"
    }
   ],
   "source": [
    "%%sql\n",
    "select title, max(score)\n",
    "from posts;"
   ]
  },
  {
   "cell_type": "markdown",
   "id": "c04905d7",
   "metadata": {},
   "source": [
    "* What are the top 5 subreddits with the highest subscriber_count?"
   ]
  },
  {
   "cell_type": "code",
   "execution_count": 18,
   "id": "8e860edb",
   "metadata": {},
   "outputs": [
    {
     "name": "stdout",
     "output_type": "stream",
     "text": [
      " * sqlite:///jupyter_sql.db\n",
      "Done.\n"
     ]
    },
    {
     "data": {
      "text/html": [
       "<table>\n",
       "    <tr>\n",
       "        <th>name</th>\n",
       "        <th>subscriber_count</th>\n",
       "    </tr>\n",
       "    <tr>\n",
       "        <td>AskReddit</td>\n",
       "        <td>28837356</td>\n",
       "    </tr>\n",
       "    <tr>\n",
       "        <td>gaming</td>\n",
       "        <td>27061546</td>\n",
       "    </tr>\n",
       "    <tr>\n",
       "        <td>aww</td>\n",
       "        <td>25653577</td>\n",
       "    </tr>\n",
       "    <tr>\n",
       "        <td>pics</td>\n",
       "        <td>25239687</td>\n",
       "    </tr>\n",
       "    <tr>\n",
       "        <td>science</td>\n",
       "        <td>24543061</td>\n",
       "    </tr>\n",
       "</table>"
      ],
      "text/plain": [
       "[('AskReddit', 28837356),\n",
       " ('gaming', 27061546),\n",
       " ('aww', 25653577),\n",
       " ('pics', 25239687),\n",
       " ('science', 24543061)]"
      ]
     },
     "execution_count": 18,
     "metadata": {},
     "output_type": "execute_result"
    }
   ],
   "source": [
    "%%sql\n",
    "select name, subscriber_count\n",
    "from subreddits\n",
    "order by 2 desc\n",
    "limit 5;"
   ]
  },
  {
   "cell_type": "markdown",
   "id": "cffbd661",
   "metadata": {},
   "source": [
    "Now let’s join the data from the different tables to find out some more information.\n",
    "\n",
    "Use a LEFT JOIN with the users and posts tables to find out how many posts each user has made. Have the users table as the left table and order the data by the number of posts in descending order."
   ]
  },
  {
   "cell_type": "code",
   "execution_count": 26,
   "id": "b37a5470",
   "metadata": {},
   "outputs": [
    {
     "name": "stdout",
     "output_type": "stream",
     "text": [
      " * sqlite:///jupyter_sql.db\n",
      "Done.\n"
     ]
    },
    {
     "data": {
      "text/html": [
       "<table>\n",
       "    <tr>\n",
       "        <th>username</th>\n",
       "        <th>Number of posts</th>\n",
       "    </tr>\n",
       "    <tr>\n",
       "        <td>nwealthall1t</td>\n",
       "        <td>7</td>\n",
       "    </tr>\n",
       "    <tr>\n",
       "        <td>lbenedetti2o</td>\n",
       "        <td>6</td>\n",
       "    </tr>\n",
       "    <tr>\n",
       "        <td>dsheaj</td>\n",
       "        <td>6</td>\n",
       "    </tr>\n",
       "    <tr>\n",
       "        <td>hassandri2d</td>\n",
       "        <td>5</td>\n",
       "    </tr>\n",
       "    <tr>\n",
       "        <td>jotaki</td>\n",
       "        <td>5</td>\n",
       "    </tr>\n",
       "    <tr>\n",
       "        <td>jreamesw</td>\n",
       "        <td>5</td>\n",
       "    </tr>\n",
       "    <tr>\n",
       "        <td>ldeshonq</td>\n",
       "        <td>5</td>\n",
       "    </tr>\n",
       "    <tr>\n",
       "        <td>dcarette2p</td>\n",
       "        <td>4</td>\n",
       "    </tr>\n",
       "    <tr>\n",
       "        <td>cambrozewicz2k</td>\n",
       "        <td>4</td>\n",
       "    </tr>\n",
       "    <tr>\n",
       "        <td>laskin2g</td>\n",
       "        <td>4</td>\n",
       "    </tr>\n",
       "</table>"
      ],
      "text/plain": [
       "[('nwealthall1t', 7),\n",
       " ('lbenedetti2o', 6),\n",
       " ('dsheaj', 6),\n",
       " ('hassandri2d', 5),\n",
       " ('jotaki', 5),\n",
       " ('jreamesw', 5),\n",
       " ('ldeshonq', 5),\n",
       " ('dcarette2p', 4),\n",
       " ('cambrozewicz2k', 4),\n",
       " ('laskin2g', 4)]"
      ]
     },
     "execution_count": 26,
     "metadata": {},
     "output_type": "execute_result"
    }
   ],
   "source": [
    "%%sql\n",
    "select username, count(*) as 'Number of posts'\n",
    "from users\n",
    "left join posts\n",
    "on users.id = posts.user_id\n",
    "group by users.id\n",
    "order by count(*) desc\n",
    "limit 10;"
   ]
  },
  {
   "cell_type": "markdown",
   "id": "0303424e",
   "metadata": {},
   "source": [
    "Over time, posts may be removed and users might delete their accounts.\n",
    "\n",
    "We only want to see existing posts where the users are still active, so use an INNER JOIN to write a query to get these posts. Have the posts table as the left table."
   ]
  },
  {
   "cell_type": "code",
   "execution_count": 29,
   "id": "9426f811",
   "metadata": {},
   "outputs": [
    {
     "name": "stdout",
     "output_type": "stream",
     "text": [
      " * sqlite:///jupyter_sql.db\n",
      "Done.\n"
     ]
    },
    {
     "data": {
      "text/html": [
       "<table>\n",
       "    <tr>\n",
       "        <th>index</th>\n",
       "        <th>id</th>\n",
       "        <th>title</th>\n",
       "        <th>user_id</th>\n",
       "        <th>subreddit_id</th>\n",
       "        <th>score</th>\n",
       "        <th>created_date</th>\n",
       "        <th>index_1</th>\n",
       "        <th>id_1</th>\n",
       "        <th>username</th>\n",
       "        <th>email</th>\n",
       "        <th>join_date</th>\n",
       "        <th>score_1</th>\n",
       "    </tr>\n",
       "    <tr>\n",
       "        <td>0</td>\n",
       "        <td>1</td>\n",
       "        <td>Delivery drones are being attacked by hawks</td>\n",
       "        <td>89.0</td>\n",
       "        <td>15.0</td>\n",
       "        <td>40070.0</td>\n",
       "        <td>21/10/2015</td>\n",
       "        <td>88</td>\n",
       "        <td>89</td>\n",
       "        <td>laskin2g</td>\n",
       "        <td>mmarley2g@deviantart.com</td>\n",
       "        <td>25/07/2011</td>\n",
       "        <td>268026.0</td>\n",
       "    </tr>\n",
       "    <tr>\n",
       "        <td>1</td>\n",
       "        <td>2</td>\n",
       "        <td>What is the best programming language to learn in 2020?</td>\n",
       "        <td>90.0</td>\n",
       "        <td>1.0</td>\n",
       "        <td>9746.0</td>\n",
       "        <td>03/02/2013</td>\n",
       "        <td>89</td>\n",
       "        <td>90</td>\n",
       "        <td>sciementini2h</td>\n",
       "        <td>lcrenshaw2h@issuu.com</td>\n",
       "        <td>09/04/2008</td>\n",
       "        <td>294170.0</td>\n",
       "    </tr>\n",
       "    <tr>\n",
       "        <td>2</td>\n",
       "        <td>3</td>\n",
       "        <td>First picture of a black hole has been taken</td>\n",
       "        <td>91.0</td>\n",
       "        <td>2.0</td>\n",
       "        <td>7367.0</td>\n",
       "        <td>27/11/2013</td>\n",
       "        <td>90</td>\n",
       "        <td>91</td>\n",
       "        <td>junuuki89</td>\n",
       "        <td>nsurgeoner2i@engadget.com</td>\n",
       "        <td>29/08/2013</td>\n",
       "        <td>171038.0</td>\n",
       "    </tr>\n",
       "    <tr>\n",
       "        <td>3</td>\n",
       "        <td>4</td>\n",
       "        <td>Scientists develop waterproof shoes</td>\n",
       "        <td>27.0</td>\n",
       "        <td>15.0</td>\n",
       "        <td>38476.0</td>\n",
       "        <td>29/12/2012</td>\n",
       "        <td>26</td>\n",
       "        <td>27</td>\n",
       "        <td>ldeshonq</td>\n",
       "        <td>bbazogeq@cbslocal.com</td>\n",
       "        <td>19/12/2006</td>\n",
       "        <td>167811.0</td>\n",
       "    </tr>\n",
       "    <tr>\n",
       "        <td>4</td>\n",
       "        <td>5</td>\n",
       "        <td>Running DOOM on a toaster</td>\n",
       "        <td>86.0</td>\n",
       "        <td>1.0</td>\n",
       "        <td>143728.0</td>\n",
       "        <td>22/10/2016</td>\n",
       "        <td>85</td>\n",
       "        <td>86</td>\n",
       "        <td>hassandri2d</td>\n",
       "        <td>sharvison2d@pagesperso-orange.fr</td>\n",
       "        <td>26/08/2010</td>\n",
       "        <td>256099.0</td>\n",
       "    </tr>\n",
       "    <tr>\n",
       "        <td>5</td>\n",
       "        <td>6</td>\n",
       "        <td>As a kid, you&#x27;re also watching your parents grow up</td>\n",
       "        <td>51.0</td>\n",
       "        <td>10.0</td>\n",
       "        <td>30249.0</td>\n",
       "        <td>22/07/2015</td>\n",
       "        <td>50</td>\n",
       "        <td>51</td>\n",
       "        <td>rneate1e</td>\n",
       "        <td>sseville1e@yandex.ru</td>\n",
       "        <td>12/08/2011</td>\n",
       "        <td>116273.0</td>\n",
       "    </tr>\n",
       "    <tr>\n",
       "        <td>6</td>\n",
       "        <td>7</td>\n",
       "        <td>Created some entertaining Christmas cards</td>\n",
       "        <td>64.0</td>\n",
       "        <td>3.0</td>\n",
       "        <td>18297.0</td>\n",
       "        <td>15/01/2012</td>\n",
       "        <td>63</td>\n",
       "        <td>64</td>\n",
       "        <td>kbrosini1r</td>\n",
       "        <td>jquested1r@army.mil</td>\n",
       "        <td>08/04/2007</td>\n",
       "        <td>139040.0</td>\n",
       "    </tr>\n",
       "    <tr>\n",
       "        <td>7</td>\n",
       "        <td>8</td>\n",
       "        <td>I am Gill Bates, founder of Macrohard. Ask me Anything.</td>\n",
       "        <td>7.0</td>\n",
       "        <td>11.0</td>\n",
       "        <td>96731.0</td>\n",
       "        <td>28/04/2019</td>\n",
       "        <td>6</td>\n",
       "        <td>7</td>\n",
       "        <td>ttroctor6</td>\n",
       "        <td>tblowfield6@ucoz.ru</td>\n",
       "        <td>23/06/2007</td>\n",
       "        <td>111915.0</td>\n",
       "    </tr>\n",
       "    <tr>\n",
       "        <td>8</td>\n",
       "        <td>9</td>\n",
       "        <td>Someone reverse engineered Super Mario... with Minecraft command blocks.</td>\n",
       "        <td>17.0</td>\n",
       "        <td>1.0</td>\n",
       "        <td>9196.0</td>\n",
       "        <td>21/12/2015</td>\n",
       "        <td>16</td>\n",
       "        <td>17</td>\n",
       "        <td>jzimekg</td>\n",
       "        <td>jcorcutg@icio.us</td>\n",
       "        <td>14/05/2013</td>\n",
       "        <td>106783.0</td>\n",
       "    </tr>\n",
       "    <tr>\n",
       "        <td>9</td>\n",
       "        <td>10</td>\n",
       "        <td>What is the most exciting personal project you&#x27;ve worked on?</td>\n",
       "        <td>40.0</td>\n",
       "        <td>1.0</td>\n",
       "        <td>70951.0</td>\n",
       "        <td>09/12/2019</td>\n",
       "        <td>39</td>\n",
       "        <td>40</td>\n",
       "        <td>penguinDev</td>\n",
       "        <td>studyhard.swe.2020@gmail.com</td>\n",
       "        <td>24/05/2014</td>\n",
       "        <td>112328.0</td>\n",
       "    </tr>\n",
       "</table>"
      ],
      "text/plain": [
       "[(0, 1, 'Delivery drones are being attacked by hawks', 89.0, 15.0, 40070.0, '21/10/2015', 88, 89, 'laskin2g', 'mmarley2g@deviantart.com', '25/07/2011', 268026.0),\n",
       " (1, 2, 'What is the best programming language to learn in 2020?', 90.0, 1.0, 9746.0, '03/02/2013', 89, 90, 'sciementini2h', 'lcrenshaw2h@issuu.com', '09/04/2008', 294170.0),\n",
       " (2, 3, 'First picture of a black hole has been taken', 91.0, 2.0, 7367.0, '27/11/2013', 90, 91, 'junuuki89', 'nsurgeoner2i@engadget.com', '29/08/2013', 171038.0),\n",
       " (3, 4, 'Scientists develop waterproof shoes', 27.0, 15.0, 38476.0, '29/12/2012', 26, 27, 'ldeshonq', 'bbazogeq@cbslocal.com', '19/12/2006', 167811.0),\n",
       " (4, 5, 'Running DOOM on a toaster', 86.0, 1.0, 143728.0, '22/10/2016', 85, 86, 'hassandri2d', 'sharvison2d@pagesperso-orange.fr', '26/08/2010', 256099.0),\n",
       " (5, 6, \"As a kid, you're also watching your parents grow up\", 51.0, 10.0, 30249.0, '22/07/2015', 50, 51, 'rneate1e', 'sseville1e@yandex.ru', '12/08/2011', 116273.0),\n",
       " (6, 7, 'Created some entertaining Christmas cards', 64.0, 3.0, 18297.0, '15/01/2012', 63, 64, 'kbrosini1r', 'jquested1r@army.mil', '08/04/2007', 139040.0),\n",
       " (7, 8, 'I am Gill Bates, founder of Macrohard. Ask me Anything.', 7.0, 11.0, 96731.0, '28/04/2019', 6, 7, 'ttroctor6', 'tblowfield6@ucoz.ru', '23/06/2007', 111915.0),\n",
       " (8, 9, 'Someone reverse engineered Super Mario... with Minecraft command blocks.', 17.0, 1.0, 9196.0, '21/12/2015', 16, 17, 'jzimekg', 'jcorcutg@icio.us', '14/05/2013', 106783.0),\n",
       " (9, 10, \"What is the most exciting personal project you've worked on?\", 40.0, 1.0, 70951.0, '09/12/2019', 39, 40, 'penguinDev', 'studyhard.swe.2020@gmail.com', '24/05/2014', 112328.0)]"
      ]
     },
     "execution_count": 29,
     "metadata": {},
     "output_type": "execute_result"
    }
   ],
   "source": [
    "%%sql\n",
    "select * \n",
    "from posts\n",
    "join users \n",
    "on posts.user_id = users.id\n",
    "limit 10;"
   ]
  },
  {
   "cell_type": "markdown",
   "id": "2b7ab740",
   "metadata": {},
   "source": [
    "Some new posts have been added to Reddit!\n",
    "\n",
    "Stack the new posts2 table under the existing posts table to see them."
   ]
  },
  {
   "cell_type": "code",
   "execution_count": 31,
   "id": "fce0a66d",
   "metadata": {},
   "outputs": [
    {
     "name": "stdout",
     "output_type": "stream",
     "text": [
      " * sqlite:///jupyter_sql.db\n",
      "Done.\n"
     ]
    },
    {
     "data": {
      "text/html": [
       "<table>\n",
       "    <tr>\n",
       "        <th>index</th>\n",
       "        <th>id</th>\n",
       "        <th>title</th>\n",
       "        <th>user_id</th>\n",
       "        <th>subreddit_id</th>\n",
       "        <th>score</th>\n",
       "        <th>created_date</th>\n",
       "    </tr>\n",
       "    <tr>\n",
       "        <td>0</td>\n",
       "        <td>1</td>\n",
       "        <td>Delivery drones are being attacked by hawks</td>\n",
       "        <td>89.0</td>\n",
       "        <td>15.0</td>\n",
       "        <td>40070.0</td>\n",
       "        <td>21/10/2015</td>\n",
       "    </tr>\n",
       "    <tr>\n",
       "        <td>0</td>\n",
       "        <td>1</td>\n",
       "        <td>Engineers create a mech suit capable of lifting 1 ton</td>\n",
       "        <td>72</td>\n",
       "        <td>15</td>\n",
       "        <td>35211</td>\n",
       "        <td>21/06/2020</td>\n",
       "    </tr>\n",
       "    <tr>\n",
       "        <td>1</td>\n",
       "        <td>2</td>\n",
       "        <td>New Pokeman games Axe and Spear announced</td>\n",
       "        <td>23</td>\n",
       "        <td>4</td>\n",
       "        <td>25031</td>\n",
       "        <td>23/05/2020</td>\n",
       "    </tr>\n",
       "    <tr>\n",
       "        <td>1</td>\n",
       "        <td>2</td>\n",
       "        <td>What is the best programming language to learn in 2020?</td>\n",
       "        <td>90.0</td>\n",
       "        <td>1.0</td>\n",
       "        <td>9746.0</td>\n",
       "        <td>03/02/2013</td>\n",
       "    </tr>\n",
       "    <tr>\n",
       "        <td>2</td>\n",
       "        <td>3</td>\n",
       "        <td>First picture of a black hole has been taken</td>\n",
       "        <td>91.0</td>\n",
       "        <td>2.0</td>\n",
       "        <td>7367.0</td>\n",
       "        <td>27/11/2013</td>\n",
       "    </tr>\n",
       "    <tr>\n",
       "        <td>2</td>\n",
       "        <td>3</td>\n",
       "        <td>If you could live in any fictional world, which one would it be?</td>\n",
       "        <td>4</td>\n",
       "        <td>12</td>\n",
       "        <td>37268</td>\n",
       "        <td>11/04/2020</td>\n",
       "    </tr>\n",
       "    <tr>\n",
       "        <td>3</td>\n",
       "        <td>4</td>\n",
       "        <td>Scientists develop waterproof shoes</td>\n",
       "        <td>27.0</td>\n",
       "        <td>15.0</td>\n",
       "        <td>38476.0</td>\n",
       "        <td>29/12/2012</td>\n",
       "    </tr>\n",
       "    <tr>\n",
       "        <td>3</td>\n",
       "        <td>4</td>\n",
       "        <td>Space elevator being developed</td>\n",
       "        <td>43</td>\n",
       "        <td>13</td>\n",
       "        <td>4275</td>\n",
       "        <td>26/04/2020</td>\n",
       "    </tr>\n",
       "    <tr>\n",
       "        <td>4</td>\n",
       "        <td>5</td>\n",
       "        <td>Man creates song using only rocks as the instruments</td>\n",
       "        <td>67</td>\n",
       "        <td>7</td>\n",
       "        <td>46117</td>\n",
       "        <td>19/07/2020</td>\n",
       "    </tr>\n",
       "    <tr>\n",
       "        <td>4</td>\n",
       "        <td>5</td>\n",
       "        <td>Running DOOM on a toaster</td>\n",
       "        <td>86.0</td>\n",
       "        <td>1.0</td>\n",
       "        <td>143728.0</td>\n",
       "        <td>22/10/2016</td>\n",
       "    </tr>\n",
       "</table>"
      ],
      "text/plain": [
       "[(0, 1, 'Delivery drones are being attacked by hawks', 89.0, 15.0, 40070.0, '21/10/2015'),\n",
       " (0, 1, 'Engineers create a mech suit capable of lifting 1 ton', 72, 15, 35211, '21/06/2020'),\n",
       " (1, 2, 'New Pokeman games Axe and Spear announced', 23, 4, 25031, '23/05/2020'),\n",
       " (1, 2, 'What is the best programming language to learn in 2020?', 90.0, 1.0, 9746.0, '03/02/2013'),\n",
       " (2, 3, 'First picture of a black hole has been taken', 91.0, 2.0, 7367.0, '27/11/2013'),\n",
       " (2, 3, 'If you could live in any fictional world, which one would it be?', 4, 12, 37268, '11/04/2020'),\n",
       " (3, 4, 'Scientists develop waterproof shoes', 27.0, 15.0, 38476.0, '29/12/2012'),\n",
       " (3, 4, 'Space elevator being developed', 43, 13, 4275, '26/04/2020'),\n",
       " (4, 5, 'Man creates song using only rocks as the instruments', 67, 7, 46117, '19/07/2020'),\n",
       " (4, 5, 'Running DOOM on a toaster', 86.0, 1.0, 143728.0, '22/10/2016')]"
      ]
     },
     "execution_count": 31,
     "metadata": {},
     "output_type": "execute_result"
    }
   ],
   "source": [
    "%%sql\n",
    "select * \n",
    "from posts \n",
    "UNION \n",
    "select *\n",
    "from posts2\n",
    "limit 10;"
   ]
  },
  {
   "cell_type": "markdown",
   "id": "067dcc1e",
   "metadata": {},
   "source": [
    " ## More advanced queries"
   ]
  },
  {
   "cell_type": "markdown",
   "id": "a1a65429",
   "metadata": {},
   "source": [
    "\n",
    "Now you need to find out which subreddits have the most popular posts. We’ll say that a post is popular if it has a score of at least 5000. We’ll do this using a WITH and a JOIN.\n",
    "\n",
    "First, you’ll need to create the temporary table that we’ll nest in the WITH clause by writing a query to select all the posts that have a score of at least 5000.\n",
    "\n",
    "Next, place the previous query within a WITH clause, and alias this table as popular_posts.\n",
    "\n",
    "Finally, utilize an INNER JOIN to join this table with the subreddits table, with subreddits as the left table. Select the subreddit name, the title and score of each post, and order the results by each popular post’s score in descending order."
   ]
  },
  {
   "cell_type": "code",
   "execution_count": 33,
   "id": "629c934f",
   "metadata": {},
   "outputs": [
    {
     "name": "stdout",
     "output_type": "stream",
     "text": [
      " * sqlite:///jupyter_sql.db\n",
      "Done.\n"
     ]
    },
    {
     "data": {
      "text/html": [
       "<table>\n",
       "    <tr>\n",
       "        <th>name</th>\n",
       "        <th>title</th>\n",
       "        <th>score</th>\n",
       "    </tr>\n",
       "    <tr>\n",
       "        <td>aww</td>\n",
       "        <td>Picture of a kitten</td>\n",
       "        <td>149176.0</td>\n",
       "    </tr>\n",
       "    <tr>\n",
       "        <td>programming</td>\n",
       "        <td>Running DOOM on a toaster</td>\n",
       "        <td>143728.0</td>\n",
       "    </tr>\n",
       "    <tr>\n",
       "        <td>news</td>\n",
       "        <td>Promising advances made toward cure for cancer</td>\n",
       "        <td>136532.0</td>\n",
       "    </tr>\n",
       "    <tr>\n",
       "        <td>programming</td>\n",
       "        <td>Codecademy releases their new database courses</td>\n",
       "        <td>133728.0</td>\n",
       "    </tr>\n",
       "    <tr>\n",
       "        <td>IAmA</td>\n",
       "        <td>I am Gill Bates, founder of Macrohard. Ask me Anything.</td>\n",
       "        <td>96731.0</td>\n",
       "    </tr>\n",
       "    <tr>\n",
       "        <td>videos</td>\n",
       "        <td>Codecademy programming tutorial videos</td>\n",
       "        <td>85347.0</td>\n",
       "    </tr>\n",
       "    <tr>\n",
       "        <td>programming</td>\n",
       "        <td>What is the most exciting personal project you&#x27;ve worked on?</td>\n",
       "        <td>70951.0</td>\n",
       "    </tr>\n",
       "    <tr>\n",
       "        <td>science</td>\n",
       "        <td>Clean water ice found just below Mars&#x27; surface</td>\n",
       "        <td>49477.0</td>\n",
       "    </tr>\n",
       "    <tr>\n",
       "        <td>Music</td>\n",
       "        <td>Playlist for programmers</td>\n",
       "        <td>49129.0</td>\n",
       "    </tr>\n",
       "    <tr>\n",
       "        <td>science</td>\n",
       "        <td>Paleontologists have dug up the skeleton of the ancestor of all dogs</td>\n",
       "        <td>48629.0</td>\n",
       "    </tr>\n",
       "</table>"
      ],
      "text/plain": [
       "[('aww', 'Picture of a kitten', 149176.0),\n",
       " ('programming', 'Running DOOM on a toaster', 143728.0),\n",
       " ('news', 'Promising advances made toward cure for cancer', 136532.0),\n",
       " ('programming', 'Codecademy releases their new database courses', 133728.0),\n",
       " ('IAmA', 'I am Gill Bates, founder of Macrohard. Ask me Anything.', 96731.0),\n",
       " ('videos', 'Codecademy programming tutorial videos', 85347.0),\n",
       " ('programming', \"What is the most exciting personal project you've worked on?\", 70951.0),\n",
       " ('science', \"Clean water ice found just below Mars' surface\", 49477.0),\n",
       " ('Music', 'Playlist for programmers', 49129.0),\n",
       " ('science', 'Paleontologists have dug up the skeleton of the ancestor of all dogs', 48629.0)]"
      ]
     },
     "execution_count": 33,
     "metadata": {},
     "output_type": "execute_result"
    }
   ],
   "source": [
    "%%sql\n",
    "With popular_posts as (\n",
    "    select * \n",
    "    from posts\n",
    "    where score > 5000\n",
    ")\n",
    "select subreddits.name, popular_posts.title, popular_posts.score\n",
    "from subreddits\n",
    "left join popular_posts\n",
    "on subreddits.id = popular_posts.subreddit_id\n",
    "order by popular_posts.score desc\n",
    "limit 10;"
   ]
  }
 ],
 "metadata": {
  "kernelspec": {
   "display_name": "Python 3",
   "language": "python",
   "name": "python3"
  },
  "language_info": {
   "codemirror_mode": {
    "name": "ipython",
    "version": 3
   },
   "file_extension": ".py",
   "mimetype": "text/x-python",
   "name": "python",
   "nbconvert_exporter": "python",
   "pygments_lexer": "ipython3",
   "version": "3.8.8"
  },
  "toc": {
   "base_numbering": 1,
   "nav_menu": {},
   "number_sections": true,
   "sideBar": true,
   "skip_h1_title": false,
   "title_cell": "Table of Contents",
   "title_sidebar": "Contents",
   "toc_cell": false,
   "toc_position": {},
   "toc_section_display": true,
   "toc_window_display": true
  },
  "varInspector": {
   "cols": {
    "lenName": 16,
    "lenType": 16,
    "lenVar": 40
   },
   "kernels_config": {
    "python": {
     "delete_cmd_postfix": "",
     "delete_cmd_prefix": "del ",
     "library": "var_list.py",
     "varRefreshCmd": "print(var_dic_list())"
    },
    "r": {
     "delete_cmd_postfix": ") ",
     "delete_cmd_prefix": "rm(",
     "library": "var_list.r",
     "varRefreshCmd": "cat(var_dic_list()) "
    }
   },
   "types_to_exclude": [
    "module",
    "function",
    "builtin_function_or_method",
    "instance",
    "_Feature"
   ],
   "window_display": false
  }
 },
 "nbformat": 4,
 "nbformat_minor": 5
}
