{
 "cells": [
  {
   "cell_type": "markdown",
   "metadata": {},
   "source": [
    "# Homework - Part 2 - Gaussian NB "
   ]
  },
  {
   "cell_type": "markdown",
   "metadata": {},
   "source": [
    "We use Gaussian NB to classify the Iris data base. Specifically:\n",
    "\n",
    "1. Load the iris database using load_iris from sklearn.datasets\n",
    "2. split the data into train and test so that test size is half the data. Use random state=0\n",
    "3. Use a Gaussian NB classifier to classify the test data\n",
    "4. How many incorrect clasisfications do you get?\n",
    "5. Print the parameters of the model"
   ]
  },
  {
   "cell_type": "markdown",
   "metadata": {},
   "source": [
    "## Solution"
   ]
  },
  {
   "cell_type": "code",
   "execution_count": 65,
   "metadata": {},
   "outputs": [],
   "source": [
    "# 1\n",
    "import numpy as np\n",
    "import matplotlib.pyplot as plt\n",
    "import pandas as pd\n",
    "from sklearn.model_selection import train_test_split\n",
    "from sklearn.metrics import make_scorer, accuracy_score,precision_score\n",
    "from sklearn.metrics import classification_report\n",
    "from sklearn.metrics import confusion_matrix\n",
    "from sklearn.metrics import accuracy_score ,precision_score,recall_score,f1_score\n",
    "# Loading the dataset\n",
    "from sklearn.datasets import load_iris\n",
    "iris = load_iris()"
   ]
  },
  {
   "cell_type": "code",
   "execution_count": 66,
   "metadata": {},
   "outputs": [],
   "source": [
    "# 2 \n",
    "X=iris.data\n",
    "y=iris.target\n",
    "X_train,X_test,y_train,y_test=train_test_split(X,y,test_size=0.5,random_state= 0)"
   ]
  },
  {
   "cell_type": "code",
   "execution_count": 67,
   "metadata": {},
   "outputs": [
    {
     "name": "stdout",
     "output_type": "stream",
     "text": [
      "Confusion matrix for Naive Bayes\n",
      " [[21  0  0]\n",
      " [ 0 30  0]\n",
      " [ 0  4 20]]\n",
      "accuracy_Naive Bayes: 0.947\n",
      "precision_Naive Bayes: 0.947\n",
      "recall_Naive Bayes: 0.947\n",
      "f1-score_Naive Bayes : 0.947\n"
     ]
    }
   ],
   "source": [
    "# 3. \n",
    "from sklearn.naive_bayes import GaussianNB\n",
    "gaussian = GaussianNB()\n",
    "gaussian.fit(X_train, y_train)\n",
    "Y_pred = gaussian.predict(X_test) \n",
    "accuracy_nb=round(accuracy_score(y_test,Y_pred)* 100, 2)\n",
    "acc_gaussian = round(gaussian.score(X_train, y_train) * 100, 2)\n",
    "\n",
    "cm = confusion_matrix(y_test, Y_pred)\n",
    "accuracy = accuracy_score(y_test,Y_pred)\n",
    "precision =precision_score(y_test, Y_pred,average='micro')\n",
    "recall =  recall_score(y_test, Y_pred,average='micro')\n",
    "f1 = f1_score(y_test,Y_pred,average='micro')\n",
    "print('Confusion matrix for Naive Bayes\\n',cm)\n",
    "print('accuracy_Naive Bayes: %.3f' %accuracy)\n",
    "print('precision_Naive Bayes: %.3f' %precision)\n",
    "print('recall_Naive Bayes: %.3f' %recall)\n",
    "print('f1-score_Naive Bayes : %.3f' %f1)"
   ]
  },
  {
   "cell_type": "markdown",
   "metadata": {},
   "source": [
    "## 4. We get 4/75 incorrect clasisfications "
   ]
  },
  {
   "cell_type": "code",
   "execution_count": 68,
   "metadata": {},
   "outputs": [
    {
     "name": "stdout",
     "output_type": "stream",
     "text": [
      "[0.38666667 0.26666667 0.34666667]\n"
     ]
    }
   ],
   "source": [
    "# 5. The parameters\n",
    "print(gaussian.class_prior_)\n",
    "#probability of each class."
   ]
  },
  {
   "cell_type": "code",
   "execution_count": 69,
   "metadata": {},
   "outputs": [
    {
     "name": "stdout",
     "output_type": "stream",
     "text": [
      "[[4.97586207 3.35862069 1.44827586 0.23448276]\n",
      " [5.935      2.71       4.185      1.3       ]\n",
      " [6.77692308 3.09230769 5.73461538 2.10769231]]\n"
     ]
    }
   ],
   "source": [
    "print(gaussian.theta_)\n",
    "#mean of each feature per class."
   ]
  },
  {
   "cell_type": "code",
   "execution_count": 70,
   "metadata": {},
   "outputs": [
    {
     "name": "stdout",
     "output_type": "stream",
     "text": [
      "[[0.10321047 0.13208086 0.01629013 0.00846612]\n",
      " [0.256275   0.0829     0.255275   0.046     ]\n",
      " [0.38869823 0.10147929 0.31303255 0.04763314]]\n"
     ]
    }
   ],
   "source": [
    "print(gaussian.sigma_)\n",
    "# variance of each feature per class"
   ]
  },
  {
   "cell_type": "code",
   "execution_count": 72,
   "metadata": {},
   "outputs": [
    {
     "name": "stdout",
     "output_type": "stream",
     "text": [
      "[[0.32126386 0.36342931 0.12763281 0.0920115 ]\n",
      " [0.50623611 0.28792361 0.50524747 0.21447611]\n",
      " [0.62345668 0.31855815 0.55949312 0.21825018]]\n"
     ]
    }
   ],
   "source": [
    "print(np.sqrt(gaussian.sigma_))\n",
    "# standart deviation of each feature per class"
   ]
  },
  {
   "cell_type": "code",
   "execution_count": null,
   "metadata": {},
   "outputs": [],
   "source": []
  },
  {
   "cell_type": "code",
   "execution_count": null,
   "metadata": {},
   "outputs": [],
   "source": []
  }
 ],
 "metadata": {
  "kernelspec": {
   "display_name": "Python 3",
   "language": "python",
   "name": "python3"
  },
  "language_info": {
   "codemirror_mode": {
    "name": "ipython",
    "version": 3
   },
   "file_extension": ".py",
   "mimetype": "text/x-python",
   "name": "python",
   "nbconvert_exporter": "python",
   "pygments_lexer": "ipython3",
   "version": "3.8.8"
  }
 },
 "nbformat": 4,
 "nbformat_minor": 2
}
